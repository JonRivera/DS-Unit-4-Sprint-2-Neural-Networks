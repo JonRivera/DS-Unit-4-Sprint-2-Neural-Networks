{
 "cells": [
  {
   "cell_type": "markdown",
   "metadata": {},
   "source": [
    "<img align=\"left\" src=\"https://lever-client-logos.s3.amazonaws.com/864372b1-534c-480e-acd5-9711f850815c-1524247202159.png\" width=200>\n",
    "<br></br>\n",
    "<br></br>\n",
    "\n",
    "## *Data Science Unit 4 Sprint 2*\n",
    "\n",
    "# Sprint Challenge - Neural Network Foundations - Jonatan Rivera\n",
    "\n",
    "Table of Problems\n",
    "\n",
    "1. [Defining Neural Networks](#Q1)\n",
    "2. [Simple Perceptron](#Q2)\n",
    "    - Perceptron\n",
    "    - Multilayer Perceptron\n",
    "    - Analyze and Compare\n",
    "4. [Keras MMP](#Q3)"
   ]
  },
  {
   "cell_type": "markdown",
   "metadata": {},
   "source": [
    "<a id=\"Q1\"></a>\n",
    "## 1. Defining Neural Networks \n",
    "\n",
    "# Write *your own* definitions for the following terms:\n",
    "\n",
    "- **Neuron:**\n",
    "Within an artificial neural network, a neuron is a mathematical function that mimics a biological neuron. Typically, a neuron computes the weighted sum of its input, and this sum is passed through a nonlinear function, often called activation function, such as the sigmoid. \n",
    "- **Input Layer:**\n",
    "Input layer — initial data for the neural network.\n",
    "- **Hidden Layer:**\n",
    "intermediate layer between input and output layer and place where all the computation is done.\n",
    "- **Output Layer:**\n",
    "produce the result for given inputs.\n",
    "- **Activation Function:**\n",
    "In Neural Network the activation function defines if given node should be “activated” or not based on the weighted sum"
   ]
  },
  {
   "cell_type": "markdown",
   "metadata": {},
   "source": [
    "# Explain how back propagation works as if you were explaining it to a five year-old. Use your own words, but feel free to reference external materials for this question. "
   ]
  },
  {
   "cell_type": "markdown",
   "metadata": {},
   "source": [
    "As I understand it, backpropagation is a process that allows us  to update or weights based on the gradient of the loss function with respect to the weights of the network.\n",
    "In otherwords, we can improve our nueronetwork by updating the weights using this process,which ultimately has an impact on how the input data is better processed to help us get the \n",
    "best possible prediction.\n"
   ]
  },
  {
   "cell_type": "markdown",
   "metadata": {},
   "source": [
    "# Remember our Simple Perceptron Class from Monday. In a simple prediction describe the process of making a prediction. How do you go from inputs to predicted output."
   ]
  },
  {
   "cell_type": "markdown",
   "metadata": {},
   "source": [
    "A simple perceprton consists of four main things Input values, Weights and Bias,the Net sum, and an Activation Function. The process begins by some input data, then the data gets process into a layer that computes the weighted some only to later be passed into the activated function so that we can get a predicted output. \n"
   ]
  },
  {
   "cell_type": "markdown",
   "metadata": {},
   "source": [
    "<a id=\"Q2\"></a>\n",
    "## 2. Simple Perceptron\n",
    "\n",
    "In this question, you will build two neural networks using Tensorflow Keras. After you build these two models, compare the results of the model."
   ]
  },
  {
   "cell_type": "code",
   "execution_count": 65,
   "metadata": {},
   "outputs": [],
   "source": [
    "\"\"\"\n",
    "Our Dataset\n",
    "\"\"\"\n",
    "import numpy as np\n",
    "\n",
    "xx, yy = np.meshgrid(np.linspace(-3, 3, 50),\n",
    "                     np.linspace(-3, 3, 50))\n",
    "rng = np.random.RandomState(0)\n",
    "\n",
    "\"Use this X & y in the following 2 models\"\n",
    "X = rng.randn(300, 2)\n",
    "y = np.array(np.logical_xor(X[:, 0] > 0, X[:, 1] > 0), \n",
    "             dtype=int)"
   ]
  },
  {
   "cell_type": "code",
   "execution_count": 66,
   "metadata": {},
   "outputs": [],
   "source": [
    "from tensorflow.keras.models import Sequential\n",
    "from tensorflow.keras.layers import Dense\n"
   ]
  },
  {
   "cell_type": "markdown",
   "metadata": {},
   "source": [
    "### Simple Perceptron\n",
    "Construct a simple perceptron using Keras. You model should have 1 dense layer with a single neuron and a sigmoid activation function. Your model should be called `model1` and make sure to save the results of your fit statement to a variable called `h1`. "
   ]
  },
  {
   "cell_type": "code",
   "execution_count": 67,
   "metadata": {},
   "outputs": [
    {
     "name": "stdout",
     "output_type": "stream",
     "text": [
      "Epoch 1/5\n",
      "10/10 [==============================] - 0s 715us/step - loss: 0.9167 - accuracy: 0.5000\n",
      "Epoch 2/5\n",
      "10/10 [==============================] - 0s 661us/step - loss: 0.9138 - accuracy: 0.5000\n",
      "Epoch 3/5\n",
      "10/10 [==============================] - 0s 1ms/step - loss: 0.9107 - accuracy: 0.5000\n",
      "Epoch 4/5\n",
      "10/10 [==============================] - 0s 1ms/step - loss: 0.9077 - accuracy: 0.5000\n",
      "Epoch 5/5\n",
      "10/10 [==============================] - 0s 982us/step - loss: 0.9048 - accuracy: 0.5000\n"
     ]
    }
   ],
   "source": [
    "\n",
    "# Construct simple perceptron\n",
    "model1 = Sequential()\n",
    "model1.add(Dense(1,input_dim=2, activation='sigmoid'))\n",
    "model1.compile(loss='binary_crossentropy', optimizer='adam', metrics=['accuracy'])\n",
    "h1 = model1.fit(X,y, epochs=5)"
   ]
  },
  {
   "cell_type": "markdown",
   "metadata": {},
   "source": [
    "\n",
    "### Multi-Layer Perceptron\n",
    "Now construct a multi-layer perceptron using. Here are some architecture suggestions: \n",
    "- 2 Hidden Layers\n",
    "- 5-32 Neurons in the Hidden Layers\n",
    "- Your pick of activation function and optimizer\n",
    "- Incorporate the Callback function below into your model\n",
    "\n",
    "Your model should be called `model2` and make sure to save the results of your fit statement to a variable called `h2`. "
   ]
  },
  {
   "cell_type": "code",
   "execution_count": 68,
   "metadata": {},
   "outputs": [
    {
     "data": {
      "text/plain": [
       "((300, 2), (300,))"
      ]
     },
     "execution_count": 68,
     "metadata": {},
     "output_type": "execute_result"
    }
   ],
   "source": [
    "# Identify shape of data\n",
    "X.shape , y.shape"
   ]
  },
  {
   "cell_type": "code",
   "execution_count": 69,
   "metadata": {},
   "outputs": [
    {
     "data": {
      "text/plain": [
       "((240, 2), (60, 2), (240,), (60,))"
      ]
     },
     "execution_count": 69,
     "metadata": {},
     "output_type": "execute_result"
    }
   ],
   "source": [
    "# Split and scale the data\n",
    "import numpy as np\n",
    "from sklearn.model_selection import train_test_split\n",
    "X_train, X_val,y_train, y_val = train_test_split(X, y, test_size=0.20, random_state=42)\n",
    "#Check shape of train val split\n",
    "X_train.shape, X_val.shape, y_train.shape, y_val.shape"
   ]
  },
  {
   "cell_type": "code",
   "execution_count": 70,
   "metadata": {},
   "outputs": [],
   "source": [
    "# Construct mycallback class will be instantiate later\n",
    "import tensorflow as tf\n",
    "class myCallback(tf.keras.callbacks.Callback): \n",
    "    def on_epoch_end(self, epoch, logs={}): \n",
    "        if(logs.get('accuracy') > .99999):   \n",
    "            self.model.stop_training = True\n"
   ]
  },
  {
   "cell_type": "code",
   "execution_count": 72,
   "metadata": {},
   "outputs": [
    {
     "name": "stdout",
     "output_type": "stream",
     "text": [
      "Epoch 1/99\n",
      "WARNING:tensorflow:Model was constructed with shape (None, 240, 2) for input Tensor(\"dense_68_input:0\", shape=(None, 240, 2), dtype=float32), but it was called on an input with incompatible shape (None, 2).\n",
      "WARNING:tensorflow:Model was constructed with shape (None, 240, 2) for input Tensor(\"dense_68_input:0\", shape=(None, 240, 2), dtype=float32), but it was called on an input with incompatible shape (None, 2).\n",
      "1/8 [==>...........................] - ETA: 0s - loss: 3.3794 - accuracy: 0.0000e+00WARNING:tensorflow:Model was constructed with shape (None, 240, 2) for input Tensor(\"dense_68_input:0\", shape=(None, 240, 2), dtype=float32), but it was called on an input with incompatible shape (None, 2).\n",
      "8/8 [==============================] - 0s 14ms/step - loss: 3.2548 - accuracy: 0.4833 - val_loss: 3.0935 - val_accuracy: 0.5833\n",
      "Epoch 2/99\n",
      "8/8 [==============================] - 0s 3ms/step - loss: 2.9794 - accuracy: 0.6542 - val_loss: 2.8326 - val_accuracy: 0.5833\n",
      "Epoch 3/99\n",
      "8/8 [==============================] - 0s 4ms/step - loss: 2.7208 - accuracy: 0.6625 - val_loss: 2.5880 - val_accuracy: 0.5333\n",
      "Epoch 4/99\n",
      "8/8 [==============================] - 0s 3ms/step - loss: 2.4842 - accuracy: 0.6667 - val_loss: 2.3624 - val_accuracy: 0.5000\n",
      "Epoch 5/99\n",
      "8/8 [==============================] - 0s 3ms/step - loss: 2.2668 - accuracy: 0.6667 - val_loss: 2.1567 - val_accuracy: 0.5167\n",
      "Epoch 6/99\n",
      "8/8 [==============================] - 0s 3ms/step - loss: 2.0688 - accuracy: 0.6833 - val_loss: 1.9713 - val_accuracy: 0.5333\n",
      "Epoch 7/99\n",
      "8/8 [==============================] - 0s 3ms/step - loss: 1.8888 - accuracy: 0.6667 - val_loss: 1.8054 - val_accuracy: 0.5167\n",
      "Epoch 8/99\n",
      "8/8 [==============================] - 0s 4ms/step - loss: 1.7275 - accuracy: 0.6000 - val_loss: 1.6578 - val_accuracy: 0.4667\n",
      "Epoch 9/99\n",
      "8/8 [==============================] - 0s 4ms/step - loss: 1.5829 - accuracy: 0.5542 - val_loss: 1.5275 - val_accuracy: 0.4500\n",
      "Epoch 10/99\n",
      "8/8 [==============================] - 0s 3ms/step - loss: 1.4548 - accuracy: 0.5458 - val_loss: 1.4131 - val_accuracy: 0.4500\n",
      "Epoch 11/99\n",
      "8/8 [==============================] - 0s 3ms/step - loss: 1.3424 - accuracy: 0.5458 - val_loss: 1.3152 - val_accuracy: 0.4500\n",
      "Epoch 12/99\n",
      "8/8 [==============================] - 0s 3ms/step - loss: 1.2463 - accuracy: 0.5458 - val_loss: 1.2320 - val_accuracy: 0.4500\n",
      "Epoch 13/99\n",
      "8/8 [==============================] - 0s 3ms/step - loss: 1.1649 - accuracy: 0.5458 - val_loss: 1.1624 - val_accuracy: 0.4500\n",
      "Epoch 14/99\n",
      "8/8 [==============================] - 0s 3ms/step - loss: 1.0932 - accuracy: 0.5458 - val_loss: 1.0976 - val_accuracy: 0.4500\n",
      "Epoch 15/99\n",
      "8/8 [==============================] - 0s 3ms/step - loss: 1.0292 - accuracy: 0.5792 - val_loss: 1.0418 - val_accuracy: 0.4833\n",
      "Epoch 16/99\n",
      "8/8 [==============================] - 0s 3ms/step - loss: 0.9689 - accuracy: 0.6958 - val_loss: 0.9958 - val_accuracy: 0.5500\n",
      "Epoch 17/99\n",
      "8/8 [==============================] - 0s 3ms/step - loss: 0.9126 - accuracy: 0.7208 - val_loss: 0.9507 - val_accuracy: 0.6167\n",
      "Epoch 18/99\n",
      "8/8 [==============================] - 0s 3ms/step - loss: 0.8570 - accuracy: 0.7708 - val_loss: 0.8986 - val_accuracy: 0.6667\n",
      "Epoch 19/99\n",
      "8/8 [==============================] - 0s 3ms/step - loss: 0.8033 - accuracy: 0.8333 - val_loss: 0.8541 - val_accuracy: 0.7500\n",
      "Epoch 20/99\n",
      "8/8 [==============================] - 0s 3ms/step - loss: 0.7518 - accuracy: 0.8458 - val_loss: 0.8133 - val_accuracy: 0.7667\n",
      "Epoch 21/99\n",
      "8/8 [==============================] - 0s 3ms/step - loss: 0.7038 - accuracy: 0.8625 - val_loss: 0.7657 - val_accuracy: 0.8167\n",
      "Epoch 22/99\n",
      "8/8 [==============================] - 0s 3ms/step - loss: 0.6563 - accuracy: 0.8833 - val_loss: 0.7327 - val_accuracy: 0.8167\n",
      "Epoch 23/99\n",
      "8/8 [==============================] - 0s 3ms/step - loss: 0.6167 - accuracy: 0.8958 - val_loss: 0.6937 - val_accuracy: 0.8000\n",
      "Epoch 24/99\n",
      "8/8 [==============================] - 0s 3ms/step - loss: 0.5777 - accuracy: 0.9125 - val_loss: 0.6647 - val_accuracy: 0.8167\n",
      "Epoch 25/99\n",
      "8/8 [==============================] - 0s 3ms/step - loss: 0.5415 - accuracy: 0.9333 - val_loss: 0.6257 - val_accuracy: 0.8667\n",
      "Epoch 26/99\n",
      "8/8 [==============================] - 0s 3ms/step - loss: 0.5102 - accuracy: 0.9375 - val_loss: 0.5947 - val_accuracy: 0.8833\n",
      "Epoch 27/99\n",
      "8/8 [==============================] - 0s 3ms/step - loss: 0.4804 - accuracy: 0.9417 - val_loss: 0.5687 - val_accuracy: 0.8833\n",
      "Epoch 28/99\n",
      "8/8 [==============================] - 0s 3ms/step - loss: 0.4532 - accuracy: 0.9417 - val_loss: 0.5487 - val_accuracy: 0.8833\n",
      "Epoch 29/99\n",
      "8/8 [==============================] - 0s 3ms/step - loss: 0.4282 - accuracy: 0.9417 - val_loss: 0.5233 - val_accuracy: 0.8833\n",
      "Epoch 30/99\n",
      "8/8 [==============================] - 0s 3ms/step - loss: 0.4040 - accuracy: 0.9542 - val_loss: 0.4991 - val_accuracy: 0.9000\n",
      "Epoch 31/99\n",
      "8/8 [==============================] - 0s 3ms/step - loss: 0.3827 - accuracy: 0.9625 - val_loss: 0.4770 - val_accuracy: 0.9000\n",
      "Epoch 32/99\n",
      "8/8 [==============================] - 0s 3ms/step - loss: 0.3622 - accuracy: 0.9625 - val_loss: 0.4583 - val_accuracy: 0.9000\n",
      "Epoch 33/99\n",
      "8/8 [==============================] - 0s 3ms/step - loss: 0.3435 - accuracy: 0.9667 - val_loss: 0.4412 - val_accuracy: 0.9000\n",
      "Epoch 34/99\n",
      "8/8 [==============================] - 0s 3ms/step - loss: 0.3263 - accuracy: 0.9708 - val_loss: 0.4273 - val_accuracy: 0.9000\n",
      "Epoch 35/99\n",
      "8/8 [==============================] - 0s 3ms/step - loss: 0.3103 - accuracy: 0.9792 - val_loss: 0.4074 - val_accuracy: 0.9000\n",
      "Epoch 36/99\n",
      "8/8 [==============================] - 0s 3ms/step - loss: 0.2952 - accuracy: 0.9750 - val_loss: 0.3969 - val_accuracy: 0.9000\n",
      "Epoch 37/99\n",
      "8/8 [==============================] - 0s 3ms/step - loss: 0.2814 - accuracy: 0.9750 - val_loss: 0.3830 - val_accuracy: 0.9000\n",
      "Epoch 38/99\n",
      "8/8 [==============================] - 0s 3ms/step - loss: 0.2687 - accuracy: 0.9750 - val_loss: 0.3727 - val_accuracy: 0.9000\n",
      "Epoch 39/99\n",
      "8/8 [==============================] - 0s 3ms/step - loss: 0.2565 - accuracy: 0.9750 - val_loss: 0.3598 - val_accuracy: 0.9167\n",
      "Epoch 40/99\n",
      "8/8 [==============================] - 0s 3ms/step - loss: 0.2456 - accuracy: 0.9833 - val_loss: 0.3487 - val_accuracy: 0.9333\n",
      "Epoch 41/99\n",
      "8/8 [==============================] - 0s 3ms/step - loss: 0.2348 - accuracy: 0.9917 - val_loss: 0.3346 - val_accuracy: 0.9333\n",
      "Epoch 42/99\n",
      "8/8 [==============================] - 0s 3ms/step - loss: 0.2253 - accuracy: 0.9875 - val_loss: 0.3230 - val_accuracy: 0.9333\n",
      "Epoch 43/99\n",
      "8/8 [==============================] - 0s 3ms/step - loss: 0.2169 - accuracy: 0.9875 - val_loss: 0.3104 - val_accuracy: 0.9333\n",
      "Epoch 44/99\n",
      "8/8 [==============================] - 0s 3ms/step - loss: 0.2085 - accuracy: 0.9917 - val_loss: 0.3135 - val_accuracy: 0.9333\n",
      "Epoch 45/99\n",
      "8/8 [==============================] - 0s 3ms/step - loss: 0.1994 - accuracy: 0.9917 - val_loss: 0.3049 - val_accuracy: 0.9333\n",
      "Epoch 46/99\n",
      "8/8 [==============================] - 0s 3ms/step - loss: 0.1919 - accuracy: 0.9958 - val_loss: 0.2935 - val_accuracy: 0.9333\n",
      "Epoch 47/99\n",
      "8/8 [==============================] - 0s 3ms/step - loss: 0.1847 - accuracy: 0.9958 - val_loss: 0.2887 - val_accuracy: 0.9333\n",
      "Epoch 48/99\n",
      "8/8 [==============================] - 0s 3ms/step - loss: 0.1782 - accuracy: 0.9958 - val_loss: 0.2813 - val_accuracy: 0.9333\n",
      "Epoch 49/99\n",
      "8/8 [==============================] - 0s 3ms/step - loss: 0.1719 - accuracy: 0.9958 - val_loss: 0.2700 - val_accuracy: 0.9500\n",
      "Epoch 50/99\n",
      "8/8 [==============================] - 0s 3ms/step - loss: 0.1659 - accuracy: 0.9958 - val_loss: 0.2646 - val_accuracy: 0.9333\n",
      "Epoch 51/99\n",
      "8/8 [==============================] - 0s 3ms/step - loss: 0.1605 - accuracy: 0.9958 - val_loss: 0.2628 - val_accuracy: 0.9500\n",
      "Epoch 52/99\n",
      "8/8 [==============================] - 0s 3ms/step - loss: 0.1548 - accuracy: 0.9958 - val_loss: 0.2546 - val_accuracy: 0.9500\n",
      "Epoch 53/99\n",
      "8/8 [==============================] - 0s 3ms/step - loss: 0.1498 - accuracy: 0.9958 - val_loss: 0.2469 - val_accuracy: 0.9500\n",
      "Epoch 54/99\n",
      "8/8 [==============================] - 0s 3ms/step - loss: 0.1452 - accuracy: 0.9958 - val_loss: 0.2423 - val_accuracy: 0.9500\n",
      "Epoch 55/99\n",
      "8/8 [==============================] - 0s 3ms/step - loss: 0.1407 - accuracy: 0.9958 - val_loss: 0.2337 - val_accuracy: 0.9500\n",
      "Epoch 56/99\n",
      "8/8 [==============================] - 0s 3ms/step - loss: 0.1360 - accuracy: 1.0000 - val_loss: 0.2318 - val_accuracy: 0.9500\n"
     ]
    }
   ],
   "source": [
    "# Import modules to implement early stopping in model, and tensorboard to visualize runs if have time\n",
    "from tensorflow.keras.callbacks import EarlyStopping, TensorBoard\n",
    "import tensorflow as tf\n",
    "import os\n",
    "\n",
    "logdir = os.path.join(\"logs\", \"EarlyStopping-Loss\")\n",
    "\n",
    "# Instantitate mycallback\n",
    "call_back = myCallback()\n",
    "stop = EarlyStopping(monitor='val_loss', min_delta=0.01, patience=3)\n",
    "\n",
    "def create_model(units=30, activation='relu', learning_rate=.01):\n",
    "    \"\"\" This function creates a multilayer perceptron \"\"\"\n",
    "    model = tf.keras.Sequential(\n",
    "       [Dense(units=units,input_shape=(240,2), activation=activation),\n",
    "       Dense(units=30,activation = 'softmax'),\n",
    "       Dense(30, activation ='softmax')])\n",
    "    model.compile(\n",
    "      optimizer= tf.keras.optimizers.Adamax(learning_rate=learning_rate),\n",
    "      loss='sparse_categorical_crossentropy',\n",
    "      metrics=['accuracy'])\n",
    "    return model\n",
    "model2 = create_model()\n",
    "\n",
    "\n",
    "h2 = model2.fit(X_train, y_train, epochs=99, \n",
    "          validation_data=(X_val,y_val),\n",
    "          callbacks=[myCallback(), stop])"
   ]
  },
  {
   "cell_type": "markdown",
   "metadata": {},
   "source": [
    "### Analyze and Compare\n",
    "\n",
    "**Before you Start**: You will need to install an additional library for this next segment. Install the package `mlxtend` into the environment you are using for the sprint challenge.\n",
    "\n",
    "\n",
    "The cells below generate decision boundary plots of your models (`model1` & `model2`). Review the plots."
   ]
  },
  {
   "cell_type": "code",
   "execution_count": 73,
   "metadata": {},
   "outputs": [
    {
     "name": "stdout",
     "output_type": "stream",
     "text": [
      "Requirement already satisfied: mlxtend in /Users/johnrivera/.virtualenvs/DS-Unit-4-Sprint-2-Neural-Networks-Hdtrba5g/lib/python3.8/site-packages (0.17.3)\n",
      "Requirement already satisfied: matplotlib>=3.0.0 in /Users/johnrivera/.virtualenvs/DS-Unit-4-Sprint-2-Neural-Networks-Hdtrba5g/lib/python3.8/site-packages (from mlxtend) (3.3.1)\n",
      "Requirement already satisfied: pandas>=0.24.2 in /Users/johnrivera/.virtualenvs/DS-Unit-4-Sprint-2-Neural-Networks-Hdtrba5g/lib/python3.8/site-packages (from mlxtend) (1.1.2)\n",
      "Requirement already satisfied: numpy>=1.16.2 in /Users/johnrivera/.virtualenvs/DS-Unit-4-Sprint-2-Neural-Networks-Hdtrba5g/lib/python3.8/site-packages (from mlxtend) (1.18.5)\n",
      "Requirement already satisfied: scikit-learn>=0.20.3 in /Users/johnrivera/.virtualenvs/DS-Unit-4-Sprint-2-Neural-Networks-Hdtrba5g/lib/python3.8/site-packages (from mlxtend) (0.23.2)\n",
      "Requirement already satisfied: joblib>=0.13.2 in /Users/johnrivera/.virtualenvs/DS-Unit-4-Sprint-2-Neural-Networks-Hdtrba5g/lib/python3.8/site-packages (from mlxtend) (0.16.0)\n",
      "Requirement already satisfied: setuptools in /Users/johnrivera/.virtualenvs/DS-Unit-4-Sprint-2-Neural-Networks-Hdtrba5g/lib/python3.8/site-packages (from mlxtend) (49.2.1)\n",
      "Requirement already satisfied: scipy>=1.2.1 in /Users/johnrivera/.virtualenvs/DS-Unit-4-Sprint-2-Neural-Networks-Hdtrba5g/lib/python3.8/site-packages (from mlxtend) (1.4.1)\n",
      "Requirement already satisfied: python-dateutil>=2.1 in /Users/johnrivera/.virtualenvs/DS-Unit-4-Sprint-2-Neural-Networks-Hdtrba5g/lib/python3.8/site-packages (from matplotlib>=3.0.0->mlxtend) (2.8.1)\n",
      "Requirement already satisfied: pillow>=6.2.0 in /Users/johnrivera/.virtualenvs/DS-Unit-4-Sprint-2-Neural-Networks-Hdtrba5g/lib/python3.8/site-packages (from matplotlib>=3.0.0->mlxtend) (7.2.0)\n",
      "Requirement already satisfied: certifi>=2020.06.20 in /Users/johnrivera/.virtualenvs/DS-Unit-4-Sprint-2-Neural-Networks-Hdtrba5g/lib/python3.8/site-packages (from matplotlib>=3.0.0->mlxtend) (2020.6.20)\n",
      "Requirement already satisfied: cycler>=0.10 in /Users/johnrivera/.virtualenvs/DS-Unit-4-Sprint-2-Neural-Networks-Hdtrba5g/lib/python3.8/site-packages (from matplotlib>=3.0.0->mlxtend) (0.10.0)\n",
      "Requirement already satisfied: pyparsing!=2.0.4,!=2.1.2,!=2.1.6,>=2.0.3 in /Users/johnrivera/.virtualenvs/DS-Unit-4-Sprint-2-Neural-Networks-Hdtrba5g/lib/python3.8/site-packages (from matplotlib>=3.0.0->mlxtend) (2.4.7)\n",
      "Requirement already satisfied: kiwisolver>=1.0.1 in /Users/johnrivera/.virtualenvs/DS-Unit-4-Sprint-2-Neural-Networks-Hdtrba5g/lib/python3.8/site-packages (from matplotlib>=3.0.0->mlxtend) (1.2.0)\n",
      "Requirement already satisfied: pytz>=2017.2 in /Users/johnrivera/.virtualenvs/DS-Unit-4-Sprint-2-Neural-Networks-Hdtrba5g/lib/python3.8/site-packages (from pandas>=0.24.2->mlxtend) (2020.1)\n",
      "Requirement already satisfied: threadpoolctl>=2.0.0 in /Users/johnrivera/.virtualenvs/DS-Unit-4-Sprint-2-Neural-Networks-Hdtrba5g/lib/python3.8/site-packages (from scikit-learn>=0.20.3->mlxtend) (2.1.0)\n",
      "Requirement already satisfied: six>=1.5 in /Users/johnrivera/.virtualenvs/DS-Unit-4-Sprint-2-Neural-Networks-Hdtrba5g/lib/python3.8/site-packages (from python-dateutil>=2.1->matplotlib>=3.0.0->mlxtend) (1.15.0)\n"
     ]
    }
   ],
   "source": [
    "!pip install mlxtend"
   ]
  },
  {
   "cell_type": "code",
   "execution_count": 74,
   "metadata": {},
   "outputs": [
    {
     "name": "stdout",
     "output_type": "stream",
     "text": [
      "WARNING:tensorflow:Model was constructed with shape (None, 240, 2) for input Tensor(\"dense_68_input:0\", shape=(None, 240, 2), dtype=float32), but it was called on an input with incompatible shape (32, 2).\n"
     ]
    },
    {
     "ename": "ValueError",
     "evalue": "cannot reshape array of size 11197440 into shape (432,864)",
     "output_type": "error",
     "traceback": [
      "\u001b[0;31m---------------------------------------------------------------------------\u001b[0m",
      "\u001b[0;31mValueError\u001b[0m                                Traceback (most recent call last)",
      "\u001b[0;32m<ipython-input-74-c2f9b7afbd9c>\u001b[0m in \u001b[0;36m<module>\u001b[0;34m\u001b[0m\n\u001b[1;32m     18\u001b[0m \u001b[0;34m\u001b[0m\u001b[0m\n\u001b[1;32m     19\u001b[0m     \u001b[0max\u001b[0m \u001b[0;34m=\u001b[0m \u001b[0mplt\u001b[0m\u001b[0;34m.\u001b[0m\u001b[0msubplot\u001b[0m\u001b[0;34m(\u001b[0m\u001b[0;36m1\u001b[0m\u001b[0;34m,\u001b[0m\u001b[0;36m2\u001b[0m\u001b[0;34m,\u001b[0m \u001b[0mgrd\u001b[0m\u001b[0;34m)\u001b[0m\u001b[0;34m\u001b[0m\u001b[0;34m\u001b[0m\u001b[0m\n\u001b[0;32m---> 20\u001b[0;31m     \u001b[0mfig\u001b[0m \u001b[0;34m=\u001b[0m \u001b[0mplot_decision_regions\u001b[0m\u001b[0;34m(\u001b[0m\u001b[0mX\u001b[0m\u001b[0;34m=\u001b[0m\u001b[0mX\u001b[0m\u001b[0;34m,\u001b[0m \u001b[0my\u001b[0m\u001b[0;34m=\u001b[0m\u001b[0my\u001b[0m\u001b[0;34m,\u001b[0m \u001b[0mclf\u001b[0m\u001b[0;34m=\u001b[0m\u001b[0mclf\u001b[0m\u001b[0;34m,\u001b[0m \u001b[0mlegend\u001b[0m\u001b[0;34m=\u001b[0m\u001b[0;36m2\u001b[0m\u001b[0;34m)\u001b[0m\u001b[0;34m\u001b[0m\u001b[0;34m\u001b[0m\u001b[0m\n\u001b[0m\u001b[1;32m     21\u001b[0m     \u001b[0mtitle\u001b[0m \u001b[0;34m=\u001b[0m \u001b[0;34mf\"{name} with {hist.history['accuracy'][-1]:,.2f} Accuracy\"\u001b[0m\u001b[0;34m\u001b[0m\u001b[0;34m\u001b[0m\u001b[0m\n\u001b[1;32m     22\u001b[0m     \u001b[0mplt\u001b[0m\u001b[0;34m.\u001b[0m\u001b[0mtitle\u001b[0m\u001b[0;34m(\u001b[0m\u001b[0mtitle\u001b[0m\u001b[0;34m)\u001b[0m\u001b[0;34m\u001b[0m\u001b[0;34m\u001b[0m\u001b[0m\n",
      "\u001b[0;32m~/.virtualenvs/DS-Unit-4-Sprint-2-Neural-Networks-Hdtrba5g/lib/python3.8/site-packages/mlxtend/plotting/decision_regions.py\u001b[0m in \u001b[0;36mplot_decision_regions\u001b[0;34m(X, y, clf, feature_index, filler_feature_values, filler_feature_ranges, ax, X_highlight, res, zoom_factor, legend, hide_spines, markers, colors, scatter_kwargs, contourf_kwargs, scatter_highlight_kwargs)\u001b[0m\n\u001b[1;32m    229\u001b[0m                 \u001b[0mX_predict\u001b[0m\u001b[0;34m[\u001b[0m\u001b[0;34m:\u001b[0m\u001b[0;34m,\u001b[0m \u001b[0mfeature_idx\u001b[0m\u001b[0;34m]\u001b[0m \u001b[0;34m=\u001b[0m \u001b[0mfiller_feature_values\u001b[0m\u001b[0;34m[\u001b[0m\u001b[0mfeature_idx\u001b[0m\u001b[0;34m]\u001b[0m\u001b[0;34m\u001b[0m\u001b[0;34m\u001b[0m\u001b[0m\n\u001b[1;32m    230\u001b[0m     \u001b[0mZ\u001b[0m \u001b[0;34m=\u001b[0m \u001b[0mclf\u001b[0m\u001b[0;34m.\u001b[0m\u001b[0mpredict\u001b[0m\u001b[0;34m(\u001b[0m\u001b[0mX_predict\u001b[0m\u001b[0;34m.\u001b[0m\u001b[0mastype\u001b[0m\u001b[0;34m(\u001b[0m\u001b[0mX\u001b[0m\u001b[0;34m.\u001b[0m\u001b[0mdtype\u001b[0m\u001b[0;34m)\u001b[0m\u001b[0;34m)\u001b[0m\u001b[0;34m\u001b[0m\u001b[0;34m\u001b[0m\u001b[0m\n\u001b[0;32m--> 231\u001b[0;31m     \u001b[0mZ\u001b[0m \u001b[0;34m=\u001b[0m \u001b[0mZ\u001b[0m\u001b[0;34m.\u001b[0m\u001b[0mreshape\u001b[0m\u001b[0;34m(\u001b[0m\u001b[0mxx\u001b[0m\u001b[0;34m.\u001b[0m\u001b[0mshape\u001b[0m\u001b[0;34m)\u001b[0m\u001b[0;34m\u001b[0m\u001b[0;34m\u001b[0m\u001b[0m\n\u001b[0m\u001b[1;32m    232\u001b[0m     \u001b[0;31m# Plot decisoin region\u001b[0m\u001b[0;34m\u001b[0m\u001b[0;34m\u001b[0m\u001b[0;34m\u001b[0m\u001b[0m\n\u001b[1;32m    233\u001b[0m     \u001b[0;31m# Make sure contourf_kwargs has backwards compatible defaults\u001b[0m\u001b[0;34m\u001b[0m\u001b[0;34m\u001b[0m\u001b[0;34m\u001b[0m\u001b[0m\n",
      "\u001b[0;31mValueError\u001b[0m: cannot reshape array of size 11197440 into shape (432,864)"
     ]
    },
    {
     "data": {
      "image/png": "[encoded data removed]",
      "text/plain": [
       "<Figure size 864x432 with 2 Axes>"
      ]
     },
     "metadata": {
      "needs_background": "light"
     },
     "output_type": "display_data"
    }
   ],
   "source": [
    "# Do Not change anything in this cell\n",
    "\n",
    "import matplotlib.pyplot as plt\n",
    "from mlxtend.plotting import plot_decision_regions\n",
    "\n",
    "h = .02  # step size in the mesh\n",
    "\n",
    "# Create a mesh to plot in\n",
    "x_min, x_max = X[:, 0].min() - .2, X[:, 0].max() + .2\n",
    "y_min, y_max = X[:, 1].min() - .2, X[:, 1].max() + .2\n",
    "xx, yy = np.meshgrid(np.arange(x_min, x_max, h),\n",
    "                     np.arange(y_min, y_max, h))\n",
    "\n",
    "fig = plt.figure(figsize=(12,6))\n",
    "\n",
    "\n",
    "for clf, hist, name, grd in zip([model1,model2], [h1, h2],['Perceptron', 'Multi-Layer Perceptron'],[1,2]):\n",
    "\n",
    "    ax = plt.subplot(1,2, grd)\n",
    "    fig = plot_decision_regions(X=X, y=y, clf=clf, legend=2)\n",
    "    title = f\"{name} with {hist.history['accuracy'][-1]:,.2f} Accuracy\"\n",
    "    plt.title(title)\n",
    "\n",
    "plt.show()"
   ]
  },
  {
   "cell_type": "markdown",
   "metadata": {},
   "source": [
    "Why does the Perceptron (`model1`) only achieve ~70% accuracy? What is the architectural property of the Multi-Layer Perceptron that allows it more accurately learn the relationship between X and y? \n",
    "\n",
    "Why might this property be useful in more complex data such as images?"
   ]
  },
  {
   "cell_type": "code",
   "execution_count": 93,
   "metadata": {},
   "outputs": [],
   "source": [
    "# Your Answer Here - Change the Cell to Markdown\n",
    "#My first model achieves an accuracy of around 50% , and this may be a result of only have barely any depth, with only one neuron really doing the work.\n",
    "#Having more depth, more layers allows the model to learn more about the relationship between features and the outputs.Specifically, via backpropigation the neuronetwork updates the weights\n",
    "#after each training epoch.\n"
   ]
  },
  {
   "cell_type": "markdown",
   "metadata": {},
   "source": [
    "## 3. Keras MMP <a id=\"Q3\"></a>\n",
    "\n",
    "Implement a Multilayer Perceptron architecture of your choosing using the Keras library. Train your model and report its baseline accuracy. Then hyperparameter tune at least two parameters and report your model's accuracy.\n",
    "Use the Heart Disease Dataset (binary classification)\n",
    "\n",
    "Use an appropriate loss function for a binary classification task\n",
    "\n",
    "Use an appropriate activation function on the final layer of your network.\n",
    "\n",
    "Train your model using verbose output for ease of grading.\n",
    "Use GridSearchCV or RandomSearchCV to hyperparameter tune your model. (for at least two hyperparameters)\n",
    "\n",
    "When hyperparameter tuning, show you work by adding code cells for each new experiment.\n",
    "Report the accuracy for each combination of hyperparameters as you test them so that we can easily see which resulted in the highest accuracy.\n",
    "You must hyperparameter tune at least 3 parameters in order to get a 3 on this section."
   ]
  },
  {
   "cell_type": "code",
   "execution_count": 130,
   "metadata": {
    "collapsed": false,
    "inputHidden": false,
    "jupyter": {
     "outputs_hidden": false
    },
    "outputHidden": false
   },
   "outputs": [
    {
     "name": "stdout",
     "output_type": "stream",
     "text": [
      "(303, 14)\n"
     ]
    },
    {
     "data": {
      "text/html": [
       "<div>\n",
       "<style scoped>\n",
       "    .dataframe tbody tr th:only-of-type {\n",
       "        vertical-align: middle;\n",
       "    }\n",
       "\n",
       "    .dataframe tbody tr th {\n",
       "        vertical-align: top;\n",
       "    }\n",
       "\n",
       "    .dataframe thead th {\n",
       "        text-align: right;\n",
       "    }\n",
       "</style>\n",
       "<table border=\"1\" class=\"dataframe\">\n",
       "  <thead>\n",
       "    <tr style=\"text-align: right;\">\n",
       "      <th></th>\n",
       "      <th>age</th>\n",
       "      <th>sex</th>\n",
       "      <th>cp</th>\n",
       "      <th>trestbps</th>\n",
       "      <th>chol</th>\n",
       "      <th>fbs</th>\n",
       "      <th>restecg</th>\n",
       "      <th>thalach</th>\n",
       "      <th>exang</th>\n",
       "      <th>oldpeak</th>\n",
       "      <th>slope</th>\n",
       "      <th>ca</th>\n",
       "      <th>thal</th>\n",
       "      <th>target</th>\n",
       "    </tr>\n",
       "  </thead>\n",
       "  <tbody>\n",
       "    <tr>\n",
       "      <th>41</th>\n",
       "      <td>48</td>\n",
       "      <td>1</td>\n",
       "      <td>1</td>\n",
       "      <td>130</td>\n",
       "      <td>245</td>\n",
       "      <td>0</td>\n",
       "      <td>0</td>\n",
       "      <td>180</td>\n",
       "      <td>0</td>\n",
       "      <td>0.2</td>\n",
       "      <td>1</td>\n",
       "      <td>0</td>\n",
       "      <td>2</td>\n",
       "      <td>1</td>\n",
       "    </tr>\n",
       "    <tr>\n",
       "      <th>278</th>\n",
       "      <td>58</td>\n",
       "      <td>0</td>\n",
       "      <td>1</td>\n",
       "      <td>136</td>\n",
       "      <td>319</td>\n",
       "      <td>1</td>\n",
       "      <td>0</td>\n",
       "      <td>152</td>\n",
       "      <td>0</td>\n",
       "      <td>0.0</td>\n",
       "      <td>2</td>\n",
       "      <td>2</td>\n",
       "      <td>2</td>\n",
       "      <td>0</td>\n",
       "    </tr>\n",
       "    <tr>\n",
       "      <th>155</th>\n",
       "      <td>58</td>\n",
       "      <td>0</td>\n",
       "      <td>0</td>\n",
       "      <td>130</td>\n",
       "      <td>197</td>\n",
       "      <td>0</td>\n",
       "      <td>1</td>\n",
       "      <td>131</td>\n",
       "      <td>0</td>\n",
       "      <td>0.6</td>\n",
       "      <td>1</td>\n",
       "      <td>0</td>\n",
       "      <td>2</td>\n",
       "      <td>1</td>\n",
       "    </tr>\n",
       "    <tr>\n",
       "      <th>181</th>\n",
       "      <td>65</td>\n",
       "      <td>0</td>\n",
       "      <td>0</td>\n",
       "      <td>150</td>\n",
       "      <td>225</td>\n",
       "      <td>0</td>\n",
       "      <td>0</td>\n",
       "      <td>114</td>\n",
       "      <td>0</td>\n",
       "      <td>1.0</td>\n",
       "      <td>1</td>\n",
       "      <td>3</td>\n",
       "      <td>3</td>\n",
       "      <td>0</td>\n",
       "    </tr>\n",
       "    <tr>\n",
       "      <th>151</th>\n",
       "      <td>71</td>\n",
       "      <td>0</td>\n",
       "      <td>0</td>\n",
       "      <td>112</td>\n",
       "      <td>149</td>\n",
       "      <td>0</td>\n",
       "      <td>1</td>\n",
       "      <td>125</td>\n",
       "      <td>0</td>\n",
       "      <td>1.6</td>\n",
       "      <td>1</td>\n",
       "      <td>0</td>\n",
       "      <td>2</td>\n",
       "      <td>1</td>\n",
       "    </tr>\n",
       "  </tbody>\n",
       "</table>\n",
       "</div>"
      ],
      "text/plain": [
       "     age  sex  cp  trestbps  chol  fbs  restecg  thalach  exang  oldpeak  \\\n",
       "41    48    1   1       130   245    0        0      180      0      0.2   \n",
       "278   58    0   1       136   319    1        0      152      0      0.0   \n",
       "155   58    0   0       130   197    0        1      131      0      0.6   \n",
       "181   65    0   0       150   225    0        0      114      0      1.0   \n",
       "151   71    0   0       112   149    0        1      125      0      1.6   \n",
       "\n",
       "     slope  ca  thal  target  \n",
       "41       1   0     2       1  \n",
       "278      2   2     2       0  \n",
       "155      1   0     2       1  \n",
       "181      1   3     3       0  \n",
       "151      1   0     2       1  "
      ]
     },
     "execution_count": 130,
     "metadata": {},
     "output_type": "execute_result"
    }
   ],
   "source": [
    "import pandas as pd\n",
    "from sklearn.preprocessing import StandardScaler\n",
    "\n",
    "df = pd.read_csv('https://raw.githubusercontent.com/ryanleeallred/datasets/master/heart.csv')\n",
    "df = df.sample(frac=1)\n",
    "print(df.shape)\n",
    "df.head()"
   ]
  },
  {
   "cell_type": "code",
   "execution_count": 131,
   "metadata": {},
   "outputs": [],
   "source": [
    "# Create wrangle function\n",
    "def wrangle(df):\n",
    "    \"\"\"This function helps clean dataframe\"\"\"\n",
    "    df = df.dropna()\n",
    "    return df\n",
    "\n",
    "# Wrangle feature matrix\n",
    "X = wrangle(df.copy())\n",
    "\n",
    "# Separate labels from feature matrix\n",
    "y = X.pop('target')\n"
   ]
  },
  {
   "cell_type": "code",
   "execution_count": 132,
   "metadata": {},
   "outputs": [
    {
     "data": {
      "text/plain": [
       "((242, 13), (61, 13), (242,), (61,))"
      ]
     },
     "execution_count": 132,
     "metadata": {},
     "output_type": "execute_result"
    }
   ],
   "source": [
    "# Split and scale the data\n",
    "import numpy as np\n",
    "from sklearn.model_selection import train_test_split\n",
    "X_train, X_val,y_train, y_val = train_test_split(X, y, test_size=0.20, random_state=42)\n",
    "# Check shape of train val split\n",
    "X_train.shape, X_val.shape, y_train.shape, y_val.shape"
   ]
  },
  {
   "cell_type": "code",
   "execution_count": 133,
   "metadata": {},
   "outputs": [],
   "source": [
    "def create_model2(units=30, activation='relu', learning_rate=.01):\n",
    "    \"\"\" This function creates a multilayer perceptron \"\"\"\n",
    "    model = tf.keras.Sequential(\n",
    "       [Dense(units=units,input_shape=(242,13), activation=activation),\n",
    "       Dense(units=30,activation = 'softmax'),\n",
    "       Dense(30, activation ='softmax')])\n",
    "    model.compile(\n",
    "      optimizer= tf.keras.optimizers.Adamax(learning_rate=learning_rate),\n",
    "      loss='sparse_categorical_crossentropy',\n",
    "      metrics=['accuracy'])\n",
    "    return model"
   ]
  },
  {
   "cell_type": "code",
   "execution_count": 134,
   "metadata": {},
   "outputs": [],
   "source": [
    "# Scale data, helps neuronetworks process the data faster\n",
    "from sklearn.preprocessing import StandardScaler\n",
    "ss = StandardScaler()\n",
    "X_train = ss.fit_transform(X_train)\n",
    "X_val = ss.fit_transform(X_val)"
   ]
  },
  {
   "cell_type": "code",
   "execution_count": 135,
   "metadata": {},
   "outputs": [
    {
     "name": "stdout",
     "output_type": "stream",
     "text": [
      "Fitting 2 folds for each of 16 candidates, totalling 32 fits\n"
     ]
    },
    {
     "name": "stderr",
     "output_type": "stream",
     "text": [
      "[Parallel(n_jobs=-1)]: Using backend LokyBackend with 8 concurrent workers.\n"
     ]
    },
    {
     "name": "stdout",
     "output_type": "stream",
     "text": [
      "Epoch 1/10\n",
      "WARNING:tensorflow:Model was constructed with shape (None, 242, 13) for input Tensor(\"dense_104_input:0\", shape=(None, 242, 13), dtype=float32), but it was called on an input with incompatible shape (None, 13).\n"
     ]
    },
    {
     "name": "stderr",
     "output_type": "stream",
     "text": [
      "[Parallel(n_jobs=-1)]: Done  32 out of  32 | elapsed:    4.0s finished\n"
     ]
    },
    {
     "name": "stdout",
     "output_type": "stream",
     "text": [
      "WARNING:tensorflow:Model was constructed with shape (None, 242, 13) for input Tensor(\"dense_104_input:0\", shape=(None, 242, 13), dtype=float32), but it was called on an input with incompatible shape (None, 13).\n",
      "8/8 [==============================] - 0s 1ms/step - loss: 3.2612 - accuracy: 0.4959\n",
      "Epoch 2/10\n",
      "8/8 [==============================] - 0s 1ms/step - loss: 2.9683 - accuracy: 0.7645\n",
      "Epoch 3/10\n",
      "8/8 [==============================] - 0s 1ms/step - loss: 2.7003 - accuracy: 0.7934\n",
      "Epoch 4/10\n",
      "8/8 [==============================] - 0s 1ms/step - loss: 2.4571 - accuracy: 0.7934\n",
      "Epoch 5/10\n",
      "8/8 [==============================] - 0s 1ms/step - loss: 2.2396 - accuracy: 0.7893\n",
      "Epoch 6/10\n",
      "8/8 [==============================] - 0s 1ms/step - loss: 2.0430 - accuracy: 0.7934\n",
      "Epoch 7/10\n",
      "8/8 [==============================] - 0s 1ms/step - loss: 1.8645 - accuracy: 0.8099\n",
      "Epoch 8/10\n",
      "8/8 [==============================] - 0s 1ms/step - loss: 1.7045 - accuracy: 0.8058\n",
      "Epoch 9/10\n",
      "8/8 [==============================] - 0s 1ms/step - loss: 1.5597 - accuracy: 0.8347\n",
      "Epoch 10/10\n",
      "8/8 [==============================] - 0s 1ms/step - loss: 1.4221 - accuracy: 0.8388\n",
      "Best: 0.7809917330741882 using {'activation': 'relu', 'epochs': 10, 'learning_rate': 0.01, 'units': 20}\n",
      "Means: 0.6570248007774353, Stdev: 0.08677685260772705 with: {'activation': 'relu', 'epochs': 5, 'learning_rate': 0.01, 'units': 10}\n",
      "Means: 0.48347108066082, Stdev: 0.06198348104953766 with: {'activation': 'relu', 'epochs': 5, 'learning_rate': 0.01, 'units': 20}\n",
      "Means: 0.41322314739227295, Stdev: 0.06611570715904236 with: {'activation': 'relu', 'epochs': 5, 'learning_rate': 0.001, 'units': 10}\n",
      "Means: 0.5413222908973694, Stdev: 0.03719007968902588 with: {'activation': 'relu', 'epochs': 5, 'learning_rate': 0.001, 'units': 20}\n",
      "Means: 0.6280991733074188, Stdev: 0.05785122513771057 with: {'activation': 'relu', 'epochs': 10, 'learning_rate': 0.01, 'units': 10}\n",
      "Means: 0.7809917330741882, Stdev: 0.03719007968902588 with: {'activation': 'relu', 'epochs': 10, 'learning_rate': 0.01, 'units': 20}\n",
      "Means: 0.5371900945901871, Stdev: 0.057851240038871765 with: {'activation': 'relu', 'epochs': 10, 'learning_rate': 0.001, 'units': 10}\n",
      "Means: 0.5247933864593506, Stdev: 0.061983466148376465 with: {'activation': 'relu', 'epochs': 10, 'learning_rate': 0.001, 'units': 20}\n",
      "Means: 0.5289256125688553, Stdev: 0.10743801295757294 with: {'activation': 'sigmoid', 'epochs': 5, 'learning_rate': 0.01, 'units': 10}\n",
      "Means: 0.5785123854875565, Stdev: 0.1570247858762741 with: {'activation': 'sigmoid', 'epochs': 5, 'learning_rate': 0.01, 'units': 20}\n",
      "Means: 0.21074379980564117, Stdev: 0.21074379980564117 with: {'activation': 'sigmoid', 'epochs': 5, 'learning_rate': 0.001, 'units': 10}\n",
      "Means: 0.45041322708129883, Stdev: 0.02892562747001648 with: {'activation': 'sigmoid', 'epochs': 5, 'learning_rate': 0.001, 'units': 20}\n",
      "Means: 0.6198347061872482, Stdev: 0.14049585163593292 with: {'activation': 'sigmoid', 'epochs': 10, 'learning_rate': 0.01, 'units': 10}\n",
      "Means: 0.45041322708129883, Stdev: 0.02892562747001648 with: {'activation': 'sigmoid', 'epochs': 10, 'learning_rate': 0.01, 'units': 20}\n",
      "Means: 0.6157024800777435, Stdev: 0.09504130482673645 with: {'activation': 'sigmoid', 'epochs': 10, 'learning_rate': 0.001, 'units': 10}\n",
      "Means: 0.5206611752510071, Stdev: 0.0 with: {'activation': 'sigmoid', 'epochs': 10, 'learning_rate': 0.001, 'units': 20}\n"
     ]
    }
   ],
   "source": [
    "# create model\n",
    "# Import kerasclassifier,gridsearch cv helps with implementing neurnetwork model into scikitlearns gridsearch cv\n",
    "# So that we can optimize hyperparameters\n",
    "from keras.wrappers.scikit_learn import KerasClassifier\n",
    "from sklearn.model_selection import GridSearchCV\n",
    "model = KerasClassifier(build_fn=create_model2, verbose=1)\n",
    "\n",
    "# Define the grid search parameters\n",
    "param_grid = {'learning_rate':[.01,.001],\n",
    "              'units': [10,20],\n",
    "              'activation':['relu','sigmoid'],\n",
    "              'epochs': [5,10],\n",
    "              # paramswrapper --we use scikit learn conforms the model scikit learn api\n",
    "              }\n",
    "\n",
    "# Create Grid Search\n",
    "grid = GridSearchCV(estimator=model, param_grid=param_grid, n_jobs=-1,cv=2,verbose=1)\n",
    "\n",
    "grid_result = grid.fit(X_train, y_train)\n",
    "\n",
    "# Report Results\n",
    "print(f\"Best: {grid_result.best_score_} using {grid_result.best_params_}\")\n",
    "means = grid_result.cv_results_['mean_test_score']\n",
    "stds = grid_result.cv_results_['std_test_score']\n",
    "params = grid_result.cv_results_['params']\n",
    "for mean, stdev, param in zip(means, stds, params):\n",
    "    print(f\"Means: {mean}, Stdev: {stdev} with: {param}\")\n"
   ]
  },
  {
   "cell_type": "code",
   "execution_count": 129,
   "metadata": {},
   "outputs": [],
   "source": [
    "# Best: 0.7809917330741882 using {'activation': 'relu', 'epochs': 10, 'learning_rate': 0.01, 'units': 20}"
   ]
  },
  {
   "cell_type": "code",
   "execution_count": 136,
   "metadata": {},
   "outputs": [
    {
     "name": "stdout",
     "output_type": "stream",
     "text": [
      "WARNING:tensorflow:Model was constructed with shape (None, 242, 13) for input Tensor(\"dense_104_input:0\", shape=(None, 242, 13), dtype=float32), but it was called on an input with incompatible shape (None, 13).\n",
      "2/2 [==============================] - 0s 1ms/step - loss: 1.3795 - accuracy: 0.7869\n"
     ]
    },
    {
     "data": {
      "text/plain": [
       "0.7868852615356445"
      ]
     },
     "execution_count": 136,
     "metadata": {},
     "output_type": "execute_result"
    }
   ],
   "source": [
    "grid.score(X_val,y_val)"
   ]
  },
  {
   "cell_type": "code",
   "execution_count": null,
   "metadata": {},
   "outputs": [],
   "source": []
  }
 ],
 "metadata": {
  "kernelspec": {
   "display_name": "Python 3",
   "language": "python",
   "name": "python3"
  },
  "language_info": {
   "codemirror_mode": {
    "name": "ipython",
    "version": 3
   },
   "file_extension": ".py",
   "mimetype": "text/x-python",
   "name": "python",
   "nbconvert_exporter": "python",
   "pygments_lexer": "ipython3",
   "version": "3.8.5"
  },
  "nteract": {
   "version": "0.23.3"
  }
 },
 "nbformat": 4,
 "nbformat_minor": 4
}
