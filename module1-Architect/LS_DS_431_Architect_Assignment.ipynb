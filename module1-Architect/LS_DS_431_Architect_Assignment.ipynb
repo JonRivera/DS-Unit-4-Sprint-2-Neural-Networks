{
 "cells": [
  {
   "cell_type": "markdown",
   "metadata": {
    "colab_type": "text",
    "id": "ObyHCH8HvHSf"
   },
   "source": [
    "<img align=\"left\" src=\"https://lever-client-logos.s3.amazonaws.com/864372b1-534c-480e-acd5-9711f850815c-1524247202159.png\" width=200>\n",
    "<br></br>\n",
    "<br></br>\n",
    "\n",
    "# *Data Science Unit 4 Sprint 2 Assignment 1* Jonatan Rivera\n",
    "\n",
    "Use TensorFlow Keras & a sample of the [Quickdraw dataset](https://github.com/googlecreativelab/quickdraw-dataset) to build a sketch classification model. The dataset has been sampled to only 10 classes and 10000 observations per class. Please build a baseline classification model then run a few experiments with different optimizers and learning rates. \n",
    "\n",
    "*Don't forgot to switch to GPU on Colab!*"
   ]
  },
  {
   "cell_type": "code",
   "execution_count": 91,
   "metadata": {},
   "outputs": [],
   "source": [
    "import tensorflow as tf "
   ]
  },
  {
   "cell_type": "code",
   "execution_count": null,
   "metadata": {},
   "outputs": [],
   "source": []
  },
  {
   "cell_type": "markdown",
   "metadata": {
    "colab_type": "text",
    "id": "s-Tc3ovEyQ9b"
   },
   "source": [
    "## Load Your Data"
   ]
  },
  {
   "cell_type": "code",
   "execution_count": 94,
   "metadata": {
    "colab": {},
    "colab_type": "code",
    "id": "CkU0pAYCvU8o"
   },
   "outputs": [
    {
     "name": "stdout",
     "output_type": "stream",
     "text": [
      "(100000, 784)\n",
      "(100000,)\n"
     ]
    }
   ],
   "source": [
    "import numpy as np\n",
    "import tensorflow as tf \n",
    "\n",
    "data = np.load('quickdraw10.npz')\n",
    "X = data['arr_0']\n",
    "y = data['arr_1']\n",
    "\n",
    "print(X.shape)\n",
    "print(y.shape)"
   ]
  },
  {
   "cell_type": "code",
   "execution_count": 95,
   "metadata": {
    "colab": {},
    "colab_type": "code",
    "id": "c8qsDqdqvHDd"
   },
   "outputs": [],
   "source": [
    "class_names = ['apple',\n",
    " 'anvil',\n",
    " 'airplane',\n",
    " 'banana',\n",
    " 'The Eiffel Tower',\n",
    " 'The Mona Lisa',\n",
    " 'The Great Wall of China',\n",
    " 'alarm clock',\n",
    " 'ant',\n",
    " 'asparagus']"
   ]
  },
  {
   "cell_type": "code",
   "execution_count": 96,
   "metadata": {
    "colab": {},
    "colab_type": "code",
    "id": "Owbm1EbxvA5A"
   },
   "outputs": [
    {
     "data": {
      "image/png": "[encoded data removed]",
      "text/plain": [
       "<Figure size 720x360 with 10 Axes>"
      ]
     },
     "metadata": {},
     "output_type": "display_data"
    }
   ],
   "source": [
    "import matplotlib.pyplot as plt\n",
    "plt.figure(figsize=(10,5))\n",
    "start = 0\n",
    "\n",
    "for num, name in enumerate(class_names):\n",
    "    plt.subplot(2,5, num+1)\n",
    "    plt.xticks([])\n",
    "    plt.yticks([])\n",
    "    plt.grid(False)\n",
    "    plt.imshow(X[start].reshape(28,28), cmap=plt.cm.binary)\n",
    "    plt.xlabel(name)\n",
    "    start += 10000\n",
    "plt.show()"
   ]
  },
  {
   "cell_type": "code",
   "execution_count": 97,
   "metadata": {
    "colab": {},
    "colab_type": "code",
    "id": "c97_M1WNvTNY"
   },
   "outputs": [],
   "source": [
    "# Need this line to randomly shuffle both the X & y at the same time.\n",
    "\n",
    "from sklearn.utils import shuffle\n",
    "X, y = shuffle(X, y)"
   ]
  },
  {
   "cell_type": "code",
   "execution_count": 98,
   "metadata": {},
   "outputs": [
    {
     "data": {
      "text/plain": [
       "(100000, 784)"
      ]
     },
     "execution_count": 98,
     "metadata": {},
     "output_type": "execute_result"
    }
   ],
   "source": [
    "#look at shapes of original data\n",
    "X.shape"
   ]
  },
  {
   "cell_type": "code",
   "execution_count": 99,
   "metadata": {},
   "outputs": [
    {
     "data": {
      "text/plain": [
       "(100000,)"
      ]
     },
     "execution_count": 99,
     "metadata": {},
     "output_type": "execute_result"
    }
   ],
   "source": [
    "y.shape"
   ]
  },
  {
   "cell_type": "code",
   "execution_count": 100,
   "metadata": {},
   "outputs": [],
   "source": [
    "#import train_test_split, will help with creating\n",
    "#the training and testing sets\n",
    "from sklearn.model_selection import train_test_split"
   ]
  },
  {
   "cell_type": "code",
   "execution_count": 101,
   "metadata": {},
   "outputs": [],
   "source": [
    "X_train, X_test, y_train, y_test = train_test_split(X, y, test_size=0.33, random_state=42)"
   ]
  },
  {
   "cell_type": "code",
   "execution_count": 102,
   "metadata": {},
   "outputs": [
    {
     "data": {
      "text/plain": [
       "((67000, 784), (33000, 784))"
      ]
     },
     "execution_count": 102,
     "metadata": {},
     "output_type": "execute_result"
    }
   ],
   "source": [
    "X_train.shape,X_test.shape"
   ]
  },
  {
   "cell_type": "markdown",
   "metadata": {
    "colab_type": "text",
    "id": "jb70CbLVyK65"
   },
   "source": [
    "## Build Your Baseline Model\n",
    "Some Hints:\n",
    "\n",
    "\n",
    "*  Model should have 784 input values (like mnist)\n",
    "*  Use `sparse_categorical_crossentropy` as your loss function.\n",
    "* You need 10 neurons in your last layer for output\n",
    "* You can add as many hidden layers with as many neurons in them as you like. \n",
    "* Limit your model epochs to 30 each time you fit.\n",
    "* You can use the `validation_split` command to automatically create a training / validation dataset.  Specify a percentage such as .2 in your fit statement. \n",
    "\n"
   ]
  },
  {
   "cell_type": "code",
   "execution_count": 57,
   "metadata": {
    "colab": {},
    "colab_type": "code",
    "id": "zHWblzsMyNkU"
   },
   "outputs": [],
   "source": [
    "#import model from tensorflow to construct basemodel\n",
    "import tensorflow as tf\n",
    "from tensorflow.keras.models import Sequential\n",
    "from tensorflow.keras.layers import Dense"
   ]
  },
  {
   "cell_type": "code",
   "execution_count": 58,
   "metadata": {},
   "outputs": [],
   "source": [
    "#instantiate Sequential Model\n",
    "# A Sequential model is appropriate for a plain stack of layers where each layer has exactly one input tensor and one output tensor.\n",
    "model = Sequential()"
   ]
  },
  {
   "cell_type": "code",
   "execution_count": 59,
   "metadata": {},
   "outputs": [],
   "source": [
    "model.add(\n",
    "    #hidden layer\n",
    "    Dense(32, activation='relu', input_dim=784))"
   ]
  },
  {
   "cell_type": "code",
   "execution_count": 60,
   "metadata": {},
   "outputs": [],
   "source": [
    "model.add(\n",
    "    Dense(10,activation='softmax')\n",
    "    )"
   ]
  },
  {
   "cell_type": "code",
   "execution_count": 61,
   "metadata": {},
   "outputs": [
    {
     "name": "stdout",
     "output_type": "stream",
     "text": [
      "Model: \"sequential_3\"\n",
      "_________________________________________________________________\n",
      "Layer (type)                 Output Shape              Param #   \n",
      "=================================================================\n",
      "dense_2 (Dense)              (None, 32)                25120     \n",
      "_________________________________________________________________\n",
      "dense_3 (Dense)              (None, 10)                330       \n",
      "=================================================================\n",
      "Total params: 25,450\n",
      "Trainable params: 25,450\n",
      "Non-trainable params: 0\n",
      "_________________________________________________________________\n"
     ]
    }
   ],
   "source": [
    "model.summary()"
   ]
  },
  {
   "cell_type": "code",
   "execution_count": 62,
   "metadata": {},
   "outputs": [],
   "source": [
    "#compile, and use SGD optimizer \n",
    "model.compile(optimizer='SGD', loss='sparse_categorical_crossentropy', metrics =['accuracy'])"
   ]
  },
  {
   "cell_type": "markdown",
   "metadata": {
    "colab_type": "text",
    "id": "b0QJURWh-9uv"
   },
   "source": [
    "### Visualize the results\n",
    "\n",
    "Create charts for both loss and accuracy by epoch. Use line graphs for both charts. Analyze the results. \n",
    "\n",
    "At what point should we have stopped training the model and why? "
   ]
  },
  {
   "cell_type": "code",
   "execution_count": 66,
   "metadata": {},
   "outputs": [
    {
     "name": "stdout",
     "output_type": "stream",
     "text": [
      "Epoch 1/10\n",
      "2094/2094 [==============================] - 2s 949us/step - loss: 2.3025 - accuracy: 0.1010 - val_loss: 2.3031 - val_accuracy: 0.0987\n",
      "Epoch 2/10\n",
      "2094/2094 [==============================] - 2s 747us/step - loss: 2.3024 - accuracy: 0.0990 - val_loss: 2.3031 - val_accuracy: 0.0967\n",
      "Epoch 3/10\n",
      "2094/2094 [==============================] - 2s 773us/step - loss: 2.3024 - accuracy: 0.1014 - val_loss: 2.3031 - val_accuracy: 0.0987\n",
      "Epoch 4/10\n",
      "2094/2094 [==============================] - 2s 784us/step - loss: 2.3024 - accuracy: 0.1013 - val_loss: 2.3030 - val_accuracy: 0.0967\n",
      "Epoch 5/10\n",
      "2094/2094 [==============================] - 2s 818us/step - loss: 2.3024 - accuracy: 0.1013 - val_loss: 2.3030 - val_accuracy: 0.0987\n",
      "Epoch 6/10\n",
      "2094/2094 [==============================] - 2s 841us/step - loss: 2.3024 - accuracy: 0.1001 - val_loss: 2.3030 - val_accuracy: 0.0967\n",
      "Epoch 7/10\n",
      "2094/2094 [==============================] - 2s 865us/step - loss: 2.3024 - accuracy: 0.1006 - val_loss: 2.3030 - val_accuracy: 0.0967\n",
      "Epoch 8/10\n",
      "2094/2094 [==============================] - 2s 901us/step - loss: 2.3024 - accuracy: 0.1004 - val_loss: 2.3031 - val_accuracy: 0.0967\n",
      "Epoch 9/10\n",
      "2094/2094 [==============================] - 2s 941us/step - loss: 2.3024 - accuracy: 0.1019 - val_loss: 2.3030 - val_accuracy: 0.0987\n",
      "Epoch 10/10\n",
      "2094/2094 [==============================] - 2s 924us/step - loss: 2.3024 - accuracy: 0.0994 - val_loss: 2.3031 - val_accuracy: 0.1002\n"
     ]
    }
   ],
   "source": [
    "baseline =  model.fit(X_train, y_train, epochs=10,validation_data=(X_test, y_test))"
   ]
  },
  {
   "cell_type": "code",
   "execution_count": 67,
   "metadata": {
    "colab": {},
    "colab_type": "code",
    "id": "KONJtU5wqlXf"
   },
   "outputs": [
    {
     "data": {
      "text/plain": [
       "{'loss': [2.302454948425293,\n",
       "  2.3024353981018066,\n",
       "  2.302442789077759,\n",
       "  2.3024368286132812,\n",
       "  2.3024280071258545,\n",
       "  2.3024134635925293,\n",
       "  2.3024439811706543,\n",
       "  2.302443504333496,\n",
       "  2.3024332523345947,\n",
       "  2.302433490753174],\n",
       " 'accuracy': [0.10097014904022217,\n",
       "  0.09897015243768692,\n",
       "  0.10137313604354858,\n",
       "  0.10125373303890228,\n",
       "  0.10132835805416107,\n",
       "  0.1001492515206337,\n",
       "  0.1006268635392189,\n",
       "  0.10035821050405502,\n",
       "  0.10194029659032822,\n",
       "  0.09943283349275589],\n",
       " 'val_loss': [2.303068161010742,\n",
       "  2.3030576705932617,\n",
       "  2.303072214126587,\n",
       "  2.3030242919921875,\n",
       "  2.3030319213867188,\n",
       "  2.3030292987823486,\n",
       "  2.3030483722686768,\n",
       "  2.303077220916748,\n",
       "  2.303042411804199,\n",
       "  2.3030991554260254],\n",
       " 'val_accuracy': [0.09869696944952011,\n",
       "  0.09666666388511658,\n",
       "  0.09869696944952011,\n",
       "  0.09666666388511658,\n",
       "  0.09869696944952011,\n",
       "  0.09666666388511658,\n",
       "  0.09666666388511658,\n",
       "  0.09666666388511658,\n",
       "  0.09869696944952011,\n",
       "  0.10024242103099823]}"
      ]
     },
     "execution_count": 67,
     "metadata": {},
     "output_type": "execute_result"
    }
   ],
   "source": [
    "baseline.history"
   ]
  },
  {
   "cell_type": "code",
   "execution_count": 89,
   "metadata": {
    "colab": {},
    "colab_type": "code",
    "id": "ijAlzfYKAFaY"
   },
   "outputs": [
    {
     "data": {
      "image/png": "[encoded data removed]",
      "text/plain": [
       "<Figure size 432x288 with 1 Axes>"
      ]
     },
     "metadata": {
      "needs_background": "light"
     },
     "output_type": "display_data"
    }
   ],
   "source": [
    "#visualize validation loss for model\n",
    "import seaborn as sns\n",
    "import pandas as pd\n",
    "\n",
    "df = pd.DataFrame.from_records(baseline.history)\n",
    "df['epoch'] = [i for i in range(df.shape[0])]\n",
    "\n",
    "ax = sns.lineplot(x='epoch', y='val_loss', data=df)\n",
    "ax = sns.lineplot(x='epoch', y='loss', data=df);"
   ]
  },
  {
   "cell_type": "code",
   "execution_count": 90,
   "metadata": {},
   "outputs": [
    {
     "data": {
      "image/png": "[encoded data removed]",
      "text/plain": [
       "<Figure size 432x288 with 1 Axes>"
      ]
     },
     "metadata": {
      "needs_background": "light"
     },
     "output_type": "display_data"
    }
   ],
   "source": [
    "#create visualizations for accuracy\n",
    "\n",
    "ax = sns.lineplot(x='epoch', y='accuracy', data=df);"
   ]
  },
  {
   "cell_type": "markdown",
   "metadata": {
    "colab_type": "text",
    "id": "MAhBrcE4yOZe"
   },
   "source": [
    "## Change Optimizers\n",
    "Try using the keras `adam` optimizer instead of `sgd` in your model. Visualize the difference in validation loss between the models with different optimizers. "
   ]
  },
  {
   "cell_type": "code",
   "execution_count": 70,
   "metadata": {
    "colab": {},
    "colab_type": "code",
    "id": "jIW_spOZ0cxy"
   },
   "outputs": [],
   "source": [
    "\n",
    "from tensorflow.keras.optimizers import Adam\n",
    "\n",
    "adam = Adam()"
   ]
  },
  {
   "cell_type": "code",
   "execution_count": 71,
   "metadata": {},
   "outputs": [],
   "source": [
    "model2 = Sequential()"
   ]
  },
  {
   "cell_type": "code",
   "execution_count": 72,
   "metadata": {},
   "outputs": [],
   "source": [
    "model2.add(\n",
    "    #hidden layer\n",
    "    Dense(32, activation='relu', input_dim=784))"
   ]
  },
  {
   "cell_type": "code",
   "execution_count": 73,
   "metadata": {},
   "outputs": [],
   "source": [
    "model2.add(\n",
    "    Dense(10,activation='softmax')\n",
    "    )"
   ]
  },
  {
   "cell_type": "code",
   "execution_count": 75,
   "metadata": {},
   "outputs": [],
   "source": [
    "model2.compile(optimizer=adam, loss='sparse_categorical_crossentropy', metrics =['accuracy'])"
   ]
  },
  {
   "cell_type": "code",
   "execution_count": 77,
   "metadata": {},
   "outputs": [
    {
     "name": "stdout",
     "output_type": "stream",
     "text": [
      "Epoch 1/10\n",
      "2094/2094 [==============================] - 2s 872us/step - loss: 2.5656 - accuracy: 0.2650 - val_loss: 1.7269 - val_accuracy: 0.3524\n",
      "Epoch 2/10\n",
      "2094/2094 [==============================] - 2s 805us/step - loss: 1.6554 - accuracy: 0.3816 - val_loss: 1.5719 - val_accuracy: 0.4030\n",
      "Epoch 3/10\n",
      "2094/2094 [==============================] - 2s 819us/step - loss: 1.4555 - accuracy: 0.4557 - val_loss: 1.3525 - val_accuracy: 0.5078\n",
      "Epoch 4/10\n",
      "2094/2094 [==============================] - 2s 827us/step - loss: 1.2739 - accuracy: 0.5261 - val_loss: 1.2703 - val_accuracy: 0.5666\n",
      "Epoch 5/10\n",
      "2094/2094 [==============================] - 2s 819us/step - loss: 1.1797 - accuracy: 0.5691 - val_loss: 1.1783 - val_accuracy: 0.5792\n",
      "Epoch 6/10\n",
      "2094/2094 [==============================] - 2s 827us/step - loss: 1.1307 - accuracy: 0.5857 - val_loss: 1.1627 - val_accuracy: 0.5886\n",
      "Epoch 7/10\n",
      "2094/2094 [==============================] - 2s 842us/step - loss: 1.1123 - accuracy: 0.6041 - val_loss: 1.1426 - val_accuracy: 0.5991\n",
      "Epoch 8/10\n",
      "2094/2094 [==============================] - 2s 889us/step - loss: 1.0892 - accuracy: 0.6219 - val_loss: 1.1504 - val_accuracy: 0.6086\n",
      "Epoch 9/10\n",
      "2094/2094 [==============================] - 2s 1ms/step - loss: 1.0550 - accuracy: 0.6432 - val_loss: 1.0909 - val_accuracy: 0.6463\n",
      "Epoch 10/10\n",
      "2094/2094 [==============================] - 2s 1ms/step - loss: 1.0264 - accuracy: 0.6567 - val_loss: 1.0771 - val_accuracy: 0.6546\n"
     ]
    }
   ],
   "source": [
    "baseline2 = model2.fit(X_train, y_train, epochs=10,validation_data=(X_test, y_test))"
   ]
  },
  {
   "cell_type": "code",
   "execution_count": 80,
   "metadata": {},
   "outputs": [
    {
     "data": {
      "text/plain": [
       "[2.5655853748321533,\n",
       " 1.6554100513458252,\n",
       " 1.4555377960205078,\n",
       " 1.273935317993164,\n",
       " 1.1796956062316895,\n",
       " 1.1307233572006226,\n",
       " 1.1123321056365967,\n",
       " 1.089166283607483,\n",
       " 1.0550459623336792,\n",
       " 1.0264040231704712]"
      ]
     },
     "execution_count": 80,
     "metadata": {},
     "output_type": "execute_result"
    }
   ],
   "source": [
    "baseline2.history['loss']"
   ]
  },
  {
   "cell_type": "code",
   "execution_count": 87,
   "metadata": {},
   "outputs": [
    {
     "data": {
      "image/png": "[encoded data removed]",
      "text/plain": [
       "<Figure size 432x288 with 1 Axes>"
      ]
     },
     "metadata": {
      "needs_background": "light"
     },
     "output_type": "display_data"
    }
   ],
   "source": [
    "#visualize validation loss for model\n",
    "import seaborn as sns\n",
    "import pandas as pd\n",
    "\n",
    "df2 = pd.DataFrame.from_records(baseline2.history)\n",
    "df2['epoch'] = [i for i in range(df.shape[0])]\n",
    "\n",
    "ax = sns.lineplot(x='epoch', y='val_loss', data=df2)\n",
    "ax = sns.lineplot(x='epoch', y='loss', data=df2);"
   ]
  },
  {
   "cell_type": "code",
   "execution_count": 88,
   "metadata": {},
   "outputs": [
    {
     "data": {
      "image/png": "[encoded data removed]",
      "text/plain": [
       "<Figure size 432x288 with 1 Axes>"
      ]
     },
     "metadata": {
      "needs_background": "light"
     },
     "output_type": "display_data"
    }
   ],
   "source": [
    "#create visualizations for accuracy\n",
    "\n",
    "ax = sns.lineplot(x='epoch', y='accuracy', data=df2);"
   ]
  },
  {
   "cell_type": "markdown",
   "metadata": {
    "colab_type": "text",
    "id": "EJrbh3qryi4w"
   },
   "source": [
    "### Additional Written Tasks:\n",
    "In this section, you will need to search for resources: \n",
    "1. Investigate the various [loss functions](https://www.tensorflow.org/api_docs/python/tf/keras/losses). Which is best suited for the task at hand (predicting 1 / 0) and why? \n",
    "    - It is intended for use with binary classification where the target values are in the set {0, 1}.\n",
    "    - Mathematically, it is the preferred loss function under the inference framework of maximum likelihood\n",
    "    - https://machinelearningmastery.com/loss-and-loss-functions-for-training-deep-learning-neural-networks/\n",
    " \n",
    " \n",
    "2. What is the difference between a loss function and a metric? Why might we need both in Keras? \n",
    "    - The loss function is used to optimize your model. This is the function that will get minimized by the optimizer.\n",
    "    - A metric is used to judge the performance of your model. This is only for you to look at and has nothing to do with the optimization process.\n",
    "    - The metric is important for few Keras callbacks like EarlyStopping when one wants to stop training the model in case the metric isn't improving for a certaining no. of epochs.\n",
    "    https://stackoverflow.com/questions/48280873/what-is-the-difference-between-loss-function-and-metric-in-keras/48281534#:~:text=The%20loss%20function%20is%20used,do%20with%20the%20optimization%20process.\n",
    "3. Investigate the various [optimizers](https://www.tensorflow.org/api_docs/python/tf/keras/optimizers). Stochastic Gradient Descent (`sgd`) is not the learning algorithm dejour anyone. Why is that? What do newer optimizers such as `adam` have to offer? \n",
    "    - SGD is a variant of gradient descent. Instead of performing computations on the whole dataset — which is redundant and inefficient — SGD only computes on a small subset or random selection of data examples. SGD produces the same performance as regular gradient descent when the learning rate is low.In the recent years however, a number of new optimizers have been proposed to tackle complex training scenarios where gradient descent methods behave poorly. One of the most widely used and practical optimizers for training deep learning models is Adam.\n",
    "    https://medium.com/syncedreview/iclr-2019-fast-as-adam-good-as-sgd-new-optimizer-has-both-78e37e8f9a34#:~:text=Essentially%20Adam%20is%20an%20algorithm,learning%20rates%20for%20different%20parameters.\n",
    "    "
   ]
  },
  {
   "cell_type": "markdown",
   "metadata": {
    "colab_type": "text",
    "id": "Gzs4fd-RynDd"
   },
   "source": [
    "## Stretch Goals: \n",
    "\n",
    "- Research convolutional neural networks and try including convolution layers in your network.\n",
    "- Pick two classes and make QuickDraw a binary classification problem, how does your model architecture change?\n",
    "- Implement Cross Validation model evaluation on your Quickdraw implementation \n",
    "\n",
    "Watch some more videos on Gradient Descent:\n",
    "- [Gradient Descent, Step-by-Step](https://www.youtube.com/watch?v=sDv4f4s2SB8)  by StatQuest w/ Josh Starmer. This will help you understand the gradient descent based optimization that happens underneath the hood of neural networks. It uses a non-neural network example, which I believe is a gentler introduction. You will hear me refer to this technique as \"vanilla\" gradient descent. \n",
    "- [Stochastic Gradient Descent, Clearly Explained!!!](https://www.youtube.com/watch?v=vMh0zPT0tLI) by StatQuest w/ Josh Starmer. This builds on the techniques in the previous video.  This technique is the one that is actually implemented inside modern 'nets. \n",
    "- [Siraj Raval the evolution of gradient descent](https://www.youtube.com/watch?v=nhqo0u1a6fw)"
   ]
  }
 ],
 "metadata": {
  "accelerator": "GPU",
  "colab": {
   "collapsed_sections": [],
   "name": "LS_DS_432_TensorFlow_Assignment",
   "provenance": []
  },
  "kernelspec": {
   "display_name": "Python 3",
   "language": "python",
   "name": "python3"
  },
  "language_info": {
   "codemirror_mode": {
    "name": "ipython",
    "version": 3
   },
   "file_extension": ".py",
   "mimetype": "text/x-python",
   "name": "python",
   "nbconvert_exporter": "python",
   "pygments_lexer": "ipython3",
   "version": "3.8.5"
  }
 },
 "nbformat": 4,
 "nbformat_minor": 4
}
