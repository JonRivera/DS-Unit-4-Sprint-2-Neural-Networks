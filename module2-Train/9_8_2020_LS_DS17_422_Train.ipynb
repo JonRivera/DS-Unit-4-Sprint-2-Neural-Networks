{
 "cells": [
  {
   "cell_type": "markdown",
   "metadata": {
    "colab_type": "text",
    "id": "aS4GZ37Wgcjr"
   },
   "source": [
    "Lambda School Data Science\n",
    "\n",
    "*Unit 4, Sprint 2, Module 2*\n",
    "\n",
    "---"
   ]
  },
  {
   "cell_type": "markdown",
   "metadata": {
    "colab_type": "text",
    "id": "etFf1WLWgcjt",
    "toc-hr-collapsed": false
   },
   "source": [
    "# Train (Prepare)\n",
    "__*Neural Network Foundations*__"
   ]
  },
  {
   "cell_type": "markdown",
   "metadata": {
    "colab_type": "text",
    "id": "hXB80QOhgcju"
   },
   "source": [
    "## Learning Objectives\n",
    "* <a href=\"#p1\">Part 1</a>: Student should be able to explain the intuition behind backpropagation and gradient descent\n",
    "* <a href=\"#p2\">Part 2</a>: Student should be able to discuss the importance of batch size\n",
    "* <a href=\"#p3\">Part 3</a>: Student should be able to discuss the importance of learning rate"
   ]
  },
  {
   "cell_type": "markdown",
   "metadata": {
    "colab_type": "text",
    "id": "8YuQu2lfgcju"
   },
   "source": [
    "## Summary of Yesterday\n",
    "\n",
    "Yesterday, we learned about some of the principal components of Neural Networks: Neurons, Weights, Activation Functions, and layers (input, output, & hidden). Today, we will reinforce our understanding of those components and introduce the mechanics of training a neural network. Feed-forward neural networks, such as multi-layer perceptrons (MLPs), are almost always trained using some variation of gradient descent where the gradient has been calculated by backpropagation.\n",
    "\n",
    "  <center><img src=\"https://raw.githubusercontent.com/LambdaSchool/DS-Unit-4-Sprint-2-Neural-Networks/main/module1-Architect/IMG_0167.jpeg\" width=400></center>\n",
    "\n",
    "- There are three kinds of layers: input, hidden, and output layers.\n",
    "- Each layer is made up of **n** individual neurons (aka activation units) which have a corresponding weight and bias.\n",
    "- Signal is passed from layer to layer through a network by:\n",
    " - Taking in inputs from the training data (or previous layer)\n",
    " - Multiplying each input by its corresponding weight (think arrow/connecting line)\n",
    " - Adding a bias to this weighted some of inputs and weights\n",
    " - Activating this weighted sum + bias by squishifying it with sigmoid or some other activation function. With a single perceptron with three inputs, calculating the output from the node is done like so:\n",
    "\\begin{align}\n",
    " y = sigmoid(\\sum(weight_{1}input_{1} + weight_{2}input_{2} + weight_{3}input_{3}) + bias)\n",
    "\\end{align}\n",
    " - this final activated value is the signal that gets passed onto the next layer of the network.\n",
    " "
   ]
  },
  {
   "cell_type": "markdown",
   "metadata": {
    "colab_type": "text",
    "id": "bpi4R03rgcjv"
   },
   "source": [
    "## Training a Neural Network: *Formal Summary*\n",
    "\n",
    "0. Pick a network architecture\n",
    "   - No. of input units = No. of features\n",
    "   - No. of output units = Number of Classes (or expected targets)\n",
    "   - Select the number of hidden layers and number of neurons within each hidden layer\n",
    "1. Randomly initialize weights\n",
    "2. Implement forward propagation to get $h_{\\theta}(x^{(i)})$ for any $x^{(i)}$\n",
    "3. Implement code to compute a cost function $J(\\theta)$\n",
    "4. Implement backpropagation to compute partial derivatives $\\frac{\\delta}{\\delta\\theta_{jk}^{l}}{J(\\theta)}$\n",
    "5. Use gradient descent (or other advanced optimizer) with backpropagation to minimize $J(\\theta)$ as a function of parameters $\\theta\\$\n",
    "6. Repeat steps 2 - 5 until cost function is 'minimized' or some other stopping criteria is met. One pass over steps 2 - 5 is called an iteration or epoch."
   ]
  },
  {
   "cell_type": "markdown",
   "metadata": {
    "colab_type": "text",
    "id": "aM4CK1IarId4",
    "toc-hr-collapsed": false
   },
   "source": [
    "# Backpropagation & Gradient Descent (Learn)\n",
    "<a id=\"p1\"></a>"
   ]
  },
  {
   "cell_type": "markdown",
   "metadata": {
    "colab_type": "text",
    "id": "Ktm8Fmoagcjy",
    "toc-hr-collapsed": true
   },
   "source": [
    "## Overview\n",
    "\n",
    "Backpropagation is short for [\"Backwards Propagation of errors\"](https://en.wikipedia.org/wiki/Backpropagation) and refers to a specific (rather calculus intensive) algorithm for how weights in a neural network are updated in reverse order at the end of each training epoch. Our purpose today is to demonstrate the backpropagation algorithm on a simple Feedforward Neural Network and in so doing help you get a grasp on the main process. If you want to understand all of the underlying calculus of how the gradients are calculated then you'll need to dive into it yourself, [3Blue1Brown's video is a great starting place](https://www.youtube.com/watch?v=tIeHLnjs5U8). I also highly recommend this Welch Labs series [Neural Networks Demystified](https://www.youtube.com/watch?v=bxe2T-V8XRs) if you want a rapid yet orderly walk through of the main intuitions and math behind the backpropagation algorithm. "
   ]
  },
  {
   "cell_type": "markdown",
   "metadata": {
    "colab_type": "text",
    "id": "NXI2tEO9gcjy"
   },
   "source": [
    "### What is a Gradient?\n",
    "\n",
    "> In vector calculus, the gradient is a multi-variable generalization of the derivative. \n",
    "\n",
    "The gradients that we will deal with today will be vector representations of the derivative of the activation function. "
   ]
  },
  {
   "cell_type": "markdown",
   "metadata": {
    "colab_type": "text",
    "id": "UZY66kiUgcjz",
    "toc-hr-collapsed": true
   },
   "source": [
    "## Follow Along\n",
    "\n",
    "In this section, we will again a simple neural network using base TensorFlow. We'll focus on using a __Feed Forward Neural Network__ to predict test scores. "
   ]
  },
  {
   "cell_type": "markdown",
   "metadata": {
    "colab_type": "text",
    "id": "Dm2HPETcrgy6",
    "toc-hr-collapsed": true
   },
   "source": [
    "<center><img src=\"https://raw.githubusercontent.com/LambdaSchool/DS-Unit-4-Sprint-2-Neural-Networks/main/module1-Architect/IMG_99C94113202D-1.jpeg\"width=500></center>"
   ]
  },
  {
   "cell_type": "markdown",
   "metadata": {
    "colab_type": "text",
    "id": "4d4tzpwO6B47"
   },
   "source": [
    "### Generate some Fake Data"
   ]
  },
  {
   "cell_type": "code",
   "execution_count": 1,
   "metadata": {
    "colab": {},
    "colab_type": "code",
    "id": "ERyVgeO_IWyV"
   },
   "outputs": [],
   "source": [
    "import tensorflow as tf\n",
    "\n",
    "# Imagine that our data is drawn from a linear function\n",
    "# y = 3*hours_studying + 50\n",
    "\n",
    "TRUE_W = 3.5\n",
    "TRUE_b = 50.0\n",
    "NUM_EXAMPLES = 1000\n",
    "\n",
    "inputs = tf.random.normal(shape=[NUM_EXAMPLES])\n",
    "noise = tf.random.normal(shape=[NUM_EXAMPLES])\n",
    "\n",
    "outputs = inputs * TRUE_W + TRUE_b + noise"
   ]
  },
  {
   "cell_type": "code",
   "execution_count": 2,
   "metadata": {
    "colab": {
     "base_uri": "https://localhost:8080/",
     "height": 70
    },
    "colab_type": "code",
    "id": "2khtdq0uoI_P",
    "outputId": "e3051d17-1078-4f85-ed69-4a7128834507"
   },
   "outputs": [
    {
     "data": {
      "text/plain": [
       "<tf.Tensor: shape=(5,), dtype=float32, numpy=\n",
       "array([ 0.22214648, -1.0475451 , -1.8344976 ,  1.0850646 ,  0.40536332],\n",
       "      dtype=float32)>"
      ]
     },
     "execution_count": 2,
     "metadata": {},
     "output_type": "execute_result"
    }
   ],
   "source": [
    "inputs[:5]"
   ]
  },
  {
   "cell_type": "code",
   "execution_count": null,
   "metadata": {
    "colab": {
     "base_uri": "https://localhost:8080/",
     "height": 70
    },
    "colab_type": "code",
    "id": "2sCoajXKoPmQ",
    "outputId": "24b276c3-5e4e-470f-fab0-500baa19137d"
   },
   "outputs": [
    {
     "data": {
      "text/plain": [
       "<tf.Tensor: shape=(5,), dtype=float32, numpy=\n",
       "array([-0.5452991 , -0.81521344,  1.9958404 , -0.80046517,  0.5429737 ],\n",
       "      dtype=float32)>"
      ]
     },
     "execution_count": 3,
     "metadata": {
      "tags": []
     },
     "output_type": "execute_result"
    }
   ],
   "source": [
    "noise[:5]"
   ]
  },
  {
   "cell_type": "code",
   "execution_count": 3,
   "metadata": {
    "colab": {
     "base_uri": "https://localhost:8080/",
     "height": 70
    },
    "colab_type": "code",
    "id": "rSCxwl_toRDS",
    "outputId": "57c70029-26de-4f75-a321-9a179c0541f0"
   },
   "outputs": [
    {
     "data": {
      "text/plain": [
       "<tf.Tensor: shape=(5,), dtype=float32, numpy=\n",
       "array([50.306377, 45.961063, 43.23612 , 53.686436, 51.91077 ],\n",
       "      dtype=float32)>"
      ]
     },
     "execution_count": 3,
     "metadata": {},
     "output_type": "execute_result"
    }
   ],
   "source": [
    "outputs[:5]"
   ]
  },
  {
   "cell_type": "markdown",
   "metadata": {
    "colab_type": "text",
    "id": "bCJesGEUgcj4"
   },
   "source": [
    "### Loss Function\n",
    "Here we will use Mean Squared Error (MSE), because this is a regression problem. We are trying to predict a continuous target."
   ]
  },
  {
   "cell_type": "code",
   "execution_count": 4,
   "metadata": {
    "colab": {},
    "colab_type": "code",
    "id": "cDeUBW6k4Ri4"
   },
   "outputs": [],
   "source": [
    "def loss(target_y, predicted_y):\n",
    "  \"MSE\"\n",
    "  return tf.reduce_mean(tf.square(target_y - predicted_y))"
   ]
  },
  {
   "cell_type": "markdown",
   "metadata": {
    "colab_type": "text",
    "id": "bgTf6vTS69Sw"
   },
   "source": [
    "### Neural Network Architecture\n",
    "Lets create a Neural Network class called \"Model\" to contain this functionality. Note: This is essentially a linear regression whose coefficients are trained by gradient descent. In practice, gradient descent works on much more complex function like the multi-layer networks we constructed yesterday."
   ]
  },
  {
   "cell_type": "code",
   "execution_count": 5,
   "metadata": {
    "colab": {},
    "colab_type": "code",
    "id": "RUI8VSR5zyBv"
   },
   "outputs": [],
   "source": [
    "class Model(object):\n",
    "\n",
    "  def __init__(self):\n",
    "    self.W = tf.Variable(8.0)\n",
    "    self.b = tf.Variable(40.0)\n",
    "\n",
    "  def __call__(self, x):\n",
    "    return self.W * x + self.b\n",
    "\n",
    "model = Model()\n",
    "\n",
    "assert model(3.0).numpy() == 64.0"
   ]
  },
  {
   "cell_type": "code",
   "execution_count": 6,
   "metadata": {
    "colab": {
     "base_uri": "https://localhost:8080/",
     "height": 35
    },
    "colab_type": "code",
    "id": "uAci_dIjpCIu",
    "outputId": "ca8f3b04-0423-484b-87a9-d29b662471ef"
   },
   "outputs": [
    {
     "data": {
      "text/plain": [
       "64.0"
      ]
     },
     "execution_count": 6,
     "metadata": {},
     "output_type": "execute_result"
    }
   ],
   "source": [
    "model(3.0).numpy()"
   ]
  },
  {
   "cell_type": "markdown",
   "metadata": {
    "colab_type": "text",
    "id": "gbyT_FJ88IlK"
   },
   "source": [
    "### Initial Weights\n",
    "The initial weights in our model were arbitrary. In practice, weights are initialized randomly. "
   ]
  },
  {
   "cell_type": "code",
   "execution_count": 7,
   "metadata": {
    "colab": {
     "base_uri": "https://localhost:8080/",
     "height": 283
    },
    "colab_type": "code",
    "id": "IreIDe6P8H0H",
    "outputId": "0bd77b35-5f21-41a6-d6d2-22dde8ce534b"
   },
   "outputs": [
    {
     "data": {
      "image/png": "[encoded data removed]",
      "text/plain": [
       "<Figure size 432x288 with 1 Axes>"
      ]
     },
     "metadata": {
      "needs_background": "light"
     },
     "output_type": "display_data"
    },
    {
     "name": "stdout",
     "output_type": "stream",
     "text": [
      "Current loss: 123.817055\n"
     ]
    }
   ],
   "source": [
    "import matplotlib.pyplot as plt\n",
    "\n",
    "plt.scatter(inputs, outputs, c='b')\n",
    "plt.scatter(inputs, model(inputs), c='r')\n",
    "plt.show()\n",
    "\n",
    "print('Current loss: %1.6f' % loss(model(inputs), outputs).numpy())"
   ]
  },
  {
   "cell_type": "markdown",
   "metadata": {
    "colab_type": "text",
    "id": "16Ujj6vNYQyX",
    "toc-hr-collapsed": true
   },
   "source": [
    "### Update Weights Based on Gradient\n",
    "\n",
    "> *Assigning blame for bad predictions and delivering justice - repeatedly and a little bit at a time*\n",
    "\n",
    "You should also know that with neural networks it is common to have gradients that are not convex (like what we saw when we applied gradient descent to linear regression). \n",
    "\n",
    "Due to the high complexity of these models and their nonlinearity, it is common for gradient descent to get stuck in a local minimum, but there are ways to combat this:\n",
    "\n",
    "1) Stochastic Gradient Descent\n",
    "\n",
    "2) More advanced Gradient-Descent-based \"Optimizers\" - See Stretch Goals on assignment."
   ]
  },
  {
   "cell_type": "code",
   "execution_count": 8,
   "metadata": {
    "colab": {},
    "colab_type": "code",
    "id": "ZgaGD6YlHoid"
   },
   "outputs": [],
   "source": [
    " def train(model, inputs, outputs, learning_rate):\n",
    "  with tf.GradientTape() as t: \n",
    "     current_loss = loss(outputs, model(inputs))\n",
    "  dW, db = t.gradient(current_loss, [model.W, model.b])\n",
    "  model.W.assign_sub(learning_rate * dW)\n",
    "  model.b.assign_sub(learning_rate * db)"
   ]
  },
  {
   "cell_type": "markdown",
   "metadata": {
    "colab_type": "text",
    "id": "7iziWWURgck8"
   },
   "source": [
    "### Train the Network"
   ]
  },
  {
   "cell_type": "code",
   "execution_count": 9,
   "metadata": {
    "colab": {
     "base_uri": "https://localhost:8080/",
     "height": 195
    },
    "colab_type": "code",
    "id": "4zn_HgFuHhTr",
    "outputId": "31a92590-508c-408a-f405-ce7eb82d46e8"
   },
   "outputs": [
    {
     "name": "stdout",
     "output_type": "stream",
     "text": [
      "Epoch  0: W=8.00 b=40.00 loss=123.81705\n",
      "Epoch  1: W=6.98 b=42.00 loss=78.68258\n",
      "Epoch  2: W=6.19 b=43.60 loss=50.16438\n",
      "Epoch  3: W=5.58 b=44.88 loss=32.13263\n",
      "Epoch  4: W=5.11 b=45.90 loss=20.72380\n",
      "Epoch  5: W=4.75 b=46.72 loss=13.50077\n",
      "Epoch  6: W=4.46 b=47.37 loss=8.92502\n",
      "Epoch  7: W=4.24 b=47.90 loss=6.02464\n",
      "Epoch  8: W=4.08 b=48.32 loss=4.18520\n",
      "Epoch  9: W=3.94 b=48.65 loss=3.01801\n"
     ]
    }
   ],
   "source": [
    "model = Model()\n",
    "\n",
    "# Store Some history of weights\n",
    "Ws, bs = [], []\n",
    "epochs = range(10)\n",
    "for epoch in epochs:\n",
    "  Ws.append(model.W.numpy())\n",
    "  bs.append(model.b.numpy())\n",
    "  current_loss = loss(outputs, model(inputs))\n",
    "\n",
    "  train(model, inputs, outputs, learning_rate=0.1)\n",
    "  print('Epoch %2d: W=%1.2f b=%1.2f loss=%2.5f' % (epoch, Ws[-1], bs[-1], current_loss))"
   ]
  },
  {
   "cell_type": "code",
   "execution_count": 10,
   "metadata": {
    "colab": {
     "base_uri": "https://localhost:8080/",
     "height": 265
    },
    "colab_type": "code",
    "id": "FSEt07wdHvi2",
    "outputId": "97194ab5-509f-4ef3-8bad-3cbea64d42e1"
   },
   "outputs": [
    {
     "data": {
      "image/png": "[encoded data removed]",
      "text/plain": [
       "<Figure size 432x288 with 1 Axes>"
      ]
     },
     "metadata": {
      "needs_background": "light"
     },
     "output_type": "display_data"
    }
   ],
   "source": [
    "import matplotlib.pyplot as plt\n",
    "\n",
    "plt.plot(epochs, Ws, 'r', epochs, bs, 'b')\n",
    "plt.plot([TRUE_W] * len(epochs), 'r--',\n",
    "         [TRUE_b] * len(epochs), 'b--')\n",
    "plt.legend(['W', 'b', 'True W', 'True b'])\n",
    "plt.show()"
   ]
  },
  {
   "cell_type": "markdown",
   "metadata": {
    "colab_type": "text",
    "id": "iKUVGoRxgck_"
   },
   "source": [
    "## Challenge\n",
    "\n",
    "In the module project, you will be asked to explain the logic of backpropagation and gradient descent."
   ]
  },
  {
   "cell_type": "markdown",
   "metadata": {
    "colab_type": "text",
    "id": "vTqZg-6igclA",
    "toc-hr-collapsed": true
   },
   "source": [
    "# Batch Size (Learn)"
   ]
  },
  {
   "cell_type": "markdown",
   "metadata": {
    "colab_type": "text",
    "id": "0nrm-racgclA"
   },
   "source": [
    "## Overview\n",
    "\n",
    "The What - Stochastic Gradient Descent calculates an approximation of the gradient over the entire dataset by reviewing the predictions of a random sample. \n",
    "\n",
    "The Why - *Speed*. Calculating the gradient over the entire dataset is extremely expensive computationally. \n",
    "\n",
    "### Batch Size\n",
    "Batches are the number of observations our model is shown to make predictions and update the weights. Batches are selected randomly during epoch. All observations are considered when passing thru an epoch at some point.\n",
    "\n",
    "* Smaller Batch = Slower Run Time (but maybe more accurate results)\n",
    "* Default Batch = Balance between speed and accuracy\n",
    "* Large Batch = Very fast, but not nearly as accurate."
   ]
  },
  {
   "cell_type": "markdown",
   "metadata": {
    "colab_type": "text",
    "id": "oNQ2ZCi7I4i6"
   },
   "source": [
    "### Baseline Model"
   ]
  },
  {
   "cell_type": "code",
   "execution_count": null,
   "metadata": {
    "colab": {
     "base_uri": "https://localhost:8080/",
     "height": 53
    },
    "colab_type": "code",
    "id": "mZjW2lYVI9Q2",
    "outputId": "fc3ea0b1-e87d-4566-83b1-f8e815ec307c"
   },
   "outputs": [
    {
     "name": "stdout",
     "output_type": "stream",
     "text": [
      "Downloading data from https://storage.googleapis.com/tensorflow/tf-keras-datasets/mnist.npz\n",
      "11493376/11490434 [==============================] - 0s 0us/step\n"
     ]
    }
   ],
   "source": [
    "from tensorflow.keras.datasets import mnist\n",
    "\n",
    "(X_train, y_train), (X_test, y_test) = mnist.load_data()\n",
    "\n",
    "X_train = X_train / 255.\n",
    "X_test = X_test / 255.\n",
    "\n",
    "X_train = X_train.reshape((60000, 784))\n",
    "X_test = X_test.reshape((10000, 784))"
   ]
  },
  {
   "cell_type": "code",
   "execution_count": null,
   "metadata": {
    "colab": {},
    "colab_type": "code",
    "id": "o7x17kDKJSy5"
   },
   "outputs": [],
   "source": [
    "# Our Model\n",
    "from tensorflow.keras import Sequential\n",
    "from tensorflow.keras.layers import Dense\n",
    "from tensorflow.keras.optimizers import SGD\n",
    "\n",
    "def create_model(lr=.01):\n",
    "  opt = SGD(learning_rate=lr)\n",
    "\n",
    "  model = Sequential(\n",
    "      [\n",
    "       Dense(32, activation='relu', input_dim=784),\n",
    "       Dense(32, activation='relu'),\n",
    "       Dense(10, activation='softmax')       \n",
    "      ]\n",
    ")\n",
    "  model.compile(optimizer=opt, loss='sparse_categorical_crossentropy',\n",
    "                metrics=['accuracy'])\n",
    "  return model"
   ]
  },
  {
   "cell_type": "code",
   "execution_count": null,
   "metadata": {
    "colab": {
     "base_uri": "https://localhost:8080/",
     "height": 1000
    },
    "colab_type": "code",
    "id": "JcypSML8xSNh",
    "outputId": "775c29f4-ae9a-472a-f15a-57e52b69174f"
   },
   "outputs": [
    {
     "data": {
      "text/plain": [
       "['_TF_MODULE_IGNORED_PROPERTIES',\n",
       " '__call__',\n",
       " '__class__',\n",
       " '__delattr__',\n",
       " '__dict__',\n",
       " '__dir__',\n",
       " '__doc__',\n",
       " '__eq__',\n",
       " '__format__',\n",
       " '__ge__',\n",
       " '__getattribute__',\n",
       " '__getstate__',\n",
       " '__gt__',\n",
       " '__hash__',\n",
       " '__init__',\n",
       " '__init_subclass__',\n",
       " '__le__',\n",
       " '__lt__',\n",
       " '__module__',\n",
       " '__ne__',\n",
       " '__new__',\n",
       " '__reduce__',\n",
       " '__reduce_ex__',\n",
       " '__repr__',\n",
       " '__setattr__',\n",
       " '__setstate__',\n",
       " '__sizeof__',\n",
       " '__str__',\n",
       " '__subclasshook__',\n",
       " '__weakref__',\n",
       " '_activity_regularizer',\n",
       " '_add_trackable',\n",
       " '_add_variable_with_custom_getter',\n",
       " '_assert_compile_was_called',\n",
       " '_assert_weights_created',\n",
       " '_auto_track_sub_layers',\n",
       " '_autocast',\n",
       " '_autographed_call',\n",
       " '_base_model_initialized',\n",
       " '_build_graph_network_for_inferred_shape',\n",
       " '_build_input_shape',\n",
       " '_call_accepts_kwargs',\n",
       " '_call_arg_was_passed',\n",
       " '_call_fn_arg_defaults',\n",
       " '_call_fn_arg_positions',\n",
       " '_call_fn_args',\n",
       " '_call_full_argspec',\n",
       " '_callable_losses',\n",
       " '_cast_single_input',\n",
       " '_check_call_args',\n",
       " '_checkpoint_dependencies',\n",
       " '_clear_losses',\n",
       " '_compile_was_called',\n",
       " '_compiled_trainable_state',\n",
       " '_compute_dtype',\n",
       " '_compute_dtype_object',\n",
       " '_compute_output_and_mask_jointly',\n",
       " '_compute_tensor_usage_count',\n",
       " '_configure_steps_per_execution',\n",
       " '_conform_to_reference_input',\n",
       " '_created_nodes',\n",
       " '_dedup_weights',\n",
       " '_default_training_arg',\n",
       " '_deferred_dependencies',\n",
       " '_distribution_strategy',\n",
       " '_dtype',\n",
       " '_dtype_defaulted_to_floatx',\n",
       " '_dtype_policy',\n",
       " '_dynamic',\n",
       " '_eager_losses',\n",
       " '_enable_dict_to_input_mapping',\n",
       " '_expects_mask_arg',\n",
       " '_expects_training_arg',\n",
       " '_feed_input_names',\n",
       " '_feed_input_shapes',\n",
       " '_feed_inputs',\n",
       " '_flatten',\n",
       " '_flatten_layers',\n",
       " '_flatten_to_reference_inputs',\n",
       " '_functional_construction_call',\n",
       " '_gather_children_attribute',\n",
       " '_gather_saveables_for_checkpoint',\n",
       " '_get_call_arg_value',\n",
       " '_get_callback_model',\n",
       " '_get_compile_args',\n",
       " '_get_distribution_strategy',\n",
       " '_get_existing_metric',\n",
       " '_get_input_masks',\n",
       " '_get_node_attribute_at_index',\n",
       " '_get_optimizer',\n",
       " '_get_save_spec',\n",
       " '_get_trainable_state',\n",
       " '_graph_initialized',\n",
       " '_graph_network_add_loss',\n",
       " '_graph_network_add_metric',\n",
       " '_handle_activity_regularization',\n",
       " '_handle_deferred_dependencies',\n",
       " '_handle_deferred_layer_dependencies',\n",
       " '_handle_weight_regularization',\n",
       " '_has_explicit_input_shape',\n",
       " '_in_multi_worker_mode',\n",
       " '_inbound_nodes',\n",
       " '_infer_output_signature',\n",
       " '_inferred_input_shape',\n",
       " '_init_batch_counters',\n",
       " '_init_call_fn_args',\n",
       " '_init_graph_network',\n",
       " '_init_set_name',\n",
       " '_initial_weights',\n",
       " '_input_coordinates',\n",
       " '_input_dtype',\n",
       " '_input_layers',\n",
       " '_input_spec',\n",
       " '_insert_layers',\n",
       " '_is_compiled',\n",
       " '_is_graph_network',\n",
       " '_is_layer',\n",
       " '_is_layer_name_unique',\n",
       " '_keras_api_names',\n",
       " '_keras_api_names_v1',\n",
       " '_keras_tensor_symbolic_call',\n",
       " '_layer_call_argspecs',\n",
       " '_layer_checkpoint_dependencies',\n",
       " '_layers',\n",
       " '_list_extra_dependencies_for_serialization',\n",
       " '_list_functions_for_serialization',\n",
       " '_lookup_dependency',\n",
       " '_losses',\n",
       " '_map_resources',\n",
       " '_maybe_build',\n",
       " '_maybe_cast_inputs',\n",
       " '_maybe_create_attribute',\n",
       " '_maybe_initialize_trackable',\n",
       " '_maybe_load_initial_epoch_from_ckpt',\n",
       " '_metrics',\n",
       " '_metrics_lock',\n",
       " '_must_restore_from_config',\n",
       " '_name',\n",
       " '_name_based_attribute_restore',\n",
       " '_name_based_restores',\n",
       " '_name_scope',\n",
       " '_nested_inputs',\n",
       " '_nested_outputs',\n",
       " '_network_nodes',\n",
       " '_no_dependency',\n",
       " '_nodes_by_depth',\n",
       " '_non_trainable_weights',\n",
       " '_obj_reference_counts',\n",
       " '_obj_reference_counts_dict',\n",
       " '_object_identifier',\n",
       " '_outbound_nodes',\n",
       " '_output_coordinates',\n",
       " '_output_layers',\n",
       " '_output_mask_cache',\n",
       " '_output_shape_cache',\n",
       " '_output_tensor_cache',\n",
       " '_predict_counter',\n",
       " '_preload_simple_restoration',\n",
       " '_reset_compile_cache',\n",
       " '_restore_from_checkpoint_position',\n",
       " '_run_eagerly',\n",
       " '_run_internal_graph',\n",
       " '_saved_model_inputs_spec',\n",
       " '_self_name_based_restores',\n",
       " '_self_saveable_object_factories',\n",
       " '_self_setattr_tracking',\n",
       " '_self_unconditional_checkpoint_dependencies',\n",
       " '_self_unconditional_deferred_dependencies',\n",
       " '_self_unconditional_dependency_names',\n",
       " '_self_update_uid',\n",
       " '_set_call_arg_value',\n",
       " '_set_connectivity_metadata',\n",
       " '_set_dtype_policy',\n",
       " '_set_inputs',\n",
       " '_set_mask_keras_history_checked',\n",
       " '_set_mask_metadata',\n",
       " '_set_output_names',\n",
       " '_set_save_spec',\n",
       " '_set_trainable_state',\n",
       " '_set_training_mode',\n",
       " '_setattr_tracking',\n",
       " '_should_cast_single_input',\n",
       " '_should_compute_mask',\n",
       " '_should_eval',\n",
       " '_single_restoration_from_checkpoint_position',\n",
       " '_split_out_first_arg',\n",
       " '_stateful',\n",
       " '_steps_per_execution',\n",
       " '_supports_masking',\n",
       " '_symbolic_call',\n",
       " '_tensor_usage_count',\n",
       " '_test_counter',\n",
       " '_tf_api_names',\n",
       " '_tf_api_names_v1',\n",
       " '_thread_local',\n",
       " '_track_trackable',\n",
       " '_trackable_saved_model_saver',\n",
       " '_trackable_saver',\n",
       " '_tracking_metadata',\n",
       " '_train_counter',\n",
       " '_trainable',\n",
       " '_trainable_weights',\n",
       " '_training_state',\n",
       " '_unconditional_checkpoint_dependencies',\n",
       " '_unconditional_dependency_names',\n",
       " '_undeduplicated_weights',\n",
       " '_update_uid',\n",
       " '_updated_config',\n",
       " '_updates',\n",
       " '_use_legacy_deferred_behavior',\n",
       " '_validate_compile',\n",
       " '_validate_graph_inputs_and_outputs',\n",
       " '_warn_about_input_casting',\n",
       " 'activity_regularizer',\n",
       " 'add',\n",
       " 'add_loss',\n",
       " 'add_metric',\n",
       " 'add_update',\n",
       " 'add_variable',\n",
       " 'add_weight',\n",
       " 'apply',\n",
       " 'build',\n",
       " 'built',\n",
       " 'call',\n",
       " 'compile',\n",
       " 'compiled_loss',\n",
       " 'compiled_metrics',\n",
       " 'compute_mask',\n",
       " 'compute_output_shape',\n",
       " 'compute_output_signature',\n",
       " 'count_params',\n",
       " 'distribute_strategy',\n",
       " 'dtype',\n",
       " 'dynamic',\n",
       " 'evaluate',\n",
       " 'evaluate_generator',\n",
       " 'fit',\n",
       " 'fit_generator',\n",
       " 'from_config',\n",
       " 'get_config',\n",
       " 'get_input_at',\n",
       " 'get_input_mask_at',\n",
       " 'get_input_shape_at',\n",
       " 'get_layer',\n",
       " 'get_losses_for',\n",
       " 'get_output_at',\n",
       " 'get_output_mask_at',\n",
       " 'get_output_shape_at',\n",
       " 'get_updates_for',\n",
       " 'get_weights',\n",
       " 'history',\n",
       " 'inbound_nodes',\n",
       " 'input',\n",
       " 'input_mask',\n",
       " 'input_names',\n",
       " 'input_shape',\n",
       " 'input_spec',\n",
       " 'inputs',\n",
       " 'layers',\n",
       " 'load_weights',\n",
       " 'loss',\n",
       " 'losses',\n",
       " 'make_predict_function',\n",
       " 'make_test_function',\n",
       " 'make_train_function',\n",
       " 'metrics',\n",
       " 'metrics_names',\n",
       " 'name',\n",
       " 'name_scope',\n",
       " 'non_trainable_variables',\n",
       " 'non_trainable_weights',\n",
       " 'optimizer',\n",
       " 'outbound_nodes',\n",
       " 'output',\n",
       " 'output_mask',\n",
       " 'output_names',\n",
       " 'output_shape',\n",
       " 'outputs',\n",
       " 'pop',\n",
       " 'predict',\n",
       " 'predict_classes',\n",
       " 'predict_function',\n",
       " 'predict_generator',\n",
       " 'predict_on_batch',\n",
       " 'predict_proba',\n",
       " 'predict_step',\n",
       " 'reset_metrics',\n",
       " 'reset_states',\n",
       " 'run_eagerly',\n",
       " 'save',\n",
       " 'save_weights',\n",
       " 'set_weights',\n",
       " 'state_updates',\n",
       " 'stateful',\n",
       " 'stop_training',\n",
       " 'submodules',\n",
       " 'summary',\n",
       " 'supports_masking',\n",
       " 'test_function',\n",
       " 'test_on_batch',\n",
       " 'test_step',\n",
       " 'to_json',\n",
       " 'to_yaml',\n",
       " 'train_function',\n",
       " 'train_on_batch',\n",
       " 'train_step',\n",
       " 'trainable',\n",
       " 'trainable_variables',\n",
       " 'trainable_weights',\n",
       " 'updates',\n",
       " 'variables',\n",
       " 'weights',\n",
       " 'with_name_scope']"
      ]
     },
     "execution_count": 16,
     "metadata": {
      "tags": []
     },
     "output_type": "execute_result"
    }
   ],
   "source": [
    "mnist_model = create_model()\n",
    "dir(mnist_model)"
   ]
  },
  {
   "cell_type": "code",
   "execution_count": null,
   "metadata": {
    "colab": {
     "base_uri": "https://localhost:8080/",
     "height": 266
    },
    "colab_type": "code",
    "id": "x1pNXBVPxfZU",
    "outputId": "53ff6e6c-6dfd-4e31-ab12-bde43ee586c6"
   },
   "outputs": [
    {
     "name": "stdout",
     "output_type": "stream",
     "text": [
      "Model: \"sequential\"\n",
      "_________________________________________________________________\n",
      "Layer (type)                 Output Shape              Param #   \n",
      "=================================================================\n",
      "dense (Dense)                (None, 32)                25120     \n",
      "_________________________________________________________________\n",
      "dense_1 (Dense)              (None, 32)                1056      \n",
      "_________________________________________________________________\n",
      "dense_2 (Dense)              (None, 10)                330       \n",
      "=================================================================\n",
      "Total params: 26,506\n",
      "Trainable params: 26,506\n",
      "Non-trainable params: 0\n",
      "_________________________________________________________________\n"
     ]
    }
   ],
   "source": [
    "mnist_model.summary()"
   ]
  },
  {
   "cell_type": "code",
   "execution_count": null,
   "metadata": {
    "colab": {
     "base_uri": "https://localhost:8080/",
     "height": 35
    },
    "colab_type": "code",
    "id": "9AjkucbjxpSk",
    "outputId": "2efd23e8-550c-4445-aafa-56d324365f30"
   },
   "outputs": [
    {
     "data": {
      "text/plain": [
       "25088"
      ]
     },
     "execution_count": 18,
     "metadata": {
      "tags": []
     },
     "output_type": "execute_result"
    }
   ],
   "source": [
    "32 * 784  # Pretty close to # of parameters, there's also bias etc."
   ]
  },
  {
   "cell_type": "markdown",
   "metadata": {
    "colab_type": "text",
    "id": "ZF7UE-KluPsX"
   },
   "source": [
    "## Follow Along\n",
    "Let's run a series of experiments for a default, small, and large batch size."
   ]
  },
  {
   "cell_type": "markdown",
   "metadata": {
    "colab_type": "text",
    "id": "VhpDaVFRJl3U"
   },
   "source": [
    "### Default\n",
    "Batch Size is 32"
   ]
  },
  {
   "cell_type": "code",
   "execution_count": null,
   "metadata": {
    "colab": {
     "base_uri": "https://localhost:8080/",
     "height": 926
    },
    "colab_type": "code",
    "id": "P-ChVGikgclD",
    "outputId": "16315f6a-547b-40e5-c2a8-deb523296061"
   },
   "outputs": [
    {
     "name": "stdout",
     "output_type": "stream",
     "text": [
      "Epoch 1/25\n",
      "1875/1875 [==============================] - 5s 3ms/step - loss: 0.7712 - accuracy: 0.7817 - val_loss: 0.3668 - val_accuracy: 0.8938\n",
      "Epoch 2/25\n",
      "1875/1875 [==============================] - 5s 3ms/step - loss: 0.3349 - accuracy: 0.9029 - val_loss: 0.2924 - val_accuracy: 0.9153\n",
      "Epoch 3/25\n",
      "1875/1875 [==============================] - 5s 3ms/step - loss: 0.2789 - accuracy: 0.9188 - val_loss: 0.2508 - val_accuracy: 0.9262\n",
      "Epoch 4/25\n",
      "1875/1875 [==============================] - 5s 3ms/step - loss: 0.2448 - accuracy: 0.9297 - val_loss: 0.2239 - val_accuracy: 0.9346\n",
      "Epoch 5/25\n",
      "1875/1875 [==============================] - 5s 3ms/step - loss: 0.2205 - accuracy: 0.9361 - val_loss: 0.2074 - val_accuracy: 0.9401\n",
      "Epoch 6/25\n",
      "1875/1875 [==============================] - 5s 3ms/step - loss: 0.2021 - accuracy: 0.9412 - val_loss: 0.1929 - val_accuracy: 0.9425\n",
      "Epoch 7/25\n",
      "1875/1875 [==============================] - 5s 3ms/step - loss: 0.1881 - accuracy: 0.9452 - val_loss: 0.1847 - val_accuracy: 0.9467\n",
      "Epoch 8/25\n",
      "1875/1875 [==============================] - 5s 3ms/step - loss: 0.1757 - accuracy: 0.9483 - val_loss: 0.1745 - val_accuracy: 0.9488\n",
      "Epoch 9/25\n",
      "1875/1875 [==============================] - 5s 3ms/step - loss: 0.1656 - accuracy: 0.9517 - val_loss: 0.1687 - val_accuracy: 0.9498\n",
      "Epoch 10/25\n",
      "1875/1875 [==============================] - 5s 3ms/step - loss: 0.1570 - accuracy: 0.9546 - val_loss: 0.1596 - val_accuracy: 0.9515\n",
      "Epoch 11/25\n",
      "1875/1875 [==============================] - 5s 3ms/step - loss: 0.1486 - accuracy: 0.9570 - val_loss: 0.1549 - val_accuracy: 0.9546\n",
      "Epoch 12/25\n",
      "1875/1875 [==============================] - 5s 3ms/step - loss: 0.1423 - accuracy: 0.9589 - val_loss: 0.1494 - val_accuracy: 0.9552\n",
      "Epoch 13/25\n",
      "1875/1875 [==============================] - 5s 3ms/step - loss: 0.1353 - accuracy: 0.9613 - val_loss: 0.1422 - val_accuracy: 0.9552\n",
      "Epoch 14/25\n",
      "1875/1875 [==============================] - 5s 3ms/step - loss: 0.1295 - accuracy: 0.9622 - val_loss: 0.1405 - val_accuracy: 0.9577\n",
      "Epoch 15/25\n",
      "1875/1875 [==============================] - 5s 3ms/step - loss: 0.1240 - accuracy: 0.9643 - val_loss: 0.1343 - val_accuracy: 0.9590\n",
      "Epoch 16/25\n",
      "1875/1875 [==============================] - 5s 3ms/step - loss: 0.1193 - accuracy: 0.9653 - val_loss: 0.1353 - val_accuracy: 0.9597\n",
      "Epoch 17/25\n",
      "1875/1875 [==============================] - 5s 3ms/step - loss: 0.1141 - accuracy: 0.9669 - val_loss: 0.1299 - val_accuracy: 0.9620\n",
      "Epoch 18/25\n",
      "1875/1875 [==============================] - 5s 3ms/step - loss: 0.1107 - accuracy: 0.9681 - val_loss: 0.1253 - val_accuracy: 0.9618\n",
      "Epoch 19/25\n",
      "1875/1875 [==============================] - 5s 3ms/step - loss: 0.1064 - accuracy: 0.9697 - val_loss: 0.1225 - val_accuracy: 0.9626\n",
      "Epoch 20/25\n",
      "1875/1875 [==============================] - 5s 3ms/step - loss: 0.1028 - accuracy: 0.9700 - val_loss: 0.1252 - val_accuracy: 0.9616\n",
      "Epoch 21/25\n",
      "1875/1875 [==============================] - 5s 3ms/step - loss: 0.0996 - accuracy: 0.9711 - val_loss: 0.1198 - val_accuracy: 0.9636\n",
      "Epoch 22/25\n",
      "1875/1875 [==============================] - 5s 3ms/step - loss: 0.0966 - accuracy: 0.9714 - val_loss: 0.1202 - val_accuracy: 0.9638\n",
      "Epoch 23/25\n",
      "1875/1875 [==============================] - 5s 3ms/step - loss: 0.0938 - accuracy: 0.9720 - val_loss: 0.1160 - val_accuracy: 0.9647\n",
      "Epoch 24/25\n",
      "1875/1875 [==============================] - 5s 3ms/step - loss: 0.0907 - accuracy: 0.9735 - val_loss: 0.1182 - val_accuracy: 0.9624\n",
      "Epoch 25/25\n",
      "1875/1875 [==============================] - 5s 3ms/step - loss: 0.0882 - accuracy: 0.9742 - val_loss: 0.1151 - val_accuracy: 0.9648\n"
     ]
    }
   ],
   "source": [
    "mnist_model_32 = create_model()\n",
    "\n",
    "bt_default = mnist_model_32.fit(X_train, y_train,\n",
    "                                # Hyperparameters!\n",
    "                                epochs=25,\n",
    "                                batch_size=32,\n",
    "                                validation_data=(X_test, y_test))"
   ]
  },
  {
   "cell_type": "markdown",
   "metadata": {
    "colab_type": "text",
    "id": "KvsbOFnDJuG0"
   },
   "source": [
    "### Small Batch Size\n",
    "Batch Size is 8"
   ]
  },
  {
   "cell_type": "code",
   "execution_count": null,
   "metadata": {
    "colab": {
     "base_uri": "https://localhost:8080/",
     "height": 926
    },
    "colab_type": "code",
    "id": "diDzvb-UJ1je",
    "outputId": "96efe7de-f2c1-4c63-e18c-a266dd81f403"
   },
   "outputs": [
    {
     "name": "stdout",
     "output_type": "stream",
     "text": [
      "Epoch 1/25\n",
      "7500/7500 [==============================] - 19s 2ms/step - loss: 0.4235 - accuracy: 0.8780 - val_loss: 0.2389 - val_accuracy: 0.9309\n",
      "Epoch 2/25\n",
      "7500/7500 [==============================] - 18s 2ms/step - loss: 0.2146 - accuracy: 0.9378 - val_loss: 0.1737 - val_accuracy: 0.9462\n",
      "Epoch 3/25\n",
      "7500/7500 [==============================] - 19s 2ms/step - loss: 0.1679 - accuracy: 0.9504 - val_loss: 0.1515 - val_accuracy: 0.9543\n",
      "Epoch 4/25\n",
      "7500/7500 [==============================] - 19s 2ms/step - loss: 0.1397 - accuracy: 0.9592 - val_loss: 0.1269 - val_accuracy: 0.9608\n",
      "Epoch 5/25\n",
      "7500/7500 [==============================] - 18s 2ms/step - loss: 0.1217 - accuracy: 0.9641 - val_loss: 0.1120 - val_accuracy: 0.9649\n",
      "Epoch 6/25\n",
      "7500/7500 [==============================] - 18s 2ms/step - loss: 0.1082 - accuracy: 0.9681 - val_loss: 0.1109 - val_accuracy: 0.9665\n",
      "Epoch 7/25\n",
      "7500/7500 [==============================] - 19s 2ms/step - loss: 0.0973 - accuracy: 0.9712 - val_loss: 0.1201 - val_accuracy: 0.9625\n",
      "Epoch 8/25\n",
      "7500/7500 [==============================] - 18s 2ms/step - loss: 0.0900 - accuracy: 0.9728 - val_loss: 0.1145 - val_accuracy: 0.9660\n",
      "Epoch 9/25\n",
      "7500/7500 [==============================] - 18s 2ms/step - loss: 0.0833 - accuracy: 0.9754 - val_loss: 0.1021 - val_accuracy: 0.9690\n",
      "Epoch 10/25\n",
      "7500/7500 [==============================] - 18s 2ms/step - loss: 0.0769 - accuracy: 0.9769 - val_loss: 0.1112 - val_accuracy: 0.9668\n",
      "Epoch 11/25\n",
      "7500/7500 [==============================] - 19s 2ms/step - loss: 0.0719 - accuracy: 0.9778 - val_loss: 0.1125 - val_accuracy: 0.9659\n",
      "Epoch 12/25\n",
      "7500/7500 [==============================] - 19s 3ms/step - loss: 0.0674 - accuracy: 0.9793 - val_loss: 0.1009 - val_accuracy: 0.9673\n",
      "Epoch 13/25\n",
      "7500/7500 [==============================] - 19s 2ms/step - loss: 0.0633 - accuracy: 0.9809 - val_loss: 0.1044 - val_accuracy: 0.9689\n",
      "Epoch 14/25\n",
      "7500/7500 [==============================] - 20s 3ms/step - loss: 0.0590 - accuracy: 0.9819 - val_loss: 0.1034 - val_accuracy: 0.9688\n",
      "Epoch 15/25\n",
      "7500/7500 [==============================] - 19s 2ms/step - loss: 0.0565 - accuracy: 0.9821 - val_loss: 0.1076 - val_accuracy: 0.9694\n",
      "Epoch 16/25\n",
      "7500/7500 [==============================] - 19s 2ms/step - loss: 0.0538 - accuracy: 0.9833 - val_loss: 0.1121 - val_accuracy: 0.9678\n",
      "Epoch 17/25\n",
      "7500/7500 [==============================] - 18s 2ms/step - loss: 0.0509 - accuracy: 0.9839 - val_loss: 0.1085 - val_accuracy: 0.9684\n",
      "Epoch 18/25\n",
      "7500/7500 [==============================] - 18s 2ms/step - loss: 0.0485 - accuracy: 0.9847 - val_loss: 0.1071 - val_accuracy: 0.9707\n",
      "Epoch 19/25\n",
      "7500/7500 [==============================] - 18s 2ms/step - loss: 0.0465 - accuracy: 0.9851 - val_loss: 0.1060 - val_accuracy: 0.9699\n",
      "Epoch 20/25\n",
      "7500/7500 [==============================] - 19s 2ms/step - loss: 0.0434 - accuracy: 0.9864 - val_loss: 0.1094 - val_accuracy: 0.9689\n",
      "Epoch 21/25\n",
      "7500/7500 [==============================] - 18s 2ms/step - loss: 0.0415 - accuracy: 0.9866 - val_loss: 0.1086 - val_accuracy: 0.9704\n",
      "Epoch 22/25\n",
      "7500/7500 [==============================] - 18s 2ms/step - loss: 0.0396 - accuracy: 0.9876 - val_loss: 0.1037 - val_accuracy: 0.9707\n",
      "Epoch 23/25\n",
      "7500/7500 [==============================] - 18s 2ms/step - loss: 0.0368 - accuracy: 0.9890 - val_loss: 0.1160 - val_accuracy: 0.9693\n",
      "Epoch 24/25\n",
      "7500/7500 [==============================] - 18s 2ms/step - loss: 0.0364 - accuracy: 0.9886 - val_loss: 0.1122 - val_accuracy: 0.9705\n",
      "Epoch 25/25\n",
      "7500/7500 [==============================] - 18s 2ms/step - loss: 0.0340 - accuracy: 0.9896 - val_loss: 0.1078 - val_accuracy: 0.9709\n"
     ]
    }
   ],
   "source": [
    "mnist_model_8 = create_model()\n",
    "\n",
    "bt_small = mnist_model_8.fit(X_train, y_train,\n",
    "                             # Hyperparameters!\n",
    "                             epochs=25,\n",
    "                             batch_size=8,\n",
    "                             validation_data=(X_test, y_test))"
   ]
  },
  {
   "cell_type": "markdown",
   "metadata": {
    "colab_type": "text",
    "id": "_iPvvvt5J2Xl"
   },
   "source": [
    "### Large Batch Size\n",
    "Batch Size is 512"
   ]
  },
  {
   "cell_type": "code",
   "execution_count": null,
   "metadata": {
    "colab": {
     "base_uri": "https://localhost:8080/",
     "height": 926
    },
    "colab_type": "code",
    "id": "7h8Z5293KABT",
    "outputId": "32f0724c-50a1-4784-f3cf-9d91e9ded1f6"
   },
   "outputs": [
    {
     "name": "stdout",
     "output_type": "stream",
     "text": [
      "Epoch 1/25\n",
      "118/118 [==============================] - 1s 5ms/step - loss: 2.1799 - accuracy: 0.2145 - val_loss: 2.0129 - val_accuracy: 0.3813\n",
      "Epoch 2/25\n",
      "118/118 [==============================] - 0s 4ms/step - loss: 1.8110 - accuracy: 0.5088 - val_loss: 1.5616 - val_accuracy: 0.6192\n",
      "Epoch 3/25\n",
      "118/118 [==============================] - 0s 4ms/step - loss: 1.3592 - accuracy: 0.6718 - val_loss: 1.1269 - val_accuracy: 0.7206\n",
      "Epoch 4/25\n",
      "118/118 [==============================] - 0s 4ms/step - loss: 0.9996 - accuracy: 0.7422 - val_loss: 0.8452 - val_accuracy: 0.7811\n",
      "Epoch 5/25\n",
      "118/118 [==============================] - 0s 4ms/step - loss: 0.7862 - accuracy: 0.7903 - val_loss: 0.6861 - val_accuracy: 0.8207\n",
      "Epoch 6/25\n",
      "118/118 [==============================] - 0s 4ms/step - loss: 0.6613 - accuracy: 0.8256 - val_loss: 0.5901 - val_accuracy: 0.8481\n",
      "Epoch 7/25\n",
      "118/118 [==============================] - 0s 4ms/step - loss: 0.5809 - accuracy: 0.8481 - val_loss: 0.5251 - val_accuracy: 0.8646\n",
      "Epoch 8/25\n",
      "118/118 [==============================] - 1s 4ms/step - loss: 0.5242 - accuracy: 0.8620 - val_loss: 0.4782 - val_accuracy: 0.8754\n",
      "Epoch 9/25\n",
      "118/118 [==============================] - 0s 4ms/step - loss: 0.4830 - accuracy: 0.8711 - val_loss: 0.4452 - val_accuracy: 0.8798\n",
      "Epoch 10/25\n",
      "118/118 [==============================] - 0s 4ms/step - loss: 0.4518 - accuracy: 0.8775 - val_loss: 0.4192 - val_accuracy: 0.8847\n",
      "Epoch 11/25\n",
      "118/118 [==============================] - 0s 4ms/step - loss: 0.4282 - accuracy: 0.8825 - val_loss: 0.4003 - val_accuracy: 0.8910\n",
      "Epoch 12/25\n",
      "118/118 [==============================] - 1s 4ms/step - loss: 0.4095 - accuracy: 0.8869 - val_loss: 0.3849 - val_accuracy: 0.8936\n",
      "Epoch 13/25\n",
      "118/118 [==============================] - 0s 4ms/step - loss: 0.3943 - accuracy: 0.8902 - val_loss: 0.3738 - val_accuracy: 0.8969\n",
      "Epoch 14/25\n",
      "118/118 [==============================] - 0s 4ms/step - loss: 0.3820 - accuracy: 0.8924 - val_loss: 0.3614 - val_accuracy: 0.8999\n",
      "Epoch 15/25\n",
      "118/118 [==============================] - 0s 4ms/step - loss: 0.3714 - accuracy: 0.8957 - val_loss: 0.3525 - val_accuracy: 0.9024\n",
      "Epoch 16/25\n",
      "118/118 [==============================] - 0s 4ms/step - loss: 0.3622 - accuracy: 0.8987 - val_loss: 0.3448 - val_accuracy: 0.9025\n",
      "Epoch 17/25\n",
      "118/118 [==============================] - 0s 4ms/step - loss: 0.3543 - accuracy: 0.8995 - val_loss: 0.3381 - val_accuracy: 0.9056\n",
      "Epoch 18/25\n",
      "118/118 [==============================] - 1s 4ms/step - loss: 0.3472 - accuracy: 0.9023 - val_loss: 0.3322 - val_accuracy: 0.9067\n",
      "Epoch 19/25\n",
      "118/118 [==============================] - 0s 4ms/step - loss: 0.3408 - accuracy: 0.9037 - val_loss: 0.3266 - val_accuracy: 0.9067\n",
      "Epoch 20/25\n",
      "118/118 [==============================] - 0s 4ms/step - loss: 0.3351 - accuracy: 0.9051 - val_loss: 0.3207 - val_accuracy: 0.9079\n",
      "Epoch 21/25\n",
      "118/118 [==============================] - 0s 4ms/step - loss: 0.3296 - accuracy: 0.9067 - val_loss: 0.3168 - val_accuracy: 0.9112\n",
      "Epoch 22/25\n",
      "118/118 [==============================] - 0s 4ms/step - loss: 0.3247 - accuracy: 0.9082 - val_loss: 0.3132 - val_accuracy: 0.9126\n",
      "Epoch 23/25\n",
      "118/118 [==============================] - 0s 4ms/step - loss: 0.3200 - accuracy: 0.9099 - val_loss: 0.3082 - val_accuracy: 0.9125\n",
      "Epoch 24/25\n",
      "118/118 [==============================] - 0s 4ms/step - loss: 0.3158 - accuracy: 0.9103 - val_loss: 0.3047 - val_accuracy: 0.9129\n",
      "Epoch 25/25\n",
      "118/118 [==============================] - 0s 4ms/step - loss: 0.3117 - accuracy: 0.9114 - val_loss: 0.3014 - val_accuracy: 0.9146\n"
     ]
    }
   ],
   "source": [
    "mnist_model_512 = create_model()\n",
    "\n",
    "bt_large = mnist_model_512.fit(X_train, y_train,\n",
    "                               # Hyperparameters!\n",
    "                               epochs=25,\n",
    "                               batch_size=512,\n",
    "                               validation_data=(X_test, y_test))"
   ]
  },
  {
   "cell_type": "markdown",
   "metadata": {
    "colab_type": "text",
    "id": "B0ujUz6BKUGz"
   },
   "source": [
    "### Visualization of Results"
   ]
  },
  {
   "cell_type": "code",
   "execution_count": null,
   "metadata": {
    "colab": {
     "base_uri": "https://localhost:8080/",
     "height": 262
    },
    "colab_type": "code",
    "id": "o-5DOZNMKYt-",
    "outputId": "ac9082a5-4c82-48a0-afd1-ef6c17a492fa"
   },
   "outputs": [
    {
     "name": "stderr",
     "output_type": "stream",
     "text": [
      "/usr/local/lib/python3.6/dist-packages/statsmodels/tools/_testing.py:19: FutureWarning: pandas.util.testing is deprecated. Use the functions in the public API at pandas.testing instead.\n",
      "  import pandas.util.testing as tm\n"
     ]
    },
    {
     "data": {
      "text/html": [
       "<div>\n",
       "<style scoped>\n",
       "    .dataframe tbody tr th:only-of-type {\n",
       "        vertical-align: middle;\n",
       "    }\n",
       "\n",
       "    .dataframe tbody tr th {\n",
       "        vertical-align: top;\n",
       "    }\n",
       "\n",
       "    .dataframe thead th {\n",
       "        text-align: right;\n",
       "    }\n",
       "</style>\n",
       "<table border=\"1\" class=\"dataframe\">\n",
       "  <thead>\n",
       "    <tr style=\"text-align: right;\">\n",
       "      <th></th>\n",
       "      <th>loss</th>\n",
       "      <th>accuracy</th>\n",
       "      <th>val_loss</th>\n",
       "      <th>val_accuracy</th>\n",
       "      <th>epoch</th>\n",
       "      <th>Batch Size</th>\n",
       "    </tr>\n",
       "  </thead>\n",
       "  <tbody>\n",
       "    <tr>\n",
       "      <th>0</th>\n",
       "      <td>0.771188</td>\n",
       "      <td>0.781717</td>\n",
       "      <td>0.366844</td>\n",
       "      <td>0.8938</td>\n",
       "      <td>0</td>\n",
       "      <td>32_</td>\n",
       "    </tr>\n",
       "    <tr>\n",
       "      <th>1</th>\n",
       "      <td>0.334926</td>\n",
       "      <td>0.902917</td>\n",
       "      <td>0.292404</td>\n",
       "      <td>0.9153</td>\n",
       "      <td>1</td>\n",
       "      <td>32_</td>\n",
       "    </tr>\n",
       "    <tr>\n",
       "      <th>2</th>\n",
       "      <td>0.278943</td>\n",
       "      <td>0.918800</td>\n",
       "      <td>0.250760</td>\n",
       "      <td>0.9262</td>\n",
       "      <td>2</td>\n",
       "      <td>32_</td>\n",
       "    </tr>\n",
       "    <tr>\n",
       "      <th>3</th>\n",
       "      <td>0.244804</td>\n",
       "      <td>0.929717</td>\n",
       "      <td>0.223867</td>\n",
       "      <td>0.9346</td>\n",
       "      <td>3</td>\n",
       "      <td>32_</td>\n",
       "    </tr>\n",
       "    <tr>\n",
       "      <th>4</th>\n",
       "      <td>0.220540</td>\n",
       "      <td>0.936100</td>\n",
       "      <td>0.207430</td>\n",
       "      <td>0.9401</td>\n",
       "      <td>4</td>\n",
       "      <td>32_</td>\n",
       "    </tr>\n",
       "  </tbody>\n",
       "</table>\n",
       "</div>"
      ],
      "text/plain": [
       "       loss  accuracy  val_loss  val_accuracy  epoch Batch Size\n",
       "0  0.771188  0.781717  0.366844        0.8938      0        32_\n",
       "1  0.334926  0.902917  0.292404        0.9153      1        32_\n",
       "2  0.278943  0.918800  0.250760        0.9262      2        32_\n",
       "3  0.244804  0.929717  0.223867        0.9346      3        32_\n",
       "4  0.220540  0.936100  0.207430        0.9401      4        32_"
      ]
     },
     "execution_count": 23,
     "metadata": {
      "tags": []
     },
     "output_type": "execute_result"
    }
   ],
   "source": [
    "import seaborn as sns\n",
    "import pandas as pd\n",
    "\n",
    "batch_sizes = []\n",
    "\n",
    "for exp, result in zip([bt_default, bt_small, bt_large], [\"32_\", \"8_\", \"512_\"]):\n",
    "\n",
    "  df = pd.DataFrame.from_dict(exp.history)\n",
    "  df['epoch'] = df.index.values\n",
    "  df['Batch Size'] = result\n",
    "\n",
    "  batch_sizes.append(df)\n",
    "\n",
    "df = pd.concat(batch_sizes)\n",
    "df['Batch Size'] = df['Batch Size'].astype('str')\n",
    "df.head()"
   ]
  },
  {
   "cell_type": "code",
   "execution_count": null,
   "metadata": {
    "colab": {
     "base_uri": "https://localhost:8080/",
     "height": 283
    },
    "colab_type": "code",
    "id": "rBAnAvdH1lyY",
    "outputId": "13787824-5c4f-4981-cb82-00500b02090b"
   },
   "outputs": [
    {
     "data": {
      "image/png": "[encoded data removed]",
      "text/plain": [
       "<Figure size 432x288 with 1 Axes>"
      ]
     },
     "metadata": {
      "needs_background": "light",
      "tags": []
     },
     "output_type": "display_data"
    }
   ],
   "source": [
    "sns.lineplot(x='epoch', y='val_accuracy', hue='Batch Size', data=df);"
   ]
  },
  {
   "cell_type": "code",
   "execution_count": null,
   "metadata": {
    "colab": {
     "base_uri": "https://localhost:8080/",
     "height": 279
    },
    "colab_type": "code",
    "id": "9hHy797z2AiN",
    "outputId": "f11af3e4-d1ff-4143-9126-89bc53817245"
   },
   "outputs": [
    {
     "data": {
      "image/png": "[encoded data removed]",
      "text/plain": [
       "<Figure size 432x288 with 1 Axes>"
      ]
     },
     "metadata": {
      "needs_background": "light",
      "tags": []
     },
     "output_type": "display_data"
    }
   ],
   "source": [
    "sns.lineplot(x='epoch', y='val_loss', hue='Batch Size', data=df);"
   ]
  },
  {
   "cell_type": "markdown",
   "metadata": {
    "colab_type": "text",
    "id": "4kZ2vUYYgclS"
   },
   "source": [
    "## Challenge\n",
    "\n",
    "You will be expected to experiment with batch size on today's assignment."
   ]
  },
  {
   "cell_type": "markdown",
   "metadata": {
    "colab_type": "text",
    "id": "46cP9Pm_gclS"
   },
   "source": [
    "# Learning Rate (Learn)"
   ]
  },
  {
   "cell_type": "markdown",
   "metadata": {
    "colab_type": "text",
    "id": "Bna67ADZgclT",
    "toc-hr-collapsed": true
   },
   "source": [
    "## Overview\n",
    "\n",
    "Learning Rate controls the size of the update to our weights that the optimization algorithm makes. VERY IMPORTANT hyperparameter.\n",
    "\n",
    "* Too high of a learning rate causes unstable results\n",
    "* Too Low of a learning rate the model will underfit\n",
    "* Goldilocks parameters - it needs be \"just right\"\n",
    "* Scale of 0-1"
   ]
  },
  {
   "cell_type": "markdown",
   "metadata": {
    "colab_type": "text",
    "id": "gsVYOn7bgcle",
    "toc-hr-collapsed": true
   },
   "source": [
    "## Follow Along\n",
    "\n",
    "Same experiment with Batch but different learning rates:\n",
    "* High Learning = .75\n",
    "* Default Learning = .01\n",
    "* Low Learning Rate = .0001"
   ]
  },
  {
   "cell_type": "markdown",
   "metadata": {
    "colab_type": "text",
    "id": "CI_H8Em1NOii"
   },
   "source": [
    "### Default Learning Rate"
   ]
  },
  {
   "cell_type": "code",
   "execution_count": null,
   "metadata": {
    "colab": {
     "base_uri": "https://localhost:8080/",
     "height": 393
    },
    "colab_type": "code",
    "id": "Se8cb_ZUNVtL",
    "outputId": "07762620-b2ca-4293-c027-aefb01341b5c"
   },
   "outputs": [
    {
     "name": "stdout",
     "output_type": "stream",
     "text": [
      "Epoch 1/10\n",
      "1875/1875 [==============================] - 5s 3ms/step - loss: 0.7786 - accuracy: 0.7801 - val_loss: 0.3774 - val_accuracy: 0.8909\n",
      "Epoch 2/10\n",
      "1875/1875 [==============================] - 5s 3ms/step - loss: 0.3440 - accuracy: 0.9003 - val_loss: 0.3036 - val_accuracy: 0.9108\n",
      "Epoch 3/10\n",
      "1875/1875 [==============================] - 5s 3ms/step - loss: 0.2890 - accuracy: 0.9167 - val_loss: 0.2605 - val_accuracy: 0.9260\n",
      "Epoch 4/10\n",
      "1875/1875 [==============================] - 5s 3ms/step - loss: 0.2552 - accuracy: 0.9267 - val_loss: 0.2366 - val_accuracy: 0.9330\n",
      "Epoch 5/10\n",
      "1875/1875 [==============================] - 5s 3ms/step - loss: 0.2280 - accuracy: 0.9338 - val_loss: 0.2139 - val_accuracy: 0.9366\n",
      "Epoch 6/10\n",
      "1875/1875 [==============================] - 5s 3ms/step - loss: 0.2057 - accuracy: 0.9411 - val_loss: 0.1931 - val_accuracy: 0.9436\n",
      "Epoch 7/10\n",
      "1875/1875 [==============================] - 5s 3ms/step - loss: 0.1876 - accuracy: 0.9461 - val_loss: 0.1812 - val_accuracy: 0.9463\n",
      "Epoch 8/10\n",
      "1875/1875 [==============================] - 5s 3ms/step - loss: 0.1731 - accuracy: 0.9499 - val_loss: 0.1659 - val_accuracy: 0.9522\n",
      "Epoch 9/10\n",
      "1875/1875 [==============================] - 5s 3ms/step - loss: 0.1611 - accuracy: 0.9531 - val_loss: 0.1580 - val_accuracy: 0.9559\n",
      "Epoch 10/10\n",
      "1875/1875 [==============================] - 5s 3ms/step - loss: 0.1510 - accuracy: 0.9562 - val_loss: 0.1474 - val_accuracy: 0.9582\n"
     ]
    }
   ],
   "source": [
    "# Running with 10 for time, feel free to rerun with 25 to make nicer plots\n",
    "lr_default = create_model().fit(X_train, y_train,\n",
    "                                epochs=10,\n",
    "                                validation_data=(X_test,y_test)\n",
    ")"
   ]
  },
  {
   "cell_type": "markdown",
   "metadata": {
    "colab_type": "text",
    "id": "IQZ4SZdKNMRO"
   },
   "source": [
    "### High Learning Rate"
   ]
  },
  {
   "cell_type": "code",
   "execution_count": null,
   "metadata": {
    "colab": {
     "base_uri": "https://localhost:8080/",
     "height": 393
    },
    "colab_type": "code",
    "id": "Ny72mU_dNWMR",
    "outputId": "a5c4a37d-c501-4a8f-d144-e7013d946a4f"
   },
   "outputs": [
    {
     "name": "stdout",
     "output_type": "stream",
     "text": [
      "Epoch 1/10\n",
      "1875/1875 [==============================] - 5s 3ms/step - loss: 1.0890 - accuracy: 0.5774 - val_loss: 0.6770 - val_accuracy: 0.7246\n",
      "Epoch 2/10\n",
      "1875/1875 [==============================] - 5s 3ms/step - loss: 0.7045 - accuracy: 0.7240 - val_loss: 0.7290 - val_accuracy: 0.7336\n",
      "Epoch 3/10\n",
      "1875/1875 [==============================] - 5s 3ms/step - loss: 0.7079 - accuracy: 0.7232 - val_loss: 0.7665 - val_accuracy: 0.7003\n",
      "Epoch 4/10\n",
      "1875/1875 [==============================] - 5s 3ms/step - loss: 0.7210 - accuracy: 0.7242 - val_loss: 0.9313 - val_accuracy: 0.6708\n",
      "Epoch 5/10\n",
      "1875/1875 [==============================] - 5s 3ms/step - loss: 0.6648 - accuracy: 0.7579 - val_loss: 0.6576 - val_accuracy: 0.7375\n",
      "Epoch 6/10\n",
      "1875/1875 [==============================] - 5s 3ms/step - loss: 0.8182 - accuracy: 0.6890 - val_loss: 0.7435 - val_accuracy: 0.7298\n",
      "Epoch 7/10\n",
      "1875/1875 [==============================] - 5s 3ms/step - loss: 1.1571 - accuracy: 0.5337 - val_loss: 1.3096 - val_accuracy: 0.4445\n",
      "Epoch 8/10\n",
      "1875/1875 [==============================] - 5s 3ms/step - loss: 1.2215 - accuracy: 0.4667 - val_loss: 1.2159 - val_accuracy: 0.4811\n",
      "Epoch 9/10\n",
      "1875/1875 [==============================] - 5s 3ms/step - loss: 1.2123 - accuracy: 0.4612 - val_loss: 1.2701 - val_accuracy: 0.4665\n",
      "Epoch 10/10\n",
      "1875/1875 [==============================] - 5s 3ms/step - loss: 1.1874 - accuracy: 0.4631 - val_loss: 1.2029 - val_accuracy: 0.4721\n"
     ]
    }
   ],
   "source": [
    "lr_high = create_model(lr=.75).fit(X_train, y_train,\n",
    "                                epochs=10,\n",
    "                                validation_data=(X_test,y_test)\n",
    ")"
   ]
  },
  {
   "cell_type": "markdown",
   "metadata": {
    "colab_type": "text",
    "id": "kAqDmTVBNSMR"
   },
   "source": [
    "### Low Learning Rate"
   ]
  },
  {
   "cell_type": "code",
   "execution_count": null,
   "metadata": {
    "colab": {
     "base_uri": "https://localhost:8080/",
     "height": 393
    },
    "colab_type": "code",
    "id": "Ech1ER64NXBn",
    "outputId": "c3a22849-05c0-4c6b-bd4e-9d3557e09805"
   },
   "outputs": [
    {
     "name": "stdout",
     "output_type": "stream",
     "text": [
      "Epoch 1/10\n",
      "1875/1875 [==============================] - 5s 3ms/step - loss: 2.3007 - accuracy: 0.1126 - val_loss: 2.2767 - val_accuracy: 0.1278\n",
      "Epoch 2/10\n",
      "1875/1875 [==============================] - 5s 3ms/step - loss: 2.2561 - accuracy: 0.1456 - val_loss: 2.2359 - val_accuracy: 0.1574\n",
      "Epoch 3/10\n",
      "1875/1875 [==============================] - 5s 3ms/step - loss: 2.2165 - accuracy: 0.1752 - val_loss: 2.1962 - val_accuracy: 0.1886\n",
      "Epoch 4/10\n",
      "1875/1875 [==============================] - 5s 3ms/step - loss: 2.1763 - accuracy: 0.2066 - val_loss: 2.1543 - val_accuracy: 0.2209\n",
      "Epoch 5/10\n",
      "1875/1875 [==============================] - 5s 3ms/step - loss: 2.1333 - accuracy: 0.2430 - val_loss: 2.1091 - val_accuracy: 0.2610\n",
      "Epoch 6/10\n",
      "1875/1875 [==============================] - 5s 3ms/step - loss: 2.0871 - accuracy: 0.2863 - val_loss: 2.0608 - val_accuracy: 0.3038\n",
      "Epoch 7/10\n",
      "1875/1875 [==============================] - 5s 3ms/step - loss: 2.0379 - accuracy: 0.3370 - val_loss: 2.0097 - val_accuracy: 0.3574\n",
      "Epoch 8/10\n",
      "1875/1875 [==============================] - 5s 3ms/step - loss: 1.9858 - accuracy: 0.3973 - val_loss: 1.9557 - val_accuracy: 0.4156\n",
      "Epoch 9/10\n",
      "1875/1875 [==============================] - 5s 3ms/step - loss: 1.9307 - accuracy: 0.4488 - val_loss: 1.8985 - val_accuracy: 0.4585\n",
      "Epoch 10/10\n",
      "1875/1875 [==============================] - 5s 3ms/step - loss: 1.8724 - accuracy: 0.4907 - val_loss: 1.8382 - val_accuracy: 0.4937\n"
     ]
    }
   ],
   "source": [
    "lr_low = create_model(lr=.0001).fit(X_train, y_train,\n",
    "                                epochs=10,\n",
    "                                validation_data=(X_test,y_test)\n",
    ")"
   ]
  },
  {
   "cell_type": "markdown",
   "metadata": {
    "colab_type": "text",
    "id": "sZe6DyhANXdU"
   },
   "source": [
    "### Visualization of Results"
   ]
  },
  {
   "cell_type": "code",
   "execution_count": null,
   "metadata": {
    "colab": {
     "base_uri": "https://localhost:8080/",
     "height": 206
    },
    "colab_type": "code",
    "id": "Bn-BdFdMNph-",
    "outputId": "4bb53365-1ce5-488f-e288-c6b7352c4f02"
   },
   "outputs": [
    {
     "data": {
      "text/html": [
       "<div>\n",
       "<style scoped>\n",
       "    .dataframe tbody tr th:only-of-type {\n",
       "        vertical-align: middle;\n",
       "    }\n",
       "\n",
       "    .dataframe tbody tr th {\n",
       "        vertical-align: top;\n",
       "    }\n",
       "\n",
       "    .dataframe thead th {\n",
       "        text-align: right;\n",
       "    }\n",
       "</style>\n",
       "<table border=\"1\" class=\"dataframe\">\n",
       "  <thead>\n",
       "    <tr style=\"text-align: right;\">\n",
       "      <th></th>\n",
       "      <th>loss</th>\n",
       "      <th>accuracy</th>\n",
       "      <th>val_loss</th>\n",
       "      <th>val_accuracy</th>\n",
       "      <th>epoch</th>\n",
       "      <th>Learning Rate</th>\n",
       "    </tr>\n",
       "  </thead>\n",
       "  <tbody>\n",
       "    <tr>\n",
       "      <th>0</th>\n",
       "      <td>0.778592</td>\n",
       "      <td>0.780150</td>\n",
       "      <td>0.377377</td>\n",
       "      <td>0.8909</td>\n",
       "      <td>0</td>\n",
       "      <td>.01_</td>\n",
       "    </tr>\n",
       "    <tr>\n",
       "      <th>1</th>\n",
       "      <td>0.343956</td>\n",
       "      <td>0.900300</td>\n",
       "      <td>0.303628</td>\n",
       "      <td>0.9108</td>\n",
       "      <td>1</td>\n",
       "      <td>.01_</td>\n",
       "    </tr>\n",
       "    <tr>\n",
       "      <th>2</th>\n",
       "      <td>0.288989</td>\n",
       "      <td>0.916733</td>\n",
       "      <td>0.260530</td>\n",
       "      <td>0.9260</td>\n",
       "      <td>2</td>\n",
       "      <td>.01_</td>\n",
       "    </tr>\n",
       "    <tr>\n",
       "      <th>3</th>\n",
       "      <td>0.255233</td>\n",
       "      <td>0.926683</td>\n",
       "      <td>0.236631</td>\n",
       "      <td>0.9330</td>\n",
       "      <td>3</td>\n",
       "      <td>.01_</td>\n",
       "    </tr>\n",
       "    <tr>\n",
       "      <th>4</th>\n",
       "      <td>0.227982</td>\n",
       "      <td>0.933783</td>\n",
       "      <td>0.213889</td>\n",
       "      <td>0.9366</td>\n",
       "      <td>4</td>\n",
       "      <td>.01_</td>\n",
       "    </tr>\n",
       "  </tbody>\n",
       "</table>\n",
       "</div>"
      ],
      "text/plain": [
       "       loss  accuracy  val_loss  val_accuracy  epoch Learning Rate\n",
       "0  0.778592  0.780150  0.377377        0.8909      0          .01_\n",
       "1  0.343956  0.900300  0.303628        0.9108      1          .01_\n",
       "2  0.288989  0.916733  0.260530        0.9260      2          .01_\n",
       "3  0.255233  0.926683  0.236631        0.9330      3          .01_\n",
       "4  0.227982  0.933783  0.213889        0.9366      4          .01_"
      ]
     },
     "execution_count": 31,
     "metadata": {
      "tags": []
     },
     "output_type": "execute_result"
    }
   ],
   "source": [
    "import seaborn as sns\n",
    "import pandas as pd\n",
    "\n",
    "batch_sizes = []\n",
    "\n",
    "for exp, result in zip([lr_default, lr_low, lr_high], [\".01_\", \".0001_\", \".75_\"]):\n",
    "\n",
    "  df = pd.DataFrame.from_dict(exp.history)\n",
    "  df['epoch'] = df.index.values\n",
    "  df['Learning Rate'] = result\n",
    "\n",
    "  batch_sizes.append(df)\n",
    "\n",
    "df = pd.concat(batch_sizes)\n",
    "df['Learning Rate'] = df['Learning Rate'].astype('str')\n",
    "df.head()"
   ]
  },
  {
   "cell_type": "code",
   "execution_count": null,
   "metadata": {
    "colab": {
     "base_uri": "https://localhost:8080/",
     "height": 279
    },
    "colab_type": "code",
    "id": "6nM1XNkJ3pz3",
    "outputId": "edae4a63-2f4d-4abc-de37-4cd598af4f1a"
   },
   "outputs": [
    {
     "data": {
      "image/png": "[encoded data removed]",
      "text/plain": [
       "<Figure size 432x288 with 1 Axes>"
      ]
     },
     "metadata": {
      "needs_background": "light",
      "tags": []
     },
     "output_type": "display_data"
    }
   ],
   "source": [
    "sns.lineplot(x='epoch', y='val_accuracy', hue='Learning Rate', data=df);"
   ]
  },
  {
   "cell_type": "code",
   "execution_count": null,
   "metadata": {
    "colab": {
     "base_uri": "https://localhost:8080/",
     "height": 279
    },
    "colab_type": "code",
    "id": "XkIia1ZB3luY",
    "outputId": "0769d2e3-0c17-47fd-b05c-ed5017dcdc84"
   },
   "outputs": [
    {
     "data": {
      "image/png": "[encoded data removed]",
      "text/plain": [
       "<Figure size 432x288 with 1 Axes>"
      ]
     },
     "metadata": {
      "needs_background": "light",
      "tags": []
     },
     "output_type": "display_data"
    }
   ],
   "source": [
    "sns.lineplot(x='epoch', y='val_loss', hue='Learning Rate', data=df);"
   ]
  },
  {
   "cell_type": "markdown",
   "metadata": {
    "colab_type": "text",
    "id": "Kb2aiw_Sgcl7"
   },
   "source": [
    "## Challenge\n",
    "\n",
    "You will be expected to experiment with different learning rates today.\n",
    "\n",
    "---"
   ]
  }
 ],
 "metadata": {
  "accelerator": "GPU",
  "colab": {
   "collapsed_sections": [],
   "name": "LS_DS17_422_Train.ipynb",
   "provenance": []
  },
  "kernelspec": {
   "display_name": "U4-S1-NLP (Python3)",
   "language": "python",
   "name": "u4-s1-nlp"
  },
  "language_info": {
   "codemirror_mode": {
    "name": "ipython",
    "version": 3
   },
   "file_extension": ".py",
   "mimetype": "text/x-python",
   "name": "python",
   "nbconvert_exporter": "python",
   "pygments_lexer": "ipython3",
   "version": "3.8.5"
  }
 },
 "nbformat": 4,
 "nbformat_minor": 4
}
