{
 "cells": [
  {
   "cell_type": "markdown",
   "metadata": {
    "colab_type": "text",
    "id": "HJzTIkYAsLxw"
   },
   "source": [
    "Lambda School Data Science\n",
    "\n",
    "*Unit 4, Sprint 2, Module 4*\n",
    "\n",
    "---"
   ]
  },
  {
   "cell_type": "markdown",
   "metadata": {
    "colab_type": "text",
    "id": "YCf3jDMVQHuI"
   },
   "source": [
    "# Neural Network Frameworks (Prepare)"
   ]
  },
  {
   "cell_type": "markdown",
   "metadata": {
    "colab_type": "text",
    "id": "GR0XBF5HQHuI"
   },
   "source": [
    "## Learning Objectives\n",
    "* <a href=\"#p1\">Part 1</a>: Implement Regularization Strategies\n",
    "* <a href=\"#p2\">Part 2</a>: Deploy a Keras Model\n",
    "* <a href=\"#p3\">Part 3</a>: Write a Custom Callback Function (Optional)\n",
    "\n",
    "Today's class will also focus heavily on Callback objects. We will use a variety of callbacks to monitor and manipulate our models based on data that our model produces at the end of an epoch.\n",
    "\n",
    "> A callback is an object that can perform actions at various stages of training (e.g. at the start or end of an epoch, before or after a single batch, etc). -- [Keras Documentation](https://keras.io/api/callbacks/)"
   ]
  },
  {
   "cell_type": "markdown",
   "metadata": {
    "colab_type": "text",
    "id": "TWuoXZCCKCI7"
   },
   "source": [
    "# Regularization Strategies (Learn)"
   ]
  },
  {
   "cell_type": "markdown",
   "metadata": {
    "colab_type": "text",
    "id": "E3aMJZuPQHur"
   },
   "source": [
    "## Overview\n",
    "\n",
    "Neural Networks are highly parameterized models and can be easily overfit to the training data. The most salient way to combat this problem is with regularization strategies.  \n",
    "\n",
    "![](https://upload.wikimedia.org/wikipedia/commons/thumb/0/02/Regularization.svg/1920px-Regularization.svg.png)\n",
    "\n",
    "There are four common ways of regularization in neural networks which we cover briefly. Here's a quick summary of how to apply them: \n",
    "\n",
    "1. Always use EarlyStopping. This strategy will prevent your weights from being updated well past the point of their peak usefulness.\n",
    "2. Use EarlyStopping, Weight Decay and Dropout\n",
    "3. Use EarlyStopping, Weight Constraint and Dropout\n",
    "4. Also think about the architecture (number of layers, neurons) - determines number of parameters, which is the basis of overfitting - but even \"small\" neural nets can be complicated and overfit!\n",
    "\n",
    "Weight Decay and Weigh Constraint accomplish similar purposes - preventing over fitting the parameters by regularizing the values. The mechanics are just slightly different. That's why you would not necessary want to apply them together."
   ]
  },
  {
   "cell_type": "markdown",
   "metadata": {
    "colab_type": "text",
    "id": "3FFhK0tLQHus"
   },
   "source": [
    "## Follow Along"
   ]
  },
  {
   "cell_type": "markdown",
   "metadata": {
    "colab_type": "text",
    "id": "RO74ukb-QHus"
   },
   "source": [
    "### Early Stopping"
   ]
  },
  {
   "cell_type": "code",
   "execution_count": null,
   "metadata": {
    "colab": {},
    "colab_type": "code",
    "id": "xgQR_iCHSF1x"
   },
   "outputs": [],
   "source": [
    "%load_ext tensorboard"
   ]
  },
  {
   "cell_type": "code",
   "execution_count": null,
   "metadata": {
    "colab": {
     "base_uri": "https://localhost:8080/",
     "height": 176
    },
    "colab_type": "code",
    "id": "f1GTvVzE6Wzo",
    "outputId": "0f3c0196-e308-4e01-98eb-63cbbba15cec"
   },
   "outputs": [
    {
     "name": "stdout",
     "output_type": "stream",
     "text": [
      "Downloading data from https://storage.googleapis.com/tensorflow/tf-keras-datasets/train-labels-idx1-ubyte.gz\n",
      "32768/29515 [=================================] - 0s 0us/step\n",
      "Downloading data from https://storage.googleapis.com/tensorflow/tf-keras-datasets/train-images-idx3-ubyte.gz\n",
      "26427392/26421880 [==============================] - 0s 0us/step\n",
      "Downloading data from https://storage.googleapis.com/tensorflow/tf-keras-datasets/t10k-labels-idx1-ubyte.gz\n",
      "8192/5148 [===============================================] - 0s 0us/step\n",
      "Downloading data from https://storage.googleapis.com/tensorflow/tf-keras-datasets/t10k-images-idx3-ubyte.gz\n",
      "4423680/4422102 [==============================] - 0s 0us/step\n"
     ]
    }
   ],
   "source": [
    "from tensorflow.keras.datasets import fashion_mnist\n",
    "\n",
    "(X_train, y_train), (X_test, y_test) = fashion_mnist.load_data()"
   ]
  },
  {
   "cell_type": "code",
   "execution_count": null,
   "metadata": {
    "colab": {
     "base_uri": "https://localhost:8080/",
     "height": 281
    },
    "colab_type": "code",
    "id": "lMl1AMzo6btD",
    "outputId": "6ead081c-fa37-46f7-be72-e286dab965ca"
   },
   "outputs": [
    {
     "data": {
      "image/png": "[encoded data removed]",
      "text/plain": [
       "<Figure size 432x288 with 1 Axes>"
      ]
     },
     "metadata": {
      "needs_background": "light",
      "tags": []
     },
     "output_type": "display_data"
    }
   ],
   "source": [
    "import matplotlib.pyplot as plt\n",
    "\n",
    "plt.title(y_train[3])\n",
    "plt.imshow(X_train[3]);"
   ]
  },
  {
   "cell_type": "code",
   "execution_count": null,
   "metadata": {
    "colab": {},
    "colab_type": "code",
    "id": "7lKoNb426oU9"
   },
   "outputs": [],
   "source": [
    "X_train, X_test = X_train / 255., X_test / 255."
   ]
  },
  {
   "cell_type": "code",
   "execution_count": null,
   "metadata": {
    "colab": {
     "base_uri": "https://localhost:8080/",
     "height": 34
    },
    "colab_type": "code",
    "id": "54VH_2Id66DI",
    "outputId": "1df25b4e-c5da-4e6e-d839-38f3d8824ab7"
   },
   "outputs": [
    {
     "data": {
      "text/plain": [
       "784"
      ]
     },
     "execution_count": 5,
     "metadata": {
      "tags": []
     },
     "output_type": "execute_result"
    }
   ],
   "source": [
    "28 * 28  # Same feature size as MNIST"
   ]
  },
  {
   "cell_type": "code",
   "execution_count": null,
   "metadata": {
    "colab": {
     "base_uri": "https://localhost:8080/",
     "height": 436
    },
    "colab_type": "code",
    "id": "AY1HomhxQHus",
    "outputId": "4e6781ed-ed85-41f6-b34e-7039cc436590"
   },
   "outputs": [
    {
     "name": "stdout",
     "output_type": "stream",
     "text": [
      "Epoch 1/99\n",
      "   1/1875 [..............................] - ETA: 0s - loss: 2.3615 - accuracy: 0.0625WARNING:tensorflow:From /usr/local/lib/python3.6/dist-packages/tensorflow/python/ops/summary_ops_v2.py:1277: stop (from tensorflow.python.eager.profiler) is deprecated and will be removed after 2020-07-01.\n",
      "Instructions for updating:\n",
      "use `tf.profiler.experimental.stop` instead.\n",
      "   2/1875 [..............................] - ETA: 47s - loss: 2.3330 - accuracy: 0.0781WARNING:tensorflow:Callbacks method `on_train_batch_end` is slow compared to the batch time (batch time: 0.0110s vs `on_train_batch_end` time: 0.0397s). Check your callbacks.\n",
      "1875/1875 [==============================] - 8s 4ms/step - loss: 0.4720 - accuracy: 0.8291 - val_loss: 0.4106 - val_accuracy: 0.8528\n",
      "Epoch 2/99\n",
      "1875/1875 [==============================] - 8s 4ms/step - loss: 0.3533 - accuracy: 0.8689 - val_loss: 0.4002 - val_accuracy: 0.8555\n",
      "Epoch 3/99\n",
      "1875/1875 [==============================] - 8s 4ms/step - loss: 0.3219 - accuracy: 0.8810 - val_loss: 0.3733 - val_accuracy: 0.8641\n",
      "Epoch 4/99\n",
      "1875/1875 [==============================] - 9s 5ms/step - loss: 0.2982 - accuracy: 0.8894 - val_loss: 0.3458 - val_accuracy: 0.8755\n",
      "Epoch 5/99\n",
      "1875/1875 [==============================] - 8s 4ms/step - loss: 0.2835 - accuracy: 0.8939 - val_loss: 0.3628 - val_accuracy: 0.8724\n",
      "Epoch 6/99\n",
      "1875/1875 [==============================] - 8s 4ms/step - loss: 0.2680 - accuracy: 0.9002 - val_loss: 0.3340 - val_accuracy: 0.8818\n",
      "Epoch 7/99\n",
      "1875/1875 [==============================] - 8s 4ms/step - loss: 0.2584 - accuracy: 0.9018 - val_loss: 0.3412 - val_accuracy: 0.8821\n",
      "Epoch 8/99\n",
      "1875/1875 [==============================] - 8s 4ms/step - loss: 0.2456 - accuracy: 0.9070 - val_loss: 0.3336 - val_accuracy: 0.8850\n",
      "Epoch 9/99\n",
      "1875/1875 [==============================] - 8s 4ms/step - loss: 0.2397 - accuracy: 0.9087 - val_loss: 0.3341 - val_accuracy: 0.8869\n"
     ]
    },
    {
     "data": {
      "text/plain": [
       "<tensorflow.python.keras.callbacks.History at 0x7f817a14bf28>"
      ]
     },
     "execution_count": 6,
     "metadata": {
      "tags": []
     },
     "output_type": "execute_result"
    }
   ],
   "source": [
    "from tensorflow.keras.callbacks import EarlyStopping, TensorBoard\n",
    "from tensorflow.keras.layers import Flatten, Dense\n",
    "from tensorflow.keras.layers import ReLU\n",
    "import tensorflow as tf\n",
    "import os\n",
    "\n",
    "logdir = os.path.join(\"logs\", \"EarlyStopping-Loss\")\n",
    "\n",
    "tensorboard_callback = tf.keras.callbacks.TensorBoard(logdir, histogram_freq=1)\n",
    "stop = EarlyStopping(monitor='val_loss', min_delta=0.01, patience=3)\n",
    "\n",
    "model = tf.keras.Sequential([\n",
    "    Flatten(input_shape=(28,28)),  # Treats as 784x1\n",
    "    Dense(128),\n",
    "    ReLU(negative_slope=.01),\n",
    "    Dense(128),\n",
    "    ReLU(negative_slope=.01),\n",
    "    Dense(128),\n",
    "    ReLU(negative_slope=.01),\n",
    "    Dense(10, activation='softmax')\n",
    "])\n",
    "\n",
    "model.compile(loss='sparse_categorical_crossentropy', optimizer='nadam',\n",
    "              metrics=['accuracy'])\n",
    "\n",
    "model.fit(X_train, y_train, epochs=99, \n",
    "          validation_data=(X_test,y_test),\n",
    "          callbacks=[tensorboard_callback, stop])"
   ]
  },
  {
   "cell_type": "markdown",
   "metadata": {
    "colab_type": "text",
    "id": "Y7ScqKUzQHuv"
   },
   "source": [
    "### Weight Decay\n",
    "\n",
    "```python\n",
    "Dense(64, input_dim=64,\n",
    "            kernel_regularizer=regularizers.l2(0.01),\n",
    "            activity_regularizer=regularizers.l1(0.01)))\n",
    "```"
   ]
  },
  {
   "cell_type": "code",
   "execution_count": null,
   "metadata": {
    "colab": {
     "base_uri": "https://localhost:8080/",
     "height": 489
    },
    "colab_type": "code",
    "id": "eQuacT-JQHuv",
    "outputId": "7ba22b57-07f4-47b0-8d94-c08892b8b420"
   },
   "outputs": [
    {
     "name": "stdout",
     "output_type": "stream",
     "text": [
      "Epoch 1/99\n",
      "   2/1875 [..............................] - ETA: 1:18 - loss: 18.4035 - accuracy: 0.1719WARNING:tensorflow:Callbacks method `on_train_batch_end` is slow compared to the batch time (batch time: 0.0224s vs `on_train_batch_end` time: 0.0616s). Check your callbacks.\n",
      "1875/1875 [==============================] - 40s 21ms/step - loss: 1.3241 - accuracy: 0.7719 - val_loss: 0.7757 - val_accuracy: 0.7972\n",
      "Epoch 2/99\n",
      "1875/1875 [==============================] - 40s 21ms/step - loss: 0.7097 - accuracy: 0.8156 - val_loss: 0.6883 - val_accuracy: 0.8167\n",
      "Epoch 3/99\n",
      "1875/1875 [==============================] - 40s 21ms/step - loss: 0.6555 - accuracy: 0.8262 - val_loss: 0.6430 - val_accuracy: 0.8291\n",
      "Epoch 4/99\n",
      "1875/1875 [==============================] - 40s 21ms/step - loss: 0.6286 - accuracy: 0.8345 - val_loss: 0.6516 - val_accuracy: 0.8274\n",
      "Epoch 5/99\n",
      "1875/1875 [==============================] - 40s 21ms/step - loss: 0.6028 - accuracy: 0.8401 - val_loss: 0.6385 - val_accuracy: 0.8186\n",
      "Epoch 6/99\n",
      "1875/1875 [==============================] - 39s 21ms/step - loss: 0.5923 - accuracy: 0.8411 - val_loss: 0.6186 - val_accuracy: 0.8319\n",
      "Epoch 7/99\n",
      "1875/1875 [==============================] - 40s 21ms/step - loss: 0.5853 - accuracy: 0.8425 - val_loss: 0.6978 - val_accuracy: 0.8343\n",
      "Epoch 8/99\n",
      "1875/1875 [==============================] - 39s 21ms/step - loss: 0.5911 - accuracy: 0.8424 - val_loss: 0.6085 - val_accuracy: 0.8323\n",
      "Epoch 9/99\n",
      "1875/1875 [==============================] - 39s 21ms/step - loss: 0.5638 - accuracy: 0.8456 - val_loss: 0.5779 - val_accuracy: 0.8436\n",
      "Epoch 10/99\n",
      "1875/1875 [==============================] - 40s 21ms/step - loss: 0.6781 - accuracy: 0.8431 - val_loss: 0.5783 - val_accuracy: 0.8402\n",
      "Epoch 11/99\n",
      "1875/1875 [==============================] - 40s 21ms/step - loss: 0.5550 - accuracy: 0.8467 - val_loss: 0.6018 - val_accuracy: 0.8280\n",
      "Epoch 12/99\n",
      "1875/1875 [==============================] - 41s 22ms/step - loss: 0.5537 - accuracy: 0.8466 - val_loss: 0.5704 - val_accuracy: 0.8451\n"
     ]
    },
    {
     "data": {
      "text/plain": [
       "<tensorflow.python.keras.callbacks.History at 0x7f81714476d8>"
      ]
     },
     "execution_count": 7,
     "metadata": {
      "tags": []
     },
     "output_type": "execute_result"
    }
   ],
   "source": [
    "from tensorflow.keras import regularizers\n",
    "\n",
    "logdir = os.path.join(\"logs\", \"EarlyStopping+L2_WeightDecay\")\n",
    "tensorboard_callback = tf.keras.callbacks.TensorBoard(logdir, histogram_freq=1)\n",
    "\n",
    "stop = EarlyStopping(monitor='val_loss', min_delta=0.01, patience=3)\n",
    "\n",
    "model = tf.keras.Sequential([\n",
    "    Flatten(input_shape=(28,28)),\n",
    "    Dense(512, kernel_regularizer=regularizers.l2(0.01)),\n",
    "    ReLU(negative_slope=.01),\n",
    "    Dense(512, kernel_regularizer=regularizers.l2(0.01)),\n",
    "    ReLU(negative_slope=.01),\n",
    "    Dense(512, kernel_regularizer=regularizers.l2(0.01)),\n",
    "    ReLU(negative_slope=.01),\n",
    "    Dense(10, activation='softmax')\n",
    "])\n",
    "\n",
    "model.compile(loss='sparse_categorical_crossentropy', optimizer='nadam',\n",
    "              metrics=['accuracy'])\n",
    "\n",
    "model.fit(X_train, y_train, epochs=99, \n",
    "          validation_data=(X_test,y_test),\n",
    "          callbacks=[tensorboard_callback, stop])"
   ]
  },
  {
   "cell_type": "code",
   "execution_count": null,
   "metadata": {
    "colab": {
     "base_uri": "https://localhost:8080/",
     "height": 434
    },
    "colab_type": "code",
    "id": "CWgfqejzAu8y",
    "outputId": "24bcbd84-717f-424a-d18c-f2fed69d7aad"
   },
   "outputs": [
    {
     "name": "stdout",
     "output_type": "stream",
     "text": [
      "Model: \"sequential_1\"\n",
      "_________________________________________________________________\n",
      "Layer (type)                 Output Shape              Param #   \n",
      "=================================================================\n",
      "flatten_1 (Flatten)          (None, 784)               0         \n",
      "_________________________________________________________________\n",
      "dense_4 (Dense)              (None, 512)               401920    \n",
      "_________________________________________________________________\n",
      "re_lu_3 (ReLU)               (None, 512)               0         \n",
      "_________________________________________________________________\n",
      "dense_5 (Dense)              (None, 512)               262656    \n",
      "_________________________________________________________________\n",
      "re_lu_4 (ReLU)               (None, 512)               0         \n",
      "_________________________________________________________________\n",
      "dense_6 (Dense)              (None, 512)               262656    \n",
      "_________________________________________________________________\n",
      "re_lu_5 (ReLU)               (None, 512)               0         \n",
      "_________________________________________________________________\n",
      "dense_7 (Dense)              (None, 10)                5130      \n",
      "=================================================================\n",
      "Total params: 932,362\n",
      "Trainable params: 932,362\n",
      "Non-trainable params: 0\n",
      "_________________________________________________________________\n"
     ]
    }
   ],
   "source": [
    "model.summary()"
   ]
  },
  {
   "cell_type": "code",
   "execution_count": null,
   "metadata": {
    "colab": {
     "base_uri": "https://localhost:8080/",
     "height": 822
    },
    "colab_type": "code",
    "id": "xO1LvbaPA1jB",
    "outputId": "2258b380-7e5f-479a-a8e2-2556f83853a5"
   },
   "outputs": [
    {
     "data": {
      "application/javascript": [
       "\n",
       "        (async () => {\n",
       "            const url = await google.colab.kernel.proxyPort(6006, {\"cache\": true});\n",
       "            const iframe = document.createElement('iframe');\n",
       "            iframe.src = url;\n",
       "            iframe.setAttribute('width', '100%');\n",
       "            iframe.setAttribute('height', '800');\n",
       "            iframe.setAttribute('frameborder', 0);\n",
       "            document.body.appendChild(iframe);\n",
       "        })();\n",
       "    "
      ],
      "text/plain": [
       "<IPython.core.display.Javascript object>"
      ]
     },
     "metadata": {
      "tags": []
     },
     "output_type": "display_data"
    }
   ],
   "source": [
    "%tensorboard --logdir logs"
   ]
  },
  {
   "cell_type": "markdown",
   "metadata": {
    "colab_type": "text",
    "id": "aCJ1aUIfQHuy"
   },
   "source": [
    "### Weight Constraint\n",
    "\n",
    "```python\n",
    "tf.keras.constraints.MaxNorm(\n",
    "    max_value=2, axis=0\n",
    ")\n",
    "```"
   ]
  },
  {
   "cell_type": "code",
   "execution_count": null,
   "metadata": {
    "colab": {
     "base_uri": "https://localhost:8080/",
     "height": 245
    },
    "colab_type": "code",
    "id": "gbXBxr1QQHuy",
    "outputId": "6c0c2610-ba9f-4d2d-870b-44c100fdf8f2"
   },
   "outputs": [
    {
     "name": "stdout",
     "output_type": "stream",
     "text": [
      "Epoch 1/99\n",
      "   2/1875 [..............................] - ETA: 1:38 - loss: 2.3975 - accuracy: 0.1406  WARNING:tensorflow:Callbacks method `on_train_batch_end` is slow compared to the batch time (batch time: 0.0256s vs `on_train_batch_end` time: 0.0791s). Check your callbacks.\n",
      "1875/1875 [==============================] - 39s 21ms/step - loss: 0.4673 - accuracy: 0.8290 - val_loss: 0.3901 - val_accuracy: 0.8562\n",
      "Epoch 2/99\n",
      "1875/1875 [==============================] - 38s 20ms/step - loss: 0.3506 - accuracy: 0.8721 - val_loss: 0.3725 - val_accuracy: 0.8673\n",
      "Epoch 3/99\n",
      "1875/1875 [==============================] - 39s 21ms/step - loss: 0.3232 - accuracy: 0.8819 - val_loss: 0.3822 - val_accuracy: 0.8641\n",
      "Epoch 4/99\n",
      "1875/1875 [==============================] - 38s 20ms/step - loss: 0.3087 - accuracy: 0.8851 - val_loss: 0.3727 - val_accuracy: 0.8695\n",
      "Epoch 5/99\n",
      "1875/1875 [==============================] - 38s 20ms/step - loss: 0.2984 - accuracy: 0.8891 - val_loss: 0.3814 - val_accuracy: 0.8664\n"
     ]
    },
    {
     "data": {
      "text/plain": [
       "<tensorflow.python.keras.callbacks.History at 0x7f8170999710>"
      ]
     },
     "execution_count": 10,
     "metadata": {
      "tags": []
     },
     "output_type": "execute_result"
    }
   ],
   "source": [
    "from tensorflow.keras.constraints import MaxNorm\n",
    "\n",
    "wc = MaxNorm(max_value=2)\n",
    "\n",
    "logdir = os.path.join(\"logs\", \"EarlyStopping+WeightConstraint\")\n",
    "\n",
    "tensorboard_callback = tf.keras.callbacks.TensorBoard(logdir, histogram_freq=1)\n",
    "stop = EarlyStopping(monitor='val_loss', min_delta=0.01, patience=3)\n",
    "\n",
    "model = tf.keras.Sequential([\n",
    "    Flatten(input_shape=(28,28)),\n",
    "    Dense(512, kernel_constraint=wc),\n",
    "    ReLU(negative_slope=.01),\n",
    "    Dense(512, kernel_constraint=wc),\n",
    "    ReLU(negative_slope=.01),\n",
    "    Dense(512, kernel_constraint=wc),\n",
    "    ReLU(negative_slope=.01),\n",
    "    Dense(10, activation='softmax')\n",
    "])\n",
    "\n",
    "model.compile(loss='sparse_categorical_crossentropy', optimizer='nadam', metrics=['accuracy'])\n",
    "\n",
    "model.fit(X_train, y_train, epochs=99, \n",
    "          validation_data=(X_test,y_test),\n",
    "          callbacks=[tensorboard_callback, stop])"
   ]
  },
  {
   "cell_type": "markdown",
   "metadata": {
    "colab_type": "text",
    "id": "9-xMnXMsQHu0"
   },
   "source": [
    "### Dropout"
   ]
  },
  {
   "cell_type": "code",
   "execution_count": null,
   "metadata": {
    "colab": {
     "base_uri": "https://localhost:8080/",
     "height": 280
    },
    "colab_type": "code",
    "id": "MCRL8SmgQHu0",
    "outputId": "c0e69c83-cd26-4afb-9086-776e6f3d24ea"
   },
   "outputs": [
    {
     "name": "stdout",
     "output_type": "stream",
     "text": [
      "Epoch 1/99\n",
      "   2/1875 [..............................] - ETA: 1:27 - loss: 2.3170 - accuracy: 0.1562WARNING:tensorflow:Callbacks method `on_train_batch_end` is slow compared to the batch time (batch time: 0.0166s vs `on_train_batch_end` time: 0.0774s). Check your callbacks.\n",
      "1875/1875 [==============================] - 17s 9ms/step - loss: 0.5324 - accuracy: 0.8087 - val_loss: 0.4262 - val_accuracy: 0.8449\n",
      "Epoch 2/99\n",
      "1875/1875 [==============================] - 17s 9ms/step - loss: 0.4074 - accuracy: 0.8516 - val_loss: 0.3934 - val_accuracy: 0.8589\n",
      "Epoch 3/99\n",
      "1875/1875 [==============================] - 18s 9ms/step - loss: 0.3786 - accuracy: 0.8609 - val_loss: 0.3733 - val_accuracy: 0.8624\n",
      "Epoch 4/99\n",
      "1875/1875 [==============================] - 18s 10ms/step - loss: 0.3666 - accuracy: 0.8658 - val_loss: 0.3651 - val_accuracy: 0.8677\n",
      "Epoch 5/99\n",
      "1875/1875 [==============================] - 18s 9ms/step - loss: 0.3591 - accuracy: 0.8690 - val_loss: 0.3696 - val_accuracy: 0.8653\n",
      "Epoch 6/99\n",
      "1875/1875 [==============================] - 19s 10ms/step - loss: 0.3533 - accuracy: 0.8709 - val_loss: 0.3729 - val_accuracy: 0.8643\n"
     ]
    },
    {
     "data": {
      "text/plain": [
       "<tensorflow.python.keras.callbacks.History at 0x7f816fea1550>"
      ]
     },
     "execution_count": 11,
     "metadata": {
      "tags": []
     },
     "output_type": "execute_result"
    }
   ],
   "source": [
    "from tensorflow.keras.layers import Dropout\n",
    "\n",
    "from tensorflow.keras.constraints import MaxNorm\n",
    "\n",
    "wc = MaxNorm(max_value=2)\n",
    "\n",
    "logdir = os.path.join(\"logs\", \"EarlyStopping+WeightConstraint+Dropout\")\n",
    "\n",
    "tensorboard_callback = tf.keras.callbacks.TensorBoard(logdir, histogram_freq=1)\n",
    "stop = EarlyStopping(monitor='val_loss', min_delta=0.01, patience=3)\n",
    "\n",
    "model = tf.keras.Sequential([\n",
    "    Flatten(input_shape=(28,28)),\n",
    "    Dense(256, kernel_constraint=wc),\n",
    "    ReLU(negative_slope=.01),\n",
    "    Dropout(.2),\n",
    "    Dense(256, kernel_constraint=wc),\n",
    "    ReLU(negative_slope=.01),\n",
    "    Dropout(.2),\n",
    "    Dense(256, kernel_constraint=wc),\n",
    "    ReLU(negative_slope=.01),\n",
    "    Dropout(.2),\n",
    "    Dense(10, activation='softmax')\n",
    "])\n",
    "\n",
    "model.compile(loss='sparse_categorical_crossentropy', optimizer='nadam', metrics=['accuracy'])\n",
    "\n",
    "model.fit(X_train, y_train, epochs=99, \n",
    "          validation_data=(X_test,y_test),\n",
    "          callbacks=[tensorboard_callback, stop])"
   ]
  },
  {
   "cell_type": "code",
   "execution_count": null,
   "metadata": {
    "colab": {
     "base_uri": "https://localhost:8080/",
     "height": 859
    },
    "colab_type": "code",
    "id": "RFAkmZbVQHu2",
    "outputId": "8dc076d9-055c-49de-e0e1-7a491cda8091"
   },
   "outputs": [
    {
     "data": {
      "text/plain": [
       "Reusing TensorBoard on port 6006 (pid 299), started 0:05:04 ago. (Use '!kill 299' to kill it.)"
      ]
     },
     "metadata": {
      "tags": []
     },
     "output_type": "display_data"
    },
    {
     "data": {
      "application/javascript": [
       "\n",
       "        (async () => {\n",
       "            const url = await google.colab.kernel.proxyPort(6006, {\"cache\": true});\n",
       "            const iframe = document.createElement('iframe');\n",
       "            iframe.src = url;\n",
       "            iframe.setAttribute('width', '100%');\n",
       "            iframe.setAttribute('height', '800');\n",
       "            iframe.setAttribute('frameborder', 0);\n",
       "            document.body.appendChild(iframe);\n",
       "        })();\n",
       "    "
      ],
      "text/plain": [
       "<IPython.core.display.Javascript object>"
      ]
     },
     "metadata": {
      "tags": []
     },
     "output_type": "display_data"
    }
   ],
   "source": [
    "%tensorboard --logdir logs"
   ]
  },
  {
   "cell_type": "markdown",
   "metadata": {
    "colab_type": "text",
    "id": "HbV6zsdQQHu4"
   },
   "source": [
    "## Challenge\n",
    "\n",
    "You will apply regularization strategies inside your neural network today, as you try to avoid overfitting it. \n",
    "\n",
    "---"
   ]
  },
  {
   "cell_type": "markdown",
   "metadata": {
    "colab_type": "text",
    "id": "3MXbzdBdURod"
   },
   "source": [
    "# Deploy (Learn)"
   ]
  },
  {
   "cell_type": "markdown",
   "metadata": {
    "colab_type": "text",
    "id": "11LJtU9MUVD5"
   },
   "source": [
    "## Overview\n",
    "\n",
    "You've built a dope image classification model, but it's just sitting your Jupyter Notebook. What now? Well you deploy to some down stream application. TensorFlow supports three ways of deploying it's models: \n",
    "\n",
    "- In-Browser with TensorFlow.js\n",
    "- API with TensorFlow Serving (TFX) or another Framework\n",
    "- On-Device with TensorFlow Lite\n",
    "\n",
    "You are already familiar with deploying a model as an API from Unit 3, so we will focus on deploying a model in browser. Both methods rely on the same core idea: save your weights and architecture information, load those parameters into application, and perform inference. \n",
    "\n"
   ]
  },
  {
   "cell_type": "markdown",
   "metadata": {
    "colab_type": "text",
    "id": "IHca-4H2UU8p"
   },
   "source": [
    "## Follow Along"
   ]
  },
  {
   "cell_type": "markdown",
   "metadata": {
    "colab_type": "text",
    "id": "LgqQfelzZTL1"
   },
   "source": [
    "### Train Your Model"
   ]
  },
  {
   "cell_type": "code",
   "execution_count": null,
   "metadata": {
    "colab": {
     "base_uri": "https://localhost:8080/",
     "height": 173
    },
    "colab_type": "code",
    "id": "Neds_0D2ZR9g",
    "outputId": "8b60b4a8-7ff4-4399-9a91-ae25a7eac1d0"
   },
   "outputs": [
    {
     "name": "stdout",
     "output_type": "stream",
     "text": [
      "Epoch 1/2\n",
      "\n",
      "Epoch 00001: saving model to weights_best.h5\n",
      "1875/1875 - 8s - loss: 0.4727 - accuracy: 0.8291 - val_loss: 0.4063 - val_accuracy: 0.8513\n",
      "Epoch 2/2\n",
      "\n",
      "Epoch 00002: saving model to weights_best.h5\n",
      "1875/1875 - 7s - loss: 0.3538 - accuracy: 0.8692 - val_loss: 0.3695 - val_accuracy: 0.8634\n"
     ]
    },
    {
     "data": {
      "text/plain": [
       "<tensorflow.python.keras.callbacks.History at 0x7f816fc437b8>"
      ]
     },
     "execution_count": 13,
     "metadata": {
      "tags": []
     },
     "output_type": "execute_result"
    }
   ],
   "source": [
    "import tensorflow as tf\n",
    "\n",
    "cpoint = tf.keras.callbacks.ModelCheckpoint(\"weights_best.h5\",\n",
    "                                            verbose=1, \n",
    "                                            save_weights_only=True)\n",
    "\n",
    "\n",
    "def create_model():\n",
    "  model = tf.keras.Sequential([\n",
    "      Flatten(input_shape=(28,28)),\n",
    "      Dense(128),\n",
    "      ReLU(negative_slope=.01),\n",
    "      Dense(128),\n",
    "      ReLU(negative_slope=.01),\n",
    "      Dense(128),\n",
    "      ReLU(negative_slope=.01),\n",
    "      Dense(10, activation='softmax')\n",
    "  ])\n",
    "\n",
    "  model.compile(loss='sparse_categorical_crossentropy', optimizer='nadam',\n",
    "                metrics=['accuracy'])\n",
    "\n",
    "  return model\n",
    "\n",
    "model = create_model()\n",
    "\n",
    "model.fit(X_train, y_train, epochs=2, \n",
    "          validation_data=(X_test,y_test),\n",
    "          verbose=2,\n",
    "          callbacks=[cpoint])"
   ]
  },
  {
   "cell_type": "code",
   "execution_count": null,
   "metadata": {
    "colab": {
     "base_uri": "https://localhost:8080/",
     "height": 52
    },
    "colab_type": "code",
    "id": "50dK2VnuHMZm",
    "outputId": "9ffb182a-bfec-4c13-933d-2cc5a71c6222"
   },
   "outputs": [
    {
     "name": "stdout",
     "output_type": "stream",
     "text": [
      "313/313 [==============================] - 0s 1ms/step - loss: 0.3695 - accuracy: 0.8634\n"
     ]
    },
    {
     "data": {
      "text/plain": [
       "[0.3694605231285095, 0.8633999824523926]"
      ]
     },
     "execution_count": 14,
     "metadata": {
      "tags": []
     },
     "output_type": "execute_result"
    }
   ],
   "source": [
    "model.evaluate(X_test, y_test)"
   ]
  },
  {
   "cell_type": "markdown",
   "metadata": {
    "colab_type": "text",
    "id": "SVSTU7UJZYI1"
   },
   "source": [
    "### Load Exported Model"
   ]
  },
  {
   "cell_type": "code",
   "execution_count": null,
   "metadata": {
    "colab": {
     "base_uri": "https://localhost:8080/",
     "height": 434
    },
    "colab_type": "code",
    "id": "IfePv6zXHQoq",
    "outputId": "bac3951f-75d2-47e4-e54b-ea6c89c2ecc7"
   },
   "outputs": [
    {
     "name": "stdout",
     "output_type": "stream",
     "text": [
      "Model: \"sequential_5\"\n",
      "_________________________________________________________________\n",
      "Layer (type)                 Output Shape              Param #   \n",
      "=================================================================\n",
      "flatten_5 (Flatten)          (None, 784)               0         \n",
      "_________________________________________________________________\n",
      "dense_20 (Dense)             (None, 128)               100480    \n",
      "_________________________________________________________________\n",
      "re_lu_15 (ReLU)              (None, 128)               0         \n",
      "_________________________________________________________________\n",
      "dense_21 (Dense)             (None, 128)               16512     \n",
      "_________________________________________________________________\n",
      "re_lu_16 (ReLU)              (None, 128)               0         \n",
      "_________________________________________________________________\n",
      "dense_22 (Dense)             (None, 128)               16512     \n",
      "_________________________________________________________________\n",
      "re_lu_17 (ReLU)              (None, 128)               0         \n",
      "_________________________________________________________________\n",
      "dense_23 (Dense)             (None, 10)                1290      \n",
      "=================================================================\n",
      "Total params: 134,794\n",
      "Trainable params: 134,794\n",
      "Non-trainable params: 0\n",
      "_________________________________________________________________\n"
     ]
    }
   ],
   "source": [
    "m = create_model()  # Start with same architecture\n",
    "m.load_weights('./weights_best.h5')  # Load instead of train\n",
    "m.summary()"
   ]
  },
  {
   "cell_type": "code",
   "execution_count": null,
   "metadata": {
    "colab": {
     "base_uri": "https://localhost:8080/",
     "height": 52
    },
    "colab_type": "code",
    "id": "os-eSxMbHb3s",
    "outputId": "4d6dad61-3f93-40c7-ed82-36fa7d8a586b"
   },
   "outputs": [
    {
     "name": "stdout",
     "output_type": "stream",
     "text": [
      "313/313 [==============================] - 0s 1ms/step - loss: 0.3695 - accuracy: 0.8634\n"
     ]
    },
    {
     "data": {
      "text/plain": [
       "[0.3694605231285095, 0.8633999824523926]"
      ]
     },
     "execution_count": 16,
     "metadata": {
      "tags": []
     },
     "output_type": "execute_result"
    }
   ],
   "source": [
    "m.evaluate(X_test, y_test)"
   ]
  },
  {
   "cell_type": "code",
   "execution_count": null,
   "metadata": {
    "colab": {
     "base_uri": "https://localhost:8080/",
     "height": 332
    },
    "colab_type": "code",
    "id": "kI8KHA87UUU1",
    "outputId": "cae48f83-c4b7-4fba-c2cf-02e001649746"
   },
   "outputs": [
    {
     "name": "stdout",
     "output_type": "stream",
     "text": [
      "Epoch 1/5\n",
      "1875/1875 [==============================] - 8s 4ms/step - loss: 0.4775 - accuracy: 0.8272\n",
      "Epoch 2/5\n",
      "1875/1875 [==============================] - 8s 4ms/step - loss: 0.3524 - accuracy: 0.8698\n",
      "Epoch 3/5\n",
      "1875/1875 [==============================] - 8s 4ms/step - loss: 0.3194 - accuracy: 0.8824\n",
      "Epoch 4/5\n",
      "1875/1875 [==============================] - 8s 4ms/step - loss: 0.2985 - accuracy: 0.8873\n",
      "Epoch 5/5\n",
      "1875/1875 [==============================] - 8s 4ms/step - loss: 0.2814 - accuracy: 0.8952\n",
      "WARNING:tensorflow:From /usr/local/lib/python3.6/dist-packages/tensorflow/python/training/tracking/tracking.py:111: Model.state_updates (from tensorflow.python.keras.engine.training) is deprecated and will be removed in a future version.\n",
      "Instructions for updating:\n",
      "This property should not be used in TensorFlow 2.0, as updates are applied automatically.\n",
      "WARNING:tensorflow:From /usr/local/lib/python3.6/dist-packages/tensorflow/python/training/tracking/tracking.py:111: Layer.updates (from tensorflow.python.keras.engine.base_layer) is deprecated and will be removed in a future version.\n",
      "Instructions for updating:\n",
      "This property should not be used in TensorFlow 2.0, as updates are applied automatically.\n",
      "INFO:tensorflow:Assets written to: saved_model/my_model/assets\n"
     ]
    }
   ],
   "source": [
    "# Save entire model\n",
    "# i.e. both weights and architecture\n",
    "# Create and train a new model instance.\n",
    "model = create_model()\n",
    "model.fit(X_train, y_train, epochs=5)\n",
    "\n",
    "# Save the entire model as a SavedModel.\n",
    "!mkdir -p saved_model\n",
    "model.save('saved_model/my_model') "
   ]
  },
  {
   "cell_type": "code",
   "execution_count": 1,
   "metadata": {
    "colab": {
     "base_uri": "https://localhost:8080/",
     "height": 52
    },
    "colab_type": "code",
    "id": "bZrXFdjDIMa_",
    "outputId": "893422ff-8181-4c2d-85c8-772a760b67c0"
   },
   "outputs": [
    {
     "ename": "NameError",
     "evalue": "name 'model' is not defined",
     "output_type": "error",
     "traceback": [
      "\u001b[0;31m---------------------------------------------------------------------------\u001b[0m",
      "\u001b[0;31mNameError\u001b[0m                                 Traceback (most recent call last)",
      "\u001b[0;32m<ipython-input-1-acc519fcce62>\u001b[0m in \u001b[0;36m<module>\u001b[0;34m\u001b[0m\n\u001b[0;32m----> 1\u001b[0;31m \u001b[0mmodel\u001b[0m\u001b[0;34m.\u001b[0m\u001b[0mevaluate\u001b[0m\u001b[0;34m(\u001b[0m\u001b[0mX_test\u001b[0m\u001b[0;34m,\u001b[0m \u001b[0my_test\u001b[0m\u001b[0;34m)\u001b[0m\u001b[0;34m\u001b[0m\u001b[0;34m\u001b[0m\u001b[0m\n\u001b[0m",
      "\u001b[0;31mNameError\u001b[0m: name 'model' is not defined"
     ]
    }
   ],
   "source": [
    "model.evaluate(X_test, y_test)"
   ]
  },
  {
   "cell_type": "code",
   "execution_count": null,
   "metadata": {
    "colab": {
     "base_uri": "https://localhost:8080/",
     "height": 434
    },
    "colab_type": "code",
    "id": "aTgNxYlrH2N9",
    "outputId": "7217170e-41f0-482c-c067-80ca2fd74076"
   },
   "outputs": [
    {
     "name": "stdout",
     "output_type": "stream",
     "text": [
      "Model: \"sequential_6\"\n",
      "_________________________________________________________________\n",
      "Layer (type)                 Output Shape              Param #   \n",
      "=================================================================\n",
      "flatten_6 (Flatten)          (None, 784)               0         \n",
      "_________________________________________________________________\n",
      "dense_24 (Dense)             (None, 128)               100480    \n",
      "_________________________________________________________________\n",
      "re_lu_18 (ReLU)              (None, 128)               0         \n",
      "_________________________________________________________________\n",
      "dense_25 (Dense)             (None, 128)               16512     \n",
      "_________________________________________________________________\n",
      "re_lu_19 (ReLU)              (None, 128)               0         \n",
      "_________________________________________________________________\n",
      "dense_26 (Dense)             (None, 128)               16512     \n",
      "_________________________________________________________________\n",
      "re_lu_20 (ReLU)              (None, 128)               0         \n",
      "_________________________________________________________________\n",
      "dense_27 (Dense)             (None, 10)                1290      \n",
      "=================================================================\n",
      "Total params: 134,794\n",
      "Trainable params: 134,794\n",
      "Non-trainable params: 0\n",
      "_________________________________________________________________\n"
     ]
    }
   ],
   "source": [
    "# Load it back fresh, including weights and architecture\n",
    "\n",
    "new_model = tf.keras.models.load_model('saved_model/my_model')\n",
    "# Recompiling the model tells it how to calculate accuracy correctly :)\n",
    "new_model.summary()"
   ]
  },
  {
   "cell_type": "code",
   "execution_count": null,
   "metadata": {
    "colab": {},
    "colab_type": "code",
    "id": "x769EqswCBtc"
   },
   "outputs": [],
   "source": [
    "# Saving the \"full model\" does save the architecture and weights\n",
    "# but not the compile details (since those aren't really needed for inference)\n",
    "new_model.compile(loss='sparse_categorical_crossentropy', optimizer='nadam',\n",
    "                  metrics=['accuracy'])"
   ]
  },
  {
   "cell_type": "code",
   "execution_count": null,
   "metadata": {
    "colab": {
     "base_uri": "https://localhost:8080/",
     "height": 52
    },
    "colab_type": "code",
    "id": "DysnBWVGCMZq",
    "outputId": "eb234655-bc8d-4f61-9ebc-3cc22df68c0a"
   },
   "outputs": [
    {
     "name": "stdout",
     "output_type": "stream",
     "text": [
      "313/313 [==============================] - 0s 1ms/step - loss: 0.3451 - accuracy: 0.8776\n"
     ]
    },
    {
     "data": {
      "text/plain": [
       "[0.3450511693954468, 0.8776000142097473]"
      ]
     },
     "execution_count": 21,
     "metadata": {
      "tags": []
     },
     "output_type": "execute_result"
    }
   ],
   "source": [
    "new_model.evaluate(X_test, y_test)"
   ]
  },
  {
   "cell_type": "code",
   "execution_count": null,
   "metadata": {
    "colab": {
     "base_uri": "https://localhost:8080/",
     "height": 156
    },
    "colab_type": "code",
    "id": "HaV3wafoItlT",
    "outputId": "bac35218-35a6-4d55-bb8f-d5f97433160d"
   },
   "outputs": [
    {
     "name": "stdout",
     "output_type": "stream",
     "text": [
      "total 572K\n",
      "drwxr-xr-x 1 root root 4.0K Sep 10 22:16 .\n",
      "drwxr-xr-x 1 root root 4.0K Sep 10 21:57 ..\n",
      "drwxr-xr-x 1 root root 4.0K Aug 31 16:13 .config\n",
      "drwxr-xr-x 6 root root 4.0K Sep 10 22:13 logs\n",
      "drwxr-xr-x 1 root root 4.0K Aug 27 16:39 sample_data\n",
      "drwxr-xr-x 3 root root 4.0K Sep 10 22:16 saved_model\n",
      "-rw-r--r-- 1 root root 547K Sep 10 22:15 weights_best.h5\n"
     ]
    }
   ],
   "source": [
    "!ls -alh  # Half a meg for a model"
   ]
  },
  {
   "cell_type": "code",
   "execution_count": null,
   "metadata": {
    "colab": {},
    "colab_type": "code",
    "id": "DFTk1TWNKuKf"
   },
   "outputs": [],
   "source": [
    "# One way to reduce size - reduce architecture! (# of layers, neurons)"
   ]
  },
  {
   "cell_type": "code",
   "execution_count": null,
   "metadata": {
    "colab": {
     "base_uri": "https://localhost:8080/"
    },
    "colab_type": "code",
    "id": "8OMhZb7zKFoL",
    "outputId": "2aa42112-542e-4369-a9c4-22a75ab918eb"
   },
   "outputs": [
    {
     "data": {
      "text/plain": [
       "3.141592653589793"
      ]
     },
     "execution_count": 24,
     "metadata": {
      "tags": []
     },
     "output_type": "execute_result"
    }
   ],
   "source": [
    "float(3.1415926535897932384626)  # It loses some numbers!"
   ]
  },
  {
   "cell_type": "code",
   "execution_count": null,
   "metadata": {
    "colab": {
     "base_uri": "https://localhost:8080/",
     "height": 34
    },
    "colab_type": "code",
    "id": "dkn9dRYHKWzs",
    "outputId": "9956b4ac-2287-4a6d-e21c-04c17208435b"
   },
   "outputs": [
    {
     "data": {
      "text/plain": [
       "3.14159"
      ]
     },
     "execution_count": 25,
     "metadata": {
      "tags": []
     },
     "output_type": "execute_result"
    }
   ],
   "source": [
    "# Floating point numbers are stored at a certain precision\n",
    "# in number of bits - e.g. 16, 32, etc.\n",
    "# Above that precision, numbers are rounded off\n",
    "\n",
    "# When you train, you want full precision! Training is sensitive...\n",
    "# But at the very end, it may be okay to reduce\n",
    "\n",
    "# Another way to reduce size - go from e.g. 32 bit numbers\n",
    "# to 16 or 8 bit numbers\n",
    "# Basically truncate/round numbers\n",
    "float(3.14159)"
   ]
  },
  {
   "cell_type": "code",
   "execution_count": null,
   "metadata": {
    "colab": {},
    "colab_type": "code",
    "id": "CtoVzoMOLC5U"
   },
   "outputs": [],
   "source": [
    "# Keep same number of parameters, but less info/detail per parameter"
   ]
  },
  {
   "cell_type": "markdown",
   "metadata": {
    "colab_type": "text",
    "id": "d6mAg8tpZdzd"
   },
   "source": [
    "### Move Weights to Web Application\n",
    "\n",
    "Not all models are small enough to work well in-browser. Many neural networks are deploy as micro-service APIs. Micro-service APIs are the architecture you studied during Unit 3. "
   ]
  },
  {
   "cell_type": "code",
   "execution_count": null,
   "metadata": {
    "colab": {},
    "colab_type": "code",
    "id": "0Iz_yr_7ZmGc"
   },
   "outputs": [],
   "source": [
    "# Stretch - https://www.tensorflow.org/js"
   ]
  },
  {
   "cell_type": "markdown",
   "metadata": {
    "colab_type": "text",
    "id": "9i7OMOhzc6WT"
   },
   "source": [
    "## Challenge\n",
    "\n",
    "You will be expected to be able to export your model weights and architecutre on the assignment."
   ]
  },
  {
   "cell_type": "markdown",
   "metadata": {
    "colab_type": "text",
    "id": "rXnXxPCZiAb2"
   },
   "source": [
    "# Custom Callbacks (Learn)"
   ]
  },
  {
   "cell_type": "markdown",
   "metadata": {
    "colab_type": "text",
    "id": "z6vO6xbkiFGb"
   },
   "source": [
    "## Overview\n",
    "\n",
    "Custom callbacks all you to access data at any point during the training: on batch end, on epoch end, on epoch start, on batch start. Our use case today is a simple one. Let's stop training once we reach a benchmark accuracy."
   ]
  },
  {
   "cell_type": "markdown",
   "metadata": {
    "colab_type": "text",
    "id": "lCocRF5CiYG_"
   },
   "source": [
    "## Follow Along"
   ]
  },
  {
   "cell_type": "code",
   "execution_count": null,
   "metadata": {
    "colab": {},
    "colab_type": "code",
    "id": "gmtMJBBriD2Q"
   },
   "outputs": [],
   "source": []
  },
  {
   "cell_type": "markdown",
   "metadata": {
    "colab_type": "text",
    "id": "bOisQxYlibOi"
   },
   "source": [
    "## Challenge\n",
    "\n",
    "Experiment with improving our custom callback function. "
   ]
  }
 ],
 "metadata": {
  "colab": {
   "collapsed_sections": [],
   "name": "LS_DS17_424_Deploy_Lecture.ipynb",
   "provenance": []
  },
  "kernelspec": {
   "display_name": "Python 3",
   "language": "python",
   "name": "python3"
  },
  "language_info": {
   "codemirror_mode": {
    "name": "ipython",
    "version": 3
   },
   "file_extension": ".py",
   "mimetype": "text/x-python",
   "name": "python",
   "nbconvert_exporter": "python",
   "pygments_lexer": "ipython3",
   "version": "3.8.5"
  },
  "toc-autonumbering": false,
  "toc-showmarkdowntxt": false
 },
 "nbformat": 4,
 "nbformat_minor": 4
}
